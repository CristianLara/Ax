{
 "cells": [
  {
   "cell_type": "markdown",
   "id": "fb89521d",
   "metadata": {
    "tags": [
     "papermill-error-cell-tag"
    ]
   },
   "source": [
    "<span style=\"color:red; font-family:Helvetica Neue, Helvetica, Arial, sans-serif; font-size:2em;\">An Exception was encountered at '<a href=\"#papermill-error-cell\">In [14]</a>'.</span>"
   ]
  },
  {
   "attachments": {},
   "cell_type": "markdown",
   "id": "12fe3797",
   "metadata": {
    "papermill": {
     "duration": 0.005483,
     "end_time": "2024-09-30T20:59:41.599374",
     "exception": false,
     "start_time": "2024-09-30T20:59:41.593891",
     "status": "completed"
    },
    "tags": []
   },
   "source": [
    "## Trial-level early stopping in Ax\n",
    "\n",
    "This tutorial illustrates how to add a trial-level early stopping strategy to an Ax hyper-parameter optimization (HPO) loop. The goal of trial-level early stopping is to monitor the results of expensive evaluations and terminate those that are unlikely to produce promising results, freeing up resources to explore more configurations.\n",
    "\n",
    "Most of this tutorial is adapted from the [PyTorch Ax Multiobjective NAS Tutorial](https://pytorch.org/tutorials/intermediate/ax_multiobjective_nas_tutorial.html). The training job is different from the original in that we do not optimize `batch_size` or `epochs`. This was done for illustrative purposes, as each validation curve now has the same number of points. The companion training file `mnist_train_nas.py` has also been altered to log to Tensorboard during training.\n",
    "\n",
    "NOTE: Although the original NAS tutorial is for a multi-objective problem, this tutorial focuses on a single objective (validation accuracy) problem. Early stopping currently does not support \\\"true\\\" multi-objective stopping, although one can use [logical compositions of early stopping strategies](https://github.com/facebook/Ax/blob/main/ax/early_stopping/strategies/logical.py) to target multiple objectives separately. Early stopping for the multi-objective case is currently a work in progress."
   ]
  },
  {
   "cell_type": "code",
   "execution_count": 1,
   "id": "cb953f30",
   "metadata": {
    "execution": {
     "iopub.execute_input": "2024-09-30T20:59:41.605772Z",
     "iopub.status.busy": "2024-09-30T20:59:41.605572Z",
     "iopub.status.idle": "2024-09-30T20:59:47.880474Z",
     "shell.execute_reply": "2024-09-30T20:59:47.880166Z"
    },
    "papermill": {
     "duration": 6.27957,
     "end_time": "2024-09-30T20:59:47.881885",
     "exception": false,
     "start_time": "2024-09-30T20:59:41.602315",
     "status": "completed"
    },
    "tags": []
   },
   "outputs": [],
   "source": [
    "import os\n",
    "import tempfile\n",
    "\n",
    "from pathlib import Path\n",
    "\n",
    "import torchx\n",
    "\n",
    "from ax.core import Experiment, Objective, ParameterType, RangeParameter, SearchSpace\n",
    "from ax.core.optimization_config import OptimizationConfig\n",
    "\n",
    "from ax.early_stopping.strategies import PercentileEarlyStoppingStrategy\n",
    "from ax.metrics.tensorboard import TensorboardMetric\n",
    "\n",
    "from ax.modelbridge.dispatch_utils import choose_generation_strategy\n",
    "\n",
    "from ax.runners.torchx import TorchXRunner\n",
    "\n",
    "from ax.service.scheduler import Scheduler, SchedulerOptions\n",
    "from ax.service.utils.report_utils import exp_to_df\n",
    "\n",
    "from tensorboard.backend.event_processing import plugin_event_multiplexer as event_multiplexer\n",
    "\n",
    "from torchx import specs\n",
    "from torchx.components import utils\n",
    "\n",
    "from matplotlib import pyplot as plt\n",
    "\n",
    "\n",
    "%matplotlib inline"
   ]
  },
  {
   "cell_type": "code",
   "execution_count": 2,
   "id": "8a7bd328",
   "metadata": {
    "execution": {
     "iopub.execute_input": "2024-09-30T20:59:47.888603Z",
     "iopub.status.busy": "2024-09-30T20:59:47.888398Z",
     "iopub.status.idle": "2024-09-30T20:59:47.890192Z",
     "shell.execute_reply": "2024-09-30T20:59:47.889947Z"
    },
    "papermill": {
     "duration": 0.006347,
     "end_time": "2024-09-30T20:59:47.891172",
     "exception": false,
     "start_time": "2024-09-30T20:59:47.884825",
     "status": "completed"
    },
    "tags": []
   },
   "outputs": [],
   "source": [
    "SMOKE_TEST = os.environ.get(\"SMOKE_TEST\")"
   ]
  },
  {
   "attachments": {},
   "cell_type": "markdown",
   "id": "fe2cf6fe",
   "metadata": {
    "papermill": {
     "duration": 0.004527,
     "end_time": "2024-09-30T20:59:47.898821",
     "exception": false,
     "start_time": "2024-09-30T20:59:47.894294",
     "status": "completed"
    },
    "tags": []
   },
   "source": [
    "## Defining the TorchX App\n",
    "\n",
    "Our goal is to optimize the PyTorch Lightning training job defined in\n",
    "[mnist_train_nas.py](https://github.com/pytorch/tutorials/tree/master/intermediate_source/mnist_train_nas.py)_.\n",
    "To do this using TorchX, we write a helper function that takes in\n",
    "the values of the architcture and hyperparameters of the training\n",
    "job and creates a [TorchX AppDef](https://pytorch.org/torchx/latest/basics.html)_\n",
    "with the appropriate settings.\n",
    "\n"
   ]
  },
  {
   "cell_type": "code",
   "execution_count": 3,
   "id": "2e21d309",
   "metadata": {
    "execution": {
     "iopub.execute_input": "2024-09-30T20:59:47.904613Z",
     "iopub.status.busy": "2024-09-30T20:59:47.904462Z",
     "iopub.status.idle": "2024-09-30T20:59:47.906181Z",
     "shell.execute_reply": "2024-09-30T20:59:47.905922Z"
    },
    "papermill": {
     "duration": 0.005664,
     "end_time": "2024-09-30T20:59:47.907081",
     "exception": false,
     "start_time": "2024-09-30T20:59:47.901417",
     "status": "completed"
    },
    "tags": []
   },
   "outputs": [],
   "source": [
    "if SMOKE_TEST:\n",
    "    epochs = 3\n",
    "else:\n",
    "    epochs = 10"
   ]
  },
  {
   "cell_type": "code",
   "execution_count": 4,
   "id": "b423923c",
   "metadata": {
    "execution": {
     "iopub.execute_input": "2024-09-30T20:59:47.918095Z",
     "iopub.status.busy": "2024-09-30T20:59:47.917802Z",
     "iopub.status.idle": "2024-09-30T20:59:47.920504Z",
     "shell.execute_reply": "2024-09-30T20:59:47.920260Z"
    },
    "papermill": {
     "duration": 0.011359,
     "end_time": "2024-09-30T20:59:47.921304",
     "exception": false,
     "start_time": "2024-09-30T20:59:47.909945",
     "status": "completed"
    },
    "tags": []
   },
   "outputs": [],
   "source": [
    "def trainer(\n",
    "    log_path: str,\n",
    "    hidden_size_1: int,\n",
    "    hidden_size_2: int,\n",
    "    learning_rate: float,\n",
    "    dropout: float,\n",
    "    trial_idx: int = -1,\n",
    ") -> specs.AppDef:\n",
    "\n",
    "    # define the log path so we can pass it to the TorchX AppDef\n",
    "    if trial_idx >= 0:\n",
    "        log_path = Path(log_path).joinpath(str(trial_idx)).absolute().as_posix()\n",
    "\n",
    "    batch_size = 32\n",
    "\n",
    "    return utils.python(\n",
    "        # command line args to the training script\n",
    "        \"--log_path\",\n",
    "        log_path,\n",
    "        \"--hidden_size_1\",\n",
    "        str(hidden_size_1),\n",
    "        \"--hidden_size_2\",\n",
    "        str(hidden_size_2),\n",
    "        \"--learning_rate\",\n",
    "        str(learning_rate),\n",
    "        \"--epochs\",\n",
    "        str(epochs),\n",
    "        \"--dropout\",\n",
    "        str(dropout),\n",
    "        \"--batch_size\",\n",
    "        str(batch_size),\n",
    "        # other config options\n",
    "        name=\"trainer\",\n",
    "        script=\"tutorials/early_stopping/mnist_train_nas.py\",\n",
    "        image=torchx.version.TORCHX_IMAGE,\n",
    "    )"
   ]
  },
  {
   "attachments": {},
   "cell_type": "markdown",
   "id": "65f7011d",
   "metadata": {
    "papermill": {
     "duration": 0.002935,
     "end_time": "2024-09-30T20:59:47.927219",
     "exception": false,
     "start_time": "2024-09-30T20:59:47.924284",
     "status": "completed"
    },
    "tags": []
   },
   "source": [
    "## Setting up the Runner\n",
    "\n",
    "Ax’s [Runner](https://ax.dev/api/core.html#ax.core.runner.Runner)\n",
    "abstraction allows writing interfaces to various backends.\n",
    "Ax already comes with Runner for TorchX, so we just need to\n",
    "configure it. For the purpose of this tutorial, we run jobs locally\n",
    "in a fully asynchronous fashion. In order to launch them on a cluster, you can instead specify a\n",
    "different TorchX scheduler and adjust the configuration appropriately.\n",
    "For example, if you have a Kubernetes cluster, you just need to change the\n",
    "scheduler from ``local_cwd`` to ``kubernetes``.\n",
    "\n",
    "The training job launched by this runner will log partial results to Tensorboard, which will then be monitored by the early stopping strategy. We will show how this is done using an Ax \n",
    "[TensorboardMetric](https://ax.dev/api/metrics.html#module-ax.metrics.tensorboard) below."
   ]
  },
  {
   "cell_type": "code",
   "execution_count": 5,
   "id": "998e5835",
   "metadata": {
    "execution": {
     "iopub.execute_input": "2024-09-30T20:59:47.933448Z",
     "iopub.status.busy": "2024-09-30T20:59:47.933170Z",
     "iopub.status.idle": "2024-09-30T20:59:47.942414Z",
     "shell.execute_reply": "2024-09-30T20:59:47.942084Z"
    },
    "papermill": {
     "duration": 0.013695,
     "end_time": "2024-09-30T20:59:47.943568",
     "exception": false,
     "start_time": "2024-09-30T20:59:47.929873",
     "status": "completed"
    },
    "tags": []
   },
   "outputs": [],
   "source": [
    "# Make a temporary dir to log our results into\n",
    "log_dir = tempfile.mkdtemp()\n",
    "\n",
    "ax_runner = TorchXRunner(\n",
    "    tracker_base=\"/tmp/\",\n",
    "    component=trainer,\n",
    "    # NOTE: To launch this job on a cluster instead of locally you can\n",
    "    # specify a different scheduler and adjust args appropriately.\n",
    "    scheduler=\"local_cwd\",\n",
    "    component_const_params={\"log_path\": log_dir},\n",
    "    cfg={},\n",
    ")"
   ]
  },
  {
   "attachments": {},
   "cell_type": "markdown",
   "id": "2fec7495",
   "metadata": {
    "papermill": {
     "duration": 0.00339,
     "end_time": "2024-09-30T20:59:47.954286",
     "exception": false,
     "start_time": "2024-09-30T20:59:47.950896",
     "status": "completed"
    },
    "tags": []
   },
   "source": [
    "## Setting up the SearchSpace\n",
    "\n",
    "First, we define our search space. Ax supports both range parameters\n",
    "of type integer and float as well as choice parameters which can have\n",
    "non-numerical types such as strings.\n",
    "We will tune the hidden sizes, learning rate, and dropout parameters."
   ]
  },
  {
   "cell_type": "code",
   "execution_count": 6,
   "id": "cf6f869f",
   "metadata": {
    "execution": {
     "iopub.execute_input": "2024-09-30T20:59:47.960519Z",
     "iopub.status.busy": "2024-09-30T20:59:47.960331Z",
     "iopub.status.idle": "2024-09-30T20:59:47.963098Z",
     "shell.execute_reply": "2024-09-30T20:59:47.962698Z"
    },
    "papermill": {
     "duration": 0.007143,
     "end_time": "2024-09-30T20:59:47.964184",
     "exception": false,
     "start_time": "2024-09-30T20:59:47.957041",
     "status": "completed"
    },
    "tags": []
   },
   "outputs": [],
   "source": [
    "parameters = [\n",
    "    # NOTE: In a real-world setting, hidden_size_1 and hidden_size_2\n",
    "    # should probably be powers of 2, but in our simple example this\n",
    "    # would mean that num_params can't take on that many values, which\n",
    "    # in turn makes the Pareto frontier look pretty weird.\n",
    "    RangeParameter(\n",
    "        name=\"hidden_size_1\",\n",
    "        lower=16,\n",
    "        upper=128,\n",
    "        parameter_type=ParameterType.INT,\n",
    "        log_scale=True,\n",
    "    ),\n",
    "    RangeParameter(\n",
    "        name=\"hidden_size_2\",\n",
    "        lower=16,\n",
    "        upper=128,\n",
    "        parameter_type=ParameterType.INT,\n",
    "        log_scale=True,\n",
    "    ),\n",
    "    RangeParameter(\n",
    "        name=\"learning_rate\",\n",
    "        lower=1e-4,\n",
    "        upper=1e-2,\n",
    "        parameter_type=ParameterType.FLOAT,\n",
    "        log_scale=True,\n",
    "    ),\n",
    "    RangeParameter(\n",
    "        name=\"dropout\",\n",
    "        lower=0.0,\n",
    "        upper=0.5,\n",
    "        parameter_type=ParameterType.FLOAT,\n",
    "    ),\n",
    "]\n",
    "\n",
    "search_space = SearchSpace(\n",
    "    parameters=parameters,\n",
    "    # NOTE: In practice, it may make sense to add a constraint\n",
    "    # hidden_size_2 <= hidden_size_1\n",
    "    parameter_constraints=[],\n",
    ")"
   ]
  },
  {
   "attachments": {},
   "cell_type": "markdown",
   "id": "a8005e80",
   "metadata": {
    "papermill": {
     "duration": 0.002827,
     "end_time": "2024-09-30T20:59:47.969449",
     "exception": false,
     "start_time": "2024-09-30T20:59:47.966622",
     "status": "completed"
    },
    "tags": []
   },
   "source": [
    "## Setting up Metrics\n",
    "\n",
    "Ax has the concept of a Metric that defines properties of outcomes and how observations are obtained for these outcomes. This allows e.g. encodig how data is fetched from some distributed execution backend and post-processed before being passed as input to Ax.\n",
    "\n",
    "We will optimize the validation accuracy, which is a `TensorboardMetric` that points to the logging directory assigned above. Note that we have set `is_available_while_running`, allowing for the metric to be queried as the trial progresses. This is critical for the early stopping strategy to monitor partial results."
   ]
  },
  {
   "cell_type": "code",
   "execution_count": 7,
   "id": "0775a96e",
   "metadata": {
    "execution": {
     "iopub.execute_input": "2024-09-30T20:59:47.975267Z",
     "iopub.status.busy": "2024-09-30T20:59:47.975093Z",
     "iopub.status.idle": "2024-09-30T20:59:47.977568Z",
     "shell.execute_reply": "2024-09-30T20:59:47.977250Z"
    },
    "papermill": {
     "duration": 0.00654,
     "end_time": "2024-09-30T20:59:47.978525",
     "exception": false,
     "start_time": "2024-09-30T20:59:47.971985",
     "status": "completed"
    },
    "tags": []
   },
   "outputs": [],
   "source": [
    "class MyTensorboardMetric(TensorboardMetric):\n",
    "\n",
    "    # NOTE: We need to tell the new Tensorboard metric how to get the id /\n",
    "    # file handle for the tensorboard logs from a trial. In this case\n",
    "    # our convention is to just save a separate file per trial in\n",
    "    # the pre-specified log dir.\n",
    "    def _get_event_multiplexer_for_trial(self, trial):\n",
    "        mul = event_multiplexer.EventMultiplexer(max_reload_threads=20)\n",
    "        mul.AddRunsFromDirectory(Path(log_dir).joinpath(str(trial.index)).as_posix(), None)\n",
    "        mul.Reload()\n",
    "\n",
    "        return mul\n",
    "\n",
    "    # This indicates whether the metric is queryable while the trial is\n",
    "    # still running. This is required for early stopping to monitor the\n",
    "    # progress of the running trial.ArithmeticError\n",
    "    @classmethod\n",
    "    def is_available_while_running(cls):\n",
    "        return True"
   ]
  },
  {
   "cell_type": "code",
   "execution_count": 8,
   "id": "a5c5a7d0",
   "metadata": {
    "execution": {
     "iopub.execute_input": "2024-09-30T20:59:47.987402Z",
     "iopub.status.busy": "2024-09-30T20:59:47.987173Z",
     "iopub.status.idle": "2024-09-30T20:59:47.989052Z",
     "shell.execute_reply": "2024-09-30T20:59:47.988799Z"
    },
    "papermill": {
     "duration": 0.006247,
     "end_time": "2024-09-30T20:59:47.990194",
     "exception": false,
     "start_time": "2024-09-30T20:59:47.983947",
     "status": "completed"
    },
    "tags": []
   },
   "outputs": [],
   "source": [
    "val_acc = MyTensorboardMetric(\n",
    "    name=\"val_acc\",\n",
    "    tag=\"val_acc\",\n",
    "    lower_is_better=False,\n",
    ")"
   ]
  },
  {
   "attachments": {},
   "cell_type": "markdown",
   "id": "d4f3ba5d",
   "metadata": {
    "papermill": {
     "duration": 0.00273,
     "end_time": "2024-09-30T20:59:47.995654",
     "exception": false,
     "start_time": "2024-09-30T20:59:47.992924",
     "status": "completed"
    },
    "tags": []
   },
   "source": [
    "## Setting up the OptimizationConfig\n",
    "\n",
    "The `OptimizationConfig` specifies the objective for Ax to optimize."
   ]
  },
  {
   "cell_type": "code",
   "execution_count": 9,
   "id": "ada66cf3",
   "metadata": {
    "execution": {
     "iopub.execute_input": "2024-09-30T20:59:48.001456Z",
     "iopub.status.busy": "2024-09-30T20:59:48.001236Z",
     "iopub.status.idle": "2024-09-30T20:59:48.003264Z",
     "shell.execute_reply": "2024-09-30T20:59:48.002923Z"
    },
    "papermill": {
     "duration": 0.006211,
     "end_time": "2024-09-30T20:59:48.004353",
     "exception": false,
     "start_time": "2024-09-30T20:59:47.998142",
     "status": "completed"
    },
    "tags": []
   },
   "outputs": [],
   "source": [
    "opt_config = OptimizationConfig(\n",
    "    objective=Objective(\n",
    "        metric=val_acc,\n",
    "        minimize=False,\n",
    "    )\n",
    ")"
   ]
  },
  {
   "attachments": {},
   "cell_type": "markdown",
   "id": "57aa9cf7",
   "metadata": {
    "papermill": {
     "duration": 0.002406,
     "end_time": "2024-09-30T20:59:48.009596",
     "exception": false,
     "start_time": "2024-09-30T20:59:48.007190",
     "status": "completed"
    },
    "tags": []
   },
   "source": [
    "## Defining an Early Stopping Strategy\n",
    "\n",
    "A `PercentileEarlyStoppingStrategy` is a simple method that stops a trial if its performance falls below a certain percentile of other trials at the same step (e.g., when `percentile_threshold` is 50, at a given point in time, if a trial ranks in the bottom 50% of trials, it is stopped). \n",
    "- We make use of `normalize_progressions` which normalizes the progression column (e.g. timestamp, epochs, training data used) to be in [0, 1]. This is useful because one doesn't need to know the maximum progression values of the curve (which might be, e.g., the total number of data points in the training dataset).\n",
    "- The `min_progression` parameter specifies that trials should only be considered for stopping if the latest progression value is greater than this threshold.\n",
    "- The `min_curves` parameter specifies the minimum number of completed curves (i.e., fully completed training jobs) before early stopping will be considered. This should be larger than zero if `normalize_progression` is used. In general, we want a few completed curves to have a baseline for comparison.\n",
    "\n",
    "Note that `PercentileEarlyStoppingStrategy` does not make use of learning curve modeling or prediction. More sophisticated model-based methods will be available in future versions of Ax."
   ]
  },
  {
   "cell_type": "code",
   "execution_count": 10,
   "id": "949e8ab5",
   "metadata": {
    "execution": {
     "iopub.execute_input": "2024-09-30T20:59:48.016272Z",
     "iopub.status.busy": "2024-09-30T20:59:48.016051Z",
     "iopub.status.idle": "2024-09-30T20:59:48.018095Z",
     "shell.execute_reply": "2024-09-30T20:59:48.017832Z"
    },
    "papermill": {
     "duration": 0.006795,
     "end_time": "2024-09-30T20:59:48.018931",
     "exception": false,
     "start_time": "2024-09-30T20:59:48.012136",
     "status": "completed"
    },
    "tags": []
   },
   "outputs": [],
   "source": [
    "percentile_early_stopping_strategy = PercentileEarlyStoppingStrategy(\n",
    "    # stop if in bottom 70% of runs at the same progression\n",
    "    percentile_threshold=70,\n",
    "    # the trial must have passed `min_progression` steps before early stopping is initiated\n",
    "    # note that we are using `normalize_progressions`, so this is on a scale of [0, 1]\n",
    "    min_progression=0.3,\n",
    "    # there must be `min_curves` completed trials and `min_curves` trials reporting data in\n",
    "    # order for early stopping to be applicable\n",
    "    min_curves=5,\n",
    "    # specify, e.g., [0, 1] if the first two trials should never be stopped\n",
    "    trial_indices_to_ignore=None,\n",
    "    # check for new data every 10 seconds\n",
    "    seconds_between_polls=10,\n",
    "    normalize_progressions=True,\n",
    ")"
   ]
  },
  {
   "attachments": {},
   "cell_type": "markdown",
   "id": "2665ca93",
   "metadata": {
    "papermill": {
     "duration": 0.002588,
     "end_time": "2024-09-30T20:59:48.025646",
     "exception": false,
     "start_time": "2024-09-30T20:59:48.023058",
     "status": "completed"
    },
    "tags": []
   },
   "source": [
    "## Creating the Ax Experiment\n",
    "\n",
    "In Ax, the Experiment object is the object that stores all the information about the problem setup."
   ]
  },
  {
   "cell_type": "code",
   "execution_count": 11,
   "id": "12849b31",
   "metadata": {
    "execution": {
     "iopub.execute_input": "2024-09-30T20:59:48.031402Z",
     "iopub.status.busy": "2024-09-30T20:59:48.031235Z",
     "iopub.status.idle": "2024-09-30T20:59:48.033117Z",
     "shell.execute_reply": "2024-09-30T20:59:48.032831Z"
    },
    "papermill": {
     "duration": 0.006073,
     "end_time": "2024-09-30T20:59:48.034115",
     "exception": false,
     "start_time": "2024-09-30T20:59:48.028042",
     "status": "completed"
    },
    "tags": []
   },
   "outputs": [],
   "source": [
    "experiment = Experiment(\n",
    "    name=\"torchx_mnist\",\n",
    "    search_space=search_space,\n",
    "    optimization_config=opt_config,\n",
    "    runner=ax_runner,\n",
    ")"
   ]
  },
  {
   "attachments": {},
   "cell_type": "markdown",
   "id": "49a4ed0e",
   "metadata": {
    "papermill": {
     "duration": 0.002559,
     "end_time": "2024-09-30T20:59:48.044325",
     "exception": false,
     "start_time": "2024-09-30T20:59:48.041766",
     "status": "completed"
    },
    "tags": []
   },
   "source": [
    "## Choosing the GenerationStrategy\n",
    "\n",
    "A [GenerationStrategy](https://ax.dev/api/modelbridge.html#ax.modelbridge.generation_strategy.GenerationStrategy)\n",
    "is the abstract representation of how we would like to perform the\n",
    "optimization. While this can be customized (if you’d like to do so, see\n",
    "[this tutorial](https://ax.dev/tutorials/generation_strategy.html)),\n",
    "in most cases Ax can automatically determine an appropriate strategy\n",
    "based on the search space, optimization config, and the total number\n",
    "of trials we want to run.\n",
    "\n",
    "Typically, Ax chooses to evaluate a number of random configurations\n",
    "before starting a model-based Bayesian Optimization strategy.\n",
    "\n",
    "We remark that in Ax, generation strategies and early stopping strategies are separate, a design decision motivated by ease-of-use. However, we should acknowledge that jointly considering generation and stopping using a single strategy would likely be the \"proper\" formulation."
   ]
  },
  {
   "cell_type": "code",
   "execution_count": 12,
   "id": "e38d0237",
   "metadata": {
    "execution": {
     "iopub.execute_input": "2024-09-30T20:59:48.068299Z",
     "iopub.status.busy": "2024-09-30T20:59:48.068121Z",
     "iopub.status.idle": "2024-09-30T20:59:48.072218Z",
     "shell.execute_reply": "2024-09-30T20:59:48.071959Z"
    },
    "papermill": {
     "duration": 0.013804,
     "end_time": "2024-09-30T20:59:48.073460",
     "exception": false,
     "start_time": "2024-09-30T20:59:48.059656",
     "status": "completed"
    },
    "tags": []
   },
   "outputs": [
    {
     "name": "stderr",
     "output_type": "stream",
     "text": [
      "[INFO 09-30 16:59:48] ax.modelbridge.dispatch_utils: Using Models.BOTORCH_MODULAR since there is at least one ordered parameter and there are no unordered categorical parameters.\n"
     ]
    },
    {
     "name": "stderr",
     "output_type": "stream",
     "text": [
      "[INFO 09-30 16:59:48] ax.modelbridge.dispatch_utils: Calculating the number of remaining initialization trials based on num_initialization_trials=None max_initialization_trials=None num_tunable_parameters=4 num_trials=15 use_batch_trials=False\n"
     ]
    },
    {
     "name": "stderr",
     "output_type": "stream",
     "text": [
      "[INFO 09-30 16:59:48] ax.modelbridge.dispatch_utils: calculated num_initialization_trials=5\n"
     ]
    },
    {
     "name": "stderr",
     "output_type": "stream",
     "text": [
      "[INFO 09-30 16:59:48] ax.modelbridge.dispatch_utils: num_completed_initialization_trials=0 num_remaining_initialization_trials=5\n"
     ]
    },
    {
     "name": "stderr",
     "output_type": "stream",
     "text": [
      "[INFO 09-30 16:59:48] ax.modelbridge.dispatch_utils: `verbose`, `disable_progbar`, and `jit_compile` are not yet supported when using `choose_generation_strategy` with ModularBoTorchModel, dropping these arguments.\n"
     ]
    },
    {
     "name": "stderr",
     "output_type": "stream",
     "text": [
      "[INFO 09-30 16:59:48] ax.modelbridge.dispatch_utils: Using Bayesian Optimization generation strategy: GenerationStrategy(name='Sobol+BoTorch', steps=[Sobol for 5 trials, BoTorch for subsequent trials]). Iterations after 5 will take longer to generate due to model-fitting.\n"
     ]
    }
   ],
   "source": [
    "if SMOKE_TEST:\n",
    "    total_trials = 6\n",
    "else:\n",
    "    total_trials = 15  # total evaluation budget\n",
    "\n",
    "gs = choose_generation_strategy(\n",
    "    search_space=experiment.search_space,\n",
    "    optimization_config=experiment.optimization_config,\n",
    "    num_trials=total_trials,\n",
    ")"
   ]
  },
  {
   "attachments": {},
   "cell_type": "markdown",
   "id": "78d86fea",
   "metadata": {
    "papermill": {
     "duration": 0.002531,
     "end_time": "2024-09-30T20:59:48.078871",
     "exception": false,
     "start_time": "2024-09-30T20:59:48.076340",
     "status": "completed"
    },
    "tags": []
   },
   "source": [
    "## Configuring the Scheduler\n",
    "\n",
    "The `Scheduler` acts as the loop control for the optimization.\n",
    "It communicates with the backend to launch trials, check their status, retrieve (partial) results, and importantly for this tutorial, calls the early stopping strategy. If the early stopping strategy suggests a trial to be the stopped, the `Scheduler` communicates with the backend to terminate the trial.\n",
    "\n",
    "The ``Scheduler`` requires the ``Experiment`` and the ``GenerationStrategy``.\n",
    "A set of options can be passed in via ``SchedulerOptions``. Here, we\n",
    "configure the number of total evaluations as well as ``max_pending_trials``,\n",
    "the maximum number of trials that should run concurrently. In our\n",
    "local setting, this is the number of training jobs running as individual\n",
    "processes, while in a remote execution setting, this would be the number\n",
    "of machines you want to use in parallel.\n"
   ]
  },
  {
   "cell_type": "code",
   "execution_count": 13,
   "id": "499fb9b5",
   "metadata": {
    "execution": {
     "iopub.execute_input": "2024-09-30T20:59:48.085187Z",
     "iopub.status.busy": "2024-09-30T20:59:48.085035Z",
     "iopub.status.idle": "2024-09-30T20:59:48.087457Z",
     "shell.execute_reply": "2024-09-30T20:59:48.087084Z"
    },
    "papermill": {
     "duration": 0.006845,
     "end_time": "2024-09-30T20:59:48.088478",
     "exception": false,
     "start_time": "2024-09-30T20:59:48.081633",
     "status": "completed"
    },
    "tags": []
   },
   "outputs": [
    {
     "name": "stderr",
     "output_type": "stream",
     "text": [
      "[INFO 09-30 16:59:48] Scheduler: `Scheduler` requires experiment to have immutable search space and optimization config. Setting property immutable_search_space_and_opt_config to `True` on experiment.\n"
     ]
    }
   ],
   "source": [
    "scheduler = Scheduler(\n",
    "    experiment=experiment,\n",
    "    generation_strategy=gs,\n",
    "    options=SchedulerOptions(\n",
    "        total_trials=total_trials,\n",
    "        max_pending_trials=5,\n",
    "        early_stopping_strategy=percentile_early_stopping_strategy,\n",
    "    ),\n",
    ")"
   ]
  },
  {
   "cell_type": "markdown",
   "id": "d6727d4c",
   "metadata": {
    "tags": [
     "papermill-error-cell-tag"
    ]
   },
   "source": [
    "<span id=\"papermill-error-cell\" style=\"color:red; font-family:Helvetica Neue, Helvetica, Arial, sans-serif; font-size:2em;\">Execution using papermill encountered an exception here and stopped:</span>"
   ]
  },
  {
   "cell_type": "code",
   "execution_count": 14,
   "id": "78257ebb",
   "metadata": {
    "execution": {
     "iopub.execute_input": "2024-09-30T20:59:48.095098Z",
     "iopub.status.busy": "2024-09-30T20:59:48.094917Z",
     "iopub.status.idle": "2024-09-30T21:03:49.651826Z",
     "shell.execute_reply": "2024-09-30T21:03:49.651530Z"
    },
    "papermill": {
     "duration": 241.561639,
     "end_time": "2024-09-30T21:03:49.653369",
     "exception": false,
     "start_time": "2024-09-30T20:59:48.091730",
     "status": "completed"
    },
    "tags": []
   },
   "outputs": [
    {
     "name": "stderr",
     "output_type": "stream",
     "text": [
      "[INFO 09-30 16:59:48] Scheduler: Fetching data for newly completed trials: [].\n"
     ]
    },
    {
     "name": "stderr",
     "output_type": "stream",
     "text": [
      "[INFO 09-30 16:59:48] ax.early_stopping.strategies.base: PercentileEarlyStoppingStrategy received empty data. Not stopping any trials.\n"
     ]
    },
    {
     "name": "stderr",
     "output_type": "stream",
     "text": [
      "/Users/cristianlara/Projects/Ax-1.0/ax/modelbridge/cross_validation.py:463: UserWarning: Encountered exception in computing model fit quality: RandomModelBridge does not support prediction.\n",
      "  warn(\"Encountered exception in computing model fit quality: \" + str(e))\n",
      "[INFO 09-30 16:59:48] Scheduler: Running trials [0]...\n"
     ]
    },
    {
     "name": "stderr",
     "output_type": "stream",
     "text": [
      "/Users/cristianlara/Projects/Ax-1.0/ax/modelbridge/cross_validation.py:463: UserWarning: Encountered exception in computing model fit quality: RandomModelBridge does not support prediction.\n",
      "  warn(\"Encountered exception in computing model fit quality: \" + str(e))\n",
      "[INFO 09-30 16:59:49] Scheduler: Running trials [1]...\n"
     ]
    },
    {
     "name": "stderr",
     "output_type": "stream",
     "text": [
      "/Users/cristianlara/Projects/Ax-1.0/ax/modelbridge/cross_validation.py:463: UserWarning: Encountered exception in computing model fit quality: RandomModelBridge does not support prediction.\n",
      "  warn(\"Encountered exception in computing model fit quality: \" + str(e))\n",
      "[INFO 09-30 16:59:50] Scheduler: Running trials [2]...\n"
     ]
    },
    {
     "name": "stderr",
     "output_type": "stream",
     "text": [
      "/Users/cristianlara/Projects/Ax-1.0/ax/modelbridge/cross_validation.py:463: UserWarning: Encountered exception in computing model fit quality: RandomModelBridge does not support prediction.\n",
      "  warn(\"Encountered exception in computing model fit quality: \" + str(e))\n",
      "[INFO 09-30 16:59:51] Scheduler: Running trials [3]...\n"
     ]
    },
    {
     "name": "stderr",
     "output_type": "stream",
     "text": [
      "/Users/cristianlara/Projects/Ax-1.0/ax/modelbridge/cross_validation.py:463: UserWarning: Encountered exception in computing model fit quality: RandomModelBridge does not support prediction.\n",
      "  warn(\"Encountered exception in computing model fit quality: \" + str(e))\n",
      "[INFO 09-30 16:59:52] Scheduler: Running trials [4]...\n"
     ]
    },
    {
     "name": "stderr",
     "output_type": "stream",
     "text": [
      "[WARNING 09-30 16:59:53] Scheduler: Both `init_seconds_between_polls` and `early_stopping_strategy supplied. `init_seconds_between_polls=1` will be overrridden by `early_stopping_strategy.seconds_between_polls=10` and polling will take place at a constant rate.\n"
     ]
    },
    {
     "name": "stderr",
     "output_type": "stream",
     "text": [
      "[INFO 09-30 16:59:53] Scheduler: Fetching data for newly completed trials: [].\n"
     ]
    },
    {
     "name": "stderr",
     "output_type": "stream",
     "text": [
      "[INFO 09-30 16:59:53] Scheduler: Fetching data for trials: 0 - 4 because some metrics on experiment are available while trials are running.\n"
     ]
    },
    {
     "name": "stderr",
     "output_type": "stream",
     "text": [
      "[INFO 09-30 16:59:53] ax.core.metric: MetricFetchE INFO: Initialized MetricFetchE(message=\"No 'scalar' data found for trial in multiplexer mul=<tensorboard.backend.event_processing.plugin_event_multiplexer.EventMultiplexer object at 0x30fd01850>\")\n"
     ]
    },
    {
     "name": "stderr",
     "output_type": "stream",
     "text": [
      "[INFO 09-30 16:59:53] ax.core.metric: MetricFetchE INFO: Initialized MetricFetchE(message=\"No 'scalar' data found for trial in multiplexer mul=<tensorboard.backend.event_processing.plugin_event_multiplexer.EventMultiplexer object at 0x30fd01850>\")\n"
     ]
    },
    {
     "name": "stderr",
     "output_type": "stream",
     "text": [
      "[INFO 09-30 16:59:53] ax.core.metric: MetricFetchE INFO: Initialized MetricFetchE(message=\"No 'scalar' data found for trial in multiplexer mul=<tensorboard.backend.event_processing.plugin_event_multiplexer.EventMultiplexer object at 0x30fd01850>\")\n"
     ]
    },
    {
     "name": "stderr",
     "output_type": "stream",
     "text": [
      "[INFO 09-30 16:59:53] ax.core.metric: MetricFetchE INFO: Initialized MetricFetchE(message=\"No 'scalar' data found for trial in multiplexer mul=<tensorboard.backend.event_processing.plugin_event_multiplexer.EventMultiplexer object at 0x30fd01850>\")\n"
     ]
    },
    {
     "name": "stderr",
     "output_type": "stream",
     "text": [
      "[INFO 09-30 16:59:53] ax.core.metric: MetricFetchE INFO: Initialized MetricFetchE(message=\"No 'scalar' data found for trial in multiplexer mul=<tensorboard.backend.event_processing.plugin_event_multiplexer.EventMultiplexer object at 0x30fd01850>\")\n"
     ]
    },
    {
     "name": "stderr",
     "output_type": "stream",
     "text": [
      "[ERROR 09-30 16:59:53] ax.core.experiment: Discovered Metric fetching Err while attaching data MetricFetchE(message=\"No 'scalar' data found for trial in multiplexer mul=<tensorboard.backend.event_processing.plugin_event_multiplexer.EventMultiplexer object at 0x30fd01850>\"). Ignoring for now -- will retry query on next call to fetch.\n"
     ]
    },
    {
     "name": "stderr",
     "output_type": "stream",
     "text": [
      "[ERROR 09-30 16:59:53] ax.core.experiment: Discovered Metric fetching Err while attaching data MetricFetchE(message=\"No 'scalar' data found for trial in multiplexer mul=<tensorboard.backend.event_processing.plugin_event_multiplexer.EventMultiplexer object at 0x30fd01850>\"). Ignoring for now -- will retry query on next call to fetch.\n"
     ]
    },
    {
     "name": "stderr",
     "output_type": "stream",
     "text": [
      "[ERROR 09-30 16:59:53] ax.core.experiment: Discovered Metric fetching Err while attaching data MetricFetchE(message=\"No 'scalar' data found for trial in multiplexer mul=<tensorboard.backend.event_processing.plugin_event_multiplexer.EventMultiplexer object at 0x30fd01850>\"). Ignoring for now -- will retry query on next call to fetch.\n"
     ]
    },
    {
     "name": "stderr",
     "output_type": "stream",
     "text": [
      "[ERROR 09-30 16:59:53] ax.core.experiment: Discovered Metric fetching Err while attaching data MetricFetchE(message=\"No 'scalar' data found for trial in multiplexer mul=<tensorboard.backend.event_processing.plugin_event_multiplexer.EventMultiplexer object at 0x30fd01850>\"). Ignoring for now -- will retry query on next call to fetch.\n"
     ]
    },
    {
     "name": "stderr",
     "output_type": "stream",
     "text": [
      "[ERROR 09-30 16:59:53] ax.core.experiment: Discovered Metric fetching Err while attaching data MetricFetchE(message=\"No 'scalar' data found for trial in multiplexer mul=<tensorboard.backend.event_processing.plugin_event_multiplexer.EventMultiplexer object at 0x30fd01850>\"). Ignoring for now -- will retry query on next call to fetch.\n"
     ]
    },
    {
     "name": "stderr",
     "output_type": "stream",
     "text": [
      "[WARNING 09-30 16:59:53] Scheduler: Failed to fetch val_acc for trial 0, found MetricFetchE(message=\"No 'scalar' data found for trial in multiplexer mul=<tensorboard.backend.event_processing.plugin_event_multiplexer.EventMultiplexer object at 0x30fd01850>\").\n"
     ]
    },
    {
     "name": "stderr",
     "output_type": "stream",
     "text": [
      "[INFO 09-30 16:59:53] Scheduler: MetricFetchE INFO: Because val_acc is available_while_running and trial 0 is still RUNNING continuing the experiment and retrying on next poll...\n"
     ]
    },
    {
     "name": "stderr",
     "output_type": "stream",
     "text": [
      "[WARNING 09-30 16:59:53] Scheduler: Failed to fetch val_acc for trial 1, found MetricFetchE(message=\"No 'scalar' data found for trial in multiplexer mul=<tensorboard.backend.event_processing.plugin_event_multiplexer.EventMultiplexer object at 0x30fd01850>\").\n"
     ]
    },
    {
     "name": "stderr",
     "output_type": "stream",
     "text": [
      "[INFO 09-30 16:59:53] Scheduler: MetricFetchE INFO: Because val_acc is available_while_running and trial 1 is still RUNNING continuing the experiment and retrying on next poll...\n"
     ]
    },
    {
     "name": "stderr",
     "output_type": "stream",
     "text": [
      "[WARNING 09-30 16:59:53] Scheduler: Failed to fetch val_acc for trial 2, found MetricFetchE(message=\"No 'scalar' data found for trial in multiplexer mul=<tensorboard.backend.event_processing.plugin_event_multiplexer.EventMultiplexer object at 0x30fd01850>\").\n"
     ]
    },
    {
     "name": "stderr",
     "output_type": "stream",
     "text": [
      "[INFO 09-30 16:59:53] Scheduler: MetricFetchE INFO: Because val_acc is available_while_running and trial 2 is still RUNNING continuing the experiment and retrying on next poll...\n"
     ]
    },
    {
     "name": "stderr",
     "output_type": "stream",
     "text": [
      "[WARNING 09-30 16:59:53] Scheduler: Failed to fetch val_acc for trial 3, found MetricFetchE(message=\"No 'scalar' data found for trial in multiplexer mul=<tensorboard.backend.event_processing.plugin_event_multiplexer.EventMultiplexer object at 0x30fd01850>\").\n"
     ]
    },
    {
     "name": "stderr",
     "output_type": "stream",
     "text": [
      "[INFO 09-30 16:59:53] Scheduler: MetricFetchE INFO: Because val_acc is available_while_running and trial 3 is still RUNNING continuing the experiment and retrying on next poll...\n"
     ]
    },
    {
     "name": "stderr",
     "output_type": "stream",
     "text": [
      "[WARNING 09-30 16:59:53] Scheduler: Failed to fetch val_acc for trial 4, found MetricFetchE(message=\"No 'scalar' data found for trial in multiplexer mul=<tensorboard.backend.event_processing.plugin_event_multiplexer.EventMultiplexer object at 0x30fd01850>\").\n"
     ]
    },
    {
     "name": "stderr",
     "output_type": "stream",
     "text": [
      "[INFO 09-30 16:59:53] Scheduler: MetricFetchE INFO: Because val_acc is available_while_running and trial 4 is still RUNNING continuing the experiment and retrying on next poll...\n"
     ]
    },
    {
     "name": "stderr",
     "output_type": "stream",
     "text": [
      "[INFO 09-30 16:59:53] ax.early_stopping.strategies.base: PercentileEarlyStoppingStrategy received empty data. Not stopping any trials.\n"
     ]
    },
    {
     "name": "stderr",
     "output_type": "stream",
     "text": [
      "[INFO 09-30 16:59:53] Scheduler: Waiting for completed trials (for 10 sec, currently running trials: 5).\n"
     ]
    },
    {
     "name": "stderr",
     "output_type": "stream",
     "text": [
      "[INFO 09-30 17:00:03] Scheduler: Fetching data for newly completed trials: [].\n"
     ]
    },
    {
     "name": "stderr",
     "output_type": "stream",
     "text": [
      "[INFO 09-30 17:00:03] Scheduler: Fetching data for trials: [0, 1, 3, 4] because some metrics on experiment are available while trials are running.\n"
     ]
    },
    {
     "name": "stderr",
     "output_type": "stream",
     "text": [
      "[INFO 09-30 17:00:03] Scheduler: Retrieved FAILED trials: [2].\n"
     ]
    },
    {
     "name": "stderr",
     "output_type": "stream",
     "text": [
      "[INFO 09-30 17:00:03] ax.core.metric: MetricFetchE INFO: Initialized MetricFetchE(message=\"No 'scalar' data found for trial in multiplexer mul=<tensorboard.backend.event_processing.plugin_event_multiplexer.EventMultiplexer object at 0x30fd44fe0>\")\n"
     ]
    },
    {
     "name": "stderr",
     "output_type": "stream",
     "text": [
      "[INFO 09-30 17:00:03] ax.core.metric: MetricFetchE INFO: Initialized MetricFetchE(message=\"No 'scalar' data found for trial in multiplexer mul=<tensorboard.backend.event_processing.plugin_event_multiplexer.EventMultiplexer object at 0x30f74d460>\")\n"
     ]
    },
    {
     "name": "stderr",
     "output_type": "stream",
     "text": [
      "[INFO 09-30 17:00:03] ax.core.metric: MetricFetchE INFO: Initialized MetricFetchE(message=\"No 'scalar' data found for trial in multiplexer mul=<tensorboard.backend.event_processing.plugin_event_multiplexer.EventMultiplexer object at 0x30f74d460>\")\n"
     ]
    },
    {
     "name": "stderr",
     "output_type": "stream",
     "text": [
      "[INFO 09-30 17:00:03] ax.core.metric: MetricFetchE INFO: Initialized MetricFetchE(message=\"No 'scalar' data found for trial in multiplexer mul=<tensorboard.backend.event_processing.plugin_event_multiplexer.EventMultiplexer object at 0x30f74d460>\")\n"
     ]
    },
    {
     "name": "stderr",
     "output_type": "stream",
     "text": [
      "[ERROR 09-30 17:00:03] ax.core.experiment: Discovered Metric fetching Err while attaching data MetricFetchE(message=\"No 'scalar' data found for trial in multiplexer mul=<tensorboard.backend.event_processing.plugin_event_multiplexer.EventMultiplexer object at 0x30fd44fe0>\"). Ignoring for now -- will retry query on next call to fetch.\n"
     ]
    },
    {
     "name": "stderr",
     "output_type": "stream",
     "text": [
      "[ERROR 09-30 17:00:03] ax.core.experiment: Discovered Metric fetching Err while attaching data MetricFetchE(message=\"No 'scalar' data found for trial in multiplexer mul=<tensorboard.backend.event_processing.plugin_event_multiplexer.EventMultiplexer object at 0x30f74d460>\"). Ignoring for now -- will retry query on next call to fetch.\n"
     ]
    },
    {
     "name": "stderr",
     "output_type": "stream",
     "text": [
      "[ERROR 09-30 17:00:03] ax.core.experiment: Discovered Metric fetching Err while attaching data MetricFetchE(message=\"No 'scalar' data found for trial in multiplexer mul=<tensorboard.backend.event_processing.plugin_event_multiplexer.EventMultiplexer object at 0x30f74d460>\"). Ignoring for now -- will retry query on next call to fetch.\n"
     ]
    },
    {
     "name": "stderr",
     "output_type": "stream",
     "text": [
      "[ERROR 09-30 17:00:03] ax.core.experiment: Discovered Metric fetching Err while attaching data MetricFetchE(message=\"No 'scalar' data found for trial in multiplexer mul=<tensorboard.backend.event_processing.plugin_event_multiplexer.EventMultiplexer object at 0x30f74d460>\"). Ignoring for now -- will retry query on next call to fetch.\n"
     ]
    },
    {
     "name": "stderr",
     "output_type": "stream",
     "text": [
      "[WARNING 09-30 17:00:03] Scheduler: Failed to fetch val_acc for trial 0, found MetricFetchE(message=\"No 'scalar' data found for trial in multiplexer mul=<tensorboard.backend.event_processing.plugin_event_multiplexer.EventMultiplexer object at 0x30fd44fe0>\").\n"
     ]
    },
    {
     "name": "stderr",
     "output_type": "stream",
     "text": [
      "[INFO 09-30 17:00:03] Scheduler: MetricFetchE INFO: Because val_acc is available_while_running and trial 0 is still RUNNING continuing the experiment and retrying on next poll...\n"
     ]
    },
    {
     "name": "stderr",
     "output_type": "stream",
     "text": [
      "[WARNING 09-30 17:00:03] Scheduler: Failed to fetch val_acc for trial 1, found MetricFetchE(message=\"No 'scalar' data found for trial in multiplexer mul=<tensorboard.backend.event_processing.plugin_event_multiplexer.EventMultiplexer object at 0x30f74d460>\").\n"
     ]
    },
    {
     "name": "stderr",
     "output_type": "stream",
     "text": [
      "[INFO 09-30 17:00:03] Scheduler: MetricFetchE INFO: Because val_acc is available_while_running and trial 1 is still RUNNING continuing the experiment and retrying on next poll...\n"
     ]
    },
    {
     "name": "stderr",
     "output_type": "stream",
     "text": [
      "[WARNING 09-30 17:00:03] Scheduler: Failed to fetch val_acc for trial 3, found MetricFetchE(message=\"No 'scalar' data found for trial in multiplexer mul=<tensorboard.backend.event_processing.plugin_event_multiplexer.EventMultiplexer object at 0x30f74d460>\").\n"
     ]
    },
    {
     "name": "stderr",
     "output_type": "stream",
     "text": [
      "[INFO 09-30 17:00:03] Scheduler: MetricFetchE INFO: Because val_acc is available_while_running and trial 3 is still RUNNING continuing the experiment and retrying on next poll...\n"
     ]
    },
    {
     "name": "stderr",
     "output_type": "stream",
     "text": [
      "[WARNING 09-30 17:00:03] Scheduler: Failed to fetch val_acc for trial 4, found MetricFetchE(message=\"No 'scalar' data found for trial in multiplexer mul=<tensorboard.backend.event_processing.plugin_event_multiplexer.EventMultiplexer object at 0x30f74d460>\").\n"
     ]
    },
    {
     "name": "stderr",
     "output_type": "stream",
     "text": [
      "[INFO 09-30 17:00:03] Scheduler: MetricFetchE INFO: Because val_acc is available_while_running and trial 4 is still RUNNING continuing the experiment and retrying on next poll...\n"
     ]
    },
    {
     "name": "stderr",
     "output_type": "stream",
     "text": [
      "[INFO 09-30 17:00:03] ax.early_stopping.strategies.base: PercentileEarlyStoppingStrategy received empty data. Not stopping any trials.\n"
     ]
    },
    {
     "name": "stderr",
     "output_type": "stream",
     "text": [
      "/Users/cristianlara/Projects/Ax-1.0/ax/modelbridge/cross_validation.py:463: UserWarning: Encountered exception in computing model fit quality: RandomModelBridge does not support prediction.\n",
      "  warn(\"Encountered exception in computing model fit quality: \" + str(e))\n",
      "[INFO 09-30 17:00:03] Scheduler: Running trials [5]...\n"
     ]
    },
    {
     "name": "stderr",
     "output_type": "stream",
     "text": [
      "[WARNING 09-30 17:00:04] Scheduler: Both `init_seconds_between_polls` and `early_stopping_strategy supplied. `init_seconds_between_polls=1` will be overrridden by `early_stopping_strategy.seconds_between_polls=10` and polling will take place at a constant rate.\n"
     ]
    },
    {
     "name": "stderr",
     "output_type": "stream",
     "text": [
      "[INFO 09-30 17:00:04] Scheduler: Fetching data for newly completed trials: [].\n"
     ]
    },
    {
     "name": "stderr",
     "output_type": "stream",
     "text": [
      "[INFO 09-30 17:00:04] Scheduler: Fetching data for trials: [0, 1, 3, 4, 5] because some metrics on experiment are available while trials are running.\n"
     ]
    },
    {
     "name": "stderr",
     "output_type": "stream",
     "text": [
      "[INFO 09-30 17:00:04] ax.core.metric: MetricFetchE INFO: Initialized MetricFetchE(message=\"No 'scalar' data found for trial in multiplexer mul=<tensorboard.backend.event_processing.plugin_event_multiplexer.EventMultiplexer object at 0x30fd7b680>\")\n"
     ]
    },
    {
     "name": "stderr",
     "output_type": "stream",
     "text": [
      "[INFO 09-30 17:00:04] ax.core.metric: MetricFetchE INFO: Initialized MetricFetchE(message=\"No 'scalar' data found for trial in multiplexer mul=<tensorboard.backend.event_processing.plugin_event_multiplexer.EventMultiplexer object at 0x30fd7b680>\")\n"
     ]
    },
    {
     "name": "stderr",
     "output_type": "stream",
     "text": [
      "[INFO 09-30 17:00:04] ax.core.metric: MetricFetchE INFO: Initialized MetricFetchE(message=\"No 'scalar' data found for trial in multiplexer mul=<tensorboard.backend.event_processing.plugin_event_multiplexer.EventMultiplexer object at 0x30fd7b680>\")\n"
     ]
    },
    {
     "name": "stderr",
     "output_type": "stream",
     "text": [
      "[INFO 09-30 17:00:04] ax.core.metric: MetricFetchE INFO: Initialized MetricFetchE(message=\"No 'scalar' data found for trial in multiplexer mul=<tensorboard.backend.event_processing.plugin_event_multiplexer.EventMultiplexer object at 0x30fd7b680>\")\n"
     ]
    },
    {
     "name": "stderr",
     "output_type": "stream",
     "text": [
      "[INFO 09-30 17:00:04] ax.core.metric: MetricFetchE INFO: Initialized MetricFetchE(message=\"No 'scalar' data found for trial in multiplexer mul=<tensorboard.backend.event_processing.plugin_event_multiplexer.EventMultiplexer object at 0x12350de80>\")\n"
     ]
    },
    {
     "name": "stderr",
     "output_type": "stream",
     "text": [
      "[ERROR 09-30 17:00:04] ax.core.experiment: Discovered Metric fetching Err while attaching data MetricFetchE(message=\"No 'scalar' data found for trial in multiplexer mul=<tensorboard.backend.event_processing.plugin_event_multiplexer.EventMultiplexer object at 0x30fd7b680>\"). Ignoring for now -- will retry query on next call to fetch.\n"
     ]
    },
    {
     "name": "stderr",
     "output_type": "stream",
     "text": [
      "[ERROR 09-30 17:00:04] ax.core.experiment: Discovered Metric fetching Err while attaching data MetricFetchE(message=\"No 'scalar' data found for trial in multiplexer mul=<tensorboard.backend.event_processing.plugin_event_multiplexer.EventMultiplexer object at 0x30fd7b680>\"). Ignoring for now -- will retry query on next call to fetch.\n"
     ]
    },
    {
     "name": "stderr",
     "output_type": "stream",
     "text": [
      "[ERROR 09-30 17:00:04] ax.core.experiment: Discovered Metric fetching Err while attaching data MetricFetchE(message=\"No 'scalar' data found for trial in multiplexer mul=<tensorboard.backend.event_processing.plugin_event_multiplexer.EventMultiplexer object at 0x30fd7b680>\"). Ignoring for now -- will retry query on next call to fetch.\n"
     ]
    },
    {
     "name": "stderr",
     "output_type": "stream",
     "text": [
      "[ERROR 09-30 17:00:04] ax.core.experiment: Discovered Metric fetching Err while attaching data MetricFetchE(message=\"No 'scalar' data found for trial in multiplexer mul=<tensorboard.backend.event_processing.plugin_event_multiplexer.EventMultiplexer object at 0x30fd7b680>\"). Ignoring for now -- will retry query on next call to fetch.\n"
     ]
    },
    {
     "name": "stderr",
     "output_type": "stream",
     "text": [
      "[ERROR 09-30 17:00:04] ax.core.experiment: Discovered Metric fetching Err while attaching data MetricFetchE(message=\"No 'scalar' data found for trial in multiplexer mul=<tensorboard.backend.event_processing.plugin_event_multiplexer.EventMultiplexer object at 0x12350de80>\"). Ignoring for now -- will retry query on next call to fetch.\n"
     ]
    },
    {
     "name": "stderr",
     "output_type": "stream",
     "text": [
      "[WARNING 09-30 17:00:04] Scheduler: Failed to fetch val_acc for trial 0, found MetricFetchE(message=\"No 'scalar' data found for trial in multiplexer mul=<tensorboard.backend.event_processing.plugin_event_multiplexer.EventMultiplexer object at 0x30fd7b680>\").\n"
     ]
    },
    {
     "name": "stderr",
     "output_type": "stream",
     "text": [
      "[INFO 09-30 17:00:04] Scheduler: MetricFetchE INFO: Because val_acc is available_while_running and trial 0 is still RUNNING continuing the experiment and retrying on next poll...\n"
     ]
    },
    {
     "name": "stderr",
     "output_type": "stream",
     "text": [
      "[WARNING 09-30 17:00:04] Scheduler: Failed to fetch val_acc for trial 1, found MetricFetchE(message=\"No 'scalar' data found for trial in multiplexer mul=<tensorboard.backend.event_processing.plugin_event_multiplexer.EventMultiplexer object at 0x30fd7b680>\").\n"
     ]
    },
    {
     "name": "stderr",
     "output_type": "stream",
     "text": [
      "[INFO 09-30 17:00:04] Scheduler: MetricFetchE INFO: Because val_acc is available_while_running and trial 1 is still RUNNING continuing the experiment and retrying on next poll...\n"
     ]
    },
    {
     "name": "stderr",
     "output_type": "stream",
     "text": [
      "[WARNING 09-30 17:00:04] Scheduler: Failed to fetch val_acc for trial 3, found MetricFetchE(message=\"No 'scalar' data found for trial in multiplexer mul=<tensorboard.backend.event_processing.plugin_event_multiplexer.EventMultiplexer object at 0x30fd7b680>\").\n"
     ]
    },
    {
     "name": "stderr",
     "output_type": "stream",
     "text": [
      "[INFO 09-30 17:00:04] Scheduler: MetricFetchE INFO: Because val_acc is available_while_running and trial 3 is still RUNNING continuing the experiment and retrying on next poll...\n"
     ]
    },
    {
     "name": "stderr",
     "output_type": "stream",
     "text": [
      "[WARNING 09-30 17:00:04] Scheduler: Failed to fetch val_acc for trial 4, found MetricFetchE(message=\"No 'scalar' data found for trial in multiplexer mul=<tensorboard.backend.event_processing.plugin_event_multiplexer.EventMultiplexer object at 0x30fd7b680>\").\n"
     ]
    },
    {
     "name": "stderr",
     "output_type": "stream",
     "text": [
      "[INFO 09-30 17:00:04] Scheduler: MetricFetchE INFO: Because val_acc is available_while_running and trial 4 is still RUNNING continuing the experiment and retrying on next poll...\n"
     ]
    },
    {
     "name": "stderr",
     "output_type": "stream",
     "text": [
      "[WARNING 09-30 17:00:04] Scheduler: Failed to fetch val_acc for trial 5, found MetricFetchE(message=\"No 'scalar' data found for trial in multiplexer mul=<tensorboard.backend.event_processing.plugin_event_multiplexer.EventMultiplexer object at 0x12350de80>\").\n"
     ]
    },
    {
     "name": "stderr",
     "output_type": "stream",
     "text": [
      "[INFO 09-30 17:00:04] Scheduler: MetricFetchE INFO: Because val_acc is available_while_running and trial 5 is still RUNNING continuing the experiment and retrying on next poll...\n"
     ]
    },
    {
     "name": "stderr",
     "output_type": "stream",
     "text": [
      "[INFO 09-30 17:00:04] ax.early_stopping.strategies.base: PercentileEarlyStoppingStrategy received empty data. Not stopping any trials.\n"
     ]
    },
    {
     "name": "stderr",
     "output_type": "stream",
     "text": [
      "[INFO 09-30 17:00:04] Scheduler: Waiting for completed trials (for 10 sec, currently running trials: 5).\n"
     ]
    },
    {
     "name": "stderr",
     "output_type": "stream",
     "text": [
      "[INFO 09-30 17:00:14] Scheduler: Fetching data for newly completed trials: [].\n"
     ]
    },
    {
     "name": "stderr",
     "output_type": "stream",
     "text": [
      "[INFO 09-30 17:00:14] Scheduler: Fetching data for trials: [0, 1, 3, 4, 5] because some metrics on experiment are available while trials are running.\n"
     ]
    },
    {
     "name": "stderr",
     "output_type": "stream",
     "text": [
      "[INFO 09-30 17:00:14] ax.core.metric: MetricFetchE INFO: Initialized MetricFetchE(message=\"No 'scalar' data found for trial in multiplexer mul=<tensorboard.backend.event_processing.plugin_event_multiplexer.EventMultiplexer object at 0x30fd46060>\")\n"
     ]
    },
    {
     "name": "stderr",
     "output_type": "stream",
     "text": [
      "[INFO 09-30 17:00:14] ax.core.metric: MetricFetchE INFO: Initialized MetricFetchE(message=\"No 'scalar' data found for trial in multiplexer mul=<tensorboard.backend.event_processing.plugin_event_multiplexer.EventMultiplexer object at 0x30fc7eea0>\")\n"
     ]
    },
    {
     "name": "stderr",
     "output_type": "stream",
     "text": [
      "[INFO 09-30 17:00:14] ax.core.metric: MetricFetchE INFO: Initialized MetricFetchE(message=\"No 'scalar' data found for trial in multiplexer mul=<tensorboard.backend.event_processing.plugin_event_multiplexer.EventMultiplexer object at 0x30fc7eea0>\")\n"
     ]
    },
    {
     "name": "stderr",
     "output_type": "stream",
     "text": [
      "[INFO 09-30 17:00:14] ax.core.metric: MetricFetchE INFO: Initialized MetricFetchE(message=\"No 'scalar' data found for trial in multiplexer mul=<tensorboard.backend.event_processing.plugin_event_multiplexer.EventMultiplexer object at 0x30fc7eea0>\")\n"
     ]
    },
    {
     "name": "stderr",
     "output_type": "stream",
     "text": [
      "[INFO 09-30 17:00:14] ax.core.metric: MetricFetchE INFO: Initialized MetricFetchE(message=\"No 'scalar' data found for trial in multiplexer mul=<tensorboard.backend.event_processing.plugin_event_multiplexer.EventMultiplexer object at 0x30fc7eea0>\")\n"
     ]
    },
    {
     "name": "stderr",
     "output_type": "stream",
     "text": [
      "[ERROR 09-30 17:00:14] ax.core.experiment: Discovered Metric fetching Err while attaching data MetricFetchE(message=\"No 'scalar' data found for trial in multiplexer mul=<tensorboard.backend.event_processing.plugin_event_multiplexer.EventMultiplexer object at 0x30fd46060>\"). Ignoring for now -- will retry query on next call to fetch.\n"
     ]
    },
    {
     "name": "stderr",
     "output_type": "stream",
     "text": [
      "[ERROR 09-30 17:00:14] ax.core.experiment: Discovered Metric fetching Err while attaching data MetricFetchE(message=\"No 'scalar' data found for trial in multiplexer mul=<tensorboard.backend.event_processing.plugin_event_multiplexer.EventMultiplexer object at 0x30fc7eea0>\"). Ignoring for now -- will retry query on next call to fetch.\n"
     ]
    },
    {
     "name": "stderr",
     "output_type": "stream",
     "text": [
      "[ERROR 09-30 17:00:14] ax.core.experiment: Discovered Metric fetching Err while attaching data MetricFetchE(message=\"No 'scalar' data found for trial in multiplexer mul=<tensorboard.backend.event_processing.plugin_event_multiplexer.EventMultiplexer object at 0x30fc7eea0>\"). Ignoring for now -- will retry query on next call to fetch.\n"
     ]
    },
    {
     "name": "stderr",
     "output_type": "stream",
     "text": [
      "[ERROR 09-30 17:00:14] ax.core.experiment: Discovered Metric fetching Err while attaching data MetricFetchE(message=\"No 'scalar' data found for trial in multiplexer mul=<tensorboard.backend.event_processing.plugin_event_multiplexer.EventMultiplexer object at 0x30fc7eea0>\"). Ignoring for now -- will retry query on next call to fetch.\n"
     ]
    },
    {
     "name": "stderr",
     "output_type": "stream",
     "text": [
      "[ERROR 09-30 17:00:14] ax.core.experiment: Discovered Metric fetching Err while attaching data MetricFetchE(message=\"No 'scalar' data found for trial in multiplexer mul=<tensorboard.backend.event_processing.plugin_event_multiplexer.EventMultiplexer object at 0x30fc7eea0>\"). Ignoring for now -- will retry query on next call to fetch.\n"
     ]
    },
    {
     "name": "stderr",
     "output_type": "stream",
     "text": [
      "[WARNING 09-30 17:00:14] Scheduler: Failed to fetch val_acc for trial 0, found MetricFetchE(message=\"No 'scalar' data found for trial in multiplexer mul=<tensorboard.backend.event_processing.plugin_event_multiplexer.EventMultiplexer object at 0x30fd46060>\").\n"
     ]
    },
    {
     "name": "stderr",
     "output_type": "stream",
     "text": [
      "[INFO 09-30 17:00:14] Scheduler: MetricFetchE INFO: Because val_acc is available_while_running and trial 0 is still RUNNING continuing the experiment and retrying on next poll...\n"
     ]
    },
    {
     "name": "stderr",
     "output_type": "stream",
     "text": [
      "[WARNING 09-30 17:00:14] Scheduler: Failed to fetch val_acc for trial 1, found MetricFetchE(message=\"No 'scalar' data found for trial in multiplexer mul=<tensorboard.backend.event_processing.plugin_event_multiplexer.EventMultiplexer object at 0x30fc7eea0>\").\n"
     ]
    },
    {
     "name": "stderr",
     "output_type": "stream",
     "text": [
      "[INFO 09-30 17:00:14] Scheduler: MetricFetchE INFO: Because val_acc is available_while_running and trial 1 is still RUNNING continuing the experiment and retrying on next poll...\n"
     ]
    },
    {
     "name": "stderr",
     "output_type": "stream",
     "text": [
      "[WARNING 09-30 17:00:14] Scheduler: Failed to fetch val_acc for trial 3, found MetricFetchE(message=\"No 'scalar' data found for trial in multiplexer mul=<tensorboard.backend.event_processing.plugin_event_multiplexer.EventMultiplexer object at 0x30fc7eea0>\").\n"
     ]
    },
    {
     "name": "stderr",
     "output_type": "stream",
     "text": [
      "[INFO 09-30 17:00:14] Scheduler: MetricFetchE INFO: Because val_acc is available_while_running and trial 3 is still RUNNING continuing the experiment and retrying on next poll...\n"
     ]
    },
    {
     "name": "stderr",
     "output_type": "stream",
     "text": [
      "[WARNING 09-30 17:00:14] Scheduler: Failed to fetch val_acc for trial 4, found MetricFetchE(message=\"No 'scalar' data found for trial in multiplexer mul=<tensorboard.backend.event_processing.plugin_event_multiplexer.EventMultiplexer object at 0x30fc7eea0>\").\n"
     ]
    },
    {
     "name": "stderr",
     "output_type": "stream",
     "text": [
      "[INFO 09-30 17:00:14] Scheduler: MetricFetchE INFO: Because val_acc is available_while_running and trial 4 is still RUNNING continuing the experiment and retrying on next poll...\n"
     ]
    },
    {
     "name": "stderr",
     "output_type": "stream",
     "text": [
      "[WARNING 09-30 17:00:14] Scheduler: Failed to fetch val_acc for trial 5, found MetricFetchE(message=\"No 'scalar' data found for trial in multiplexer mul=<tensorboard.backend.event_processing.plugin_event_multiplexer.EventMultiplexer object at 0x30fc7eea0>\").\n"
     ]
    },
    {
     "name": "stderr",
     "output_type": "stream",
     "text": [
      "[INFO 09-30 17:00:14] Scheduler: MetricFetchE INFO: Because val_acc is available_while_running and trial 5 is still RUNNING continuing the experiment and retrying on next poll...\n"
     ]
    },
    {
     "name": "stderr",
     "output_type": "stream",
     "text": [
      "[INFO 09-30 17:00:14] ax.early_stopping.strategies.base: PercentileEarlyStoppingStrategy received empty data. Not stopping any trials.\n"
     ]
    },
    {
     "name": "stderr",
     "output_type": "stream",
     "text": [
      "[INFO 09-30 17:00:14] Scheduler: Waiting for completed trials (for 10 sec, currently running trials: 5).\n"
     ]
    },
    {
     "name": "stderr",
     "output_type": "stream",
     "text": [
      "[INFO 09-30 17:00:24] Scheduler: Fetching data for newly completed trials: [].\n"
     ]
    },
    {
     "name": "stderr",
     "output_type": "stream",
     "text": [
      "[INFO 09-30 17:00:24] Scheduler: Fetching data for trials: [0, 1, 3, 4, 5] because some metrics on experiment are available while trials are running.\n"
     ]
    },
    {
     "name": "stderr",
     "output_type": "stream",
     "text": [
      "[INFO 09-30 17:00:25] ax.core.metric: MetricFetchE INFO: Initialized MetricFetchE(message=\"No 'scalar' data found for trial in multiplexer mul=<tensorboard.backend.event_processing.plugin_event_multiplexer.EventMultiplexer object at 0x12350d7c0>\")\n"
     ]
    },
    {
     "name": "stderr",
     "output_type": "stream",
     "text": [
      "[INFO 09-30 17:00:25] ax.core.metric: MetricFetchE INFO: Initialized MetricFetchE(message=\"No 'scalar' data found for trial in multiplexer mul=<tensorboard.backend.event_processing.plugin_event_multiplexer.EventMultiplexer object at 0x30fd474d0>\")\n"
     ]
    },
    {
     "name": "stderr",
     "output_type": "stream",
     "text": [
      "[INFO 09-30 17:00:25] ax.core.metric: MetricFetchE INFO: Initialized MetricFetchE(message=\"No 'scalar' data found for trial in multiplexer mul=<tensorboard.backend.event_processing.plugin_event_multiplexer.EventMultiplexer object at 0x30fd474d0>\")\n"
     ]
    },
    {
     "name": "stderr",
     "output_type": "stream",
     "text": [
      "[INFO 09-30 17:00:25] ax.core.metric: MetricFetchE INFO: Initialized MetricFetchE(message=\"No 'scalar' data found for trial in multiplexer mul=<tensorboard.backend.event_processing.plugin_event_multiplexer.EventMultiplexer object at 0x30fa47230>\")\n"
     ]
    },
    {
     "name": "stderr",
     "output_type": "stream",
     "text": [
      "[INFO 09-30 17:00:25] ax.core.metric: MetricFetchE INFO: Initialized MetricFetchE(message=\"No 'scalar' data found for trial in multiplexer mul=<tensorboard.backend.event_processing.plugin_event_multiplexer.EventMultiplexer object at 0x30fa47230>\")\n"
     ]
    },
    {
     "name": "stderr",
     "output_type": "stream",
     "text": [
      "[ERROR 09-30 17:00:25] ax.core.experiment: Discovered Metric fetching Err while attaching data MetricFetchE(message=\"No 'scalar' data found for trial in multiplexer mul=<tensorboard.backend.event_processing.plugin_event_multiplexer.EventMultiplexer object at 0x12350d7c0>\"). Ignoring for now -- will retry query on next call to fetch.\n"
     ]
    },
    {
     "name": "stderr",
     "output_type": "stream",
     "text": [
      "[ERROR 09-30 17:00:25] ax.core.experiment: Discovered Metric fetching Err while attaching data MetricFetchE(message=\"No 'scalar' data found for trial in multiplexer mul=<tensorboard.backend.event_processing.plugin_event_multiplexer.EventMultiplexer object at 0x30fd474d0>\"). Ignoring for now -- will retry query on next call to fetch.\n"
     ]
    },
    {
     "name": "stderr",
     "output_type": "stream",
     "text": [
      "[ERROR 09-30 17:00:25] ax.core.experiment: Discovered Metric fetching Err while attaching data MetricFetchE(message=\"No 'scalar' data found for trial in multiplexer mul=<tensorboard.backend.event_processing.plugin_event_multiplexer.EventMultiplexer object at 0x30fd474d0>\"). Ignoring for now -- will retry query on next call to fetch.\n"
     ]
    },
    {
     "name": "stderr",
     "output_type": "stream",
     "text": [
      "[ERROR 09-30 17:00:25] ax.core.experiment: Discovered Metric fetching Err while attaching data MetricFetchE(message=\"No 'scalar' data found for trial in multiplexer mul=<tensorboard.backend.event_processing.plugin_event_multiplexer.EventMultiplexer object at 0x30fa47230>\"). Ignoring for now -- will retry query on next call to fetch.\n"
     ]
    },
    {
     "name": "stderr",
     "output_type": "stream",
     "text": [
      "[ERROR 09-30 17:00:25] ax.core.experiment: Discovered Metric fetching Err while attaching data MetricFetchE(message=\"No 'scalar' data found for trial in multiplexer mul=<tensorboard.backend.event_processing.plugin_event_multiplexer.EventMultiplexer object at 0x30fa47230>\"). Ignoring for now -- will retry query on next call to fetch.\n"
     ]
    },
    {
     "name": "stderr",
     "output_type": "stream",
     "text": [
      "[WARNING 09-30 17:00:25] Scheduler: Failed to fetch val_acc for trial 0, found MetricFetchE(message=\"No 'scalar' data found for trial in multiplexer mul=<tensorboard.backend.event_processing.plugin_event_multiplexer.EventMultiplexer object at 0x12350d7c0>\").\n"
     ]
    },
    {
     "name": "stderr",
     "output_type": "stream",
     "text": [
      "[INFO 09-30 17:00:25] Scheduler: MetricFetchE INFO: Because val_acc is available_while_running and trial 0 is still RUNNING continuing the experiment and retrying on next poll...\n"
     ]
    },
    {
     "name": "stderr",
     "output_type": "stream",
     "text": [
      "[WARNING 09-30 17:00:25] Scheduler: Failed to fetch val_acc for trial 1, found MetricFetchE(message=\"No 'scalar' data found for trial in multiplexer mul=<tensorboard.backend.event_processing.plugin_event_multiplexer.EventMultiplexer object at 0x30fd474d0>\").\n"
     ]
    },
    {
     "name": "stderr",
     "output_type": "stream",
     "text": [
      "[INFO 09-30 17:00:25] Scheduler: MetricFetchE INFO: Because val_acc is available_while_running and trial 1 is still RUNNING continuing the experiment and retrying on next poll...\n"
     ]
    },
    {
     "name": "stderr",
     "output_type": "stream",
     "text": [
      "[WARNING 09-30 17:00:25] Scheduler: Failed to fetch val_acc for trial 3, found MetricFetchE(message=\"No 'scalar' data found for trial in multiplexer mul=<tensorboard.backend.event_processing.plugin_event_multiplexer.EventMultiplexer object at 0x30fd474d0>\").\n"
     ]
    },
    {
     "name": "stderr",
     "output_type": "stream",
     "text": [
      "[INFO 09-30 17:00:25] Scheduler: MetricFetchE INFO: Because val_acc is available_while_running and trial 3 is still RUNNING continuing the experiment and retrying on next poll...\n"
     ]
    },
    {
     "name": "stderr",
     "output_type": "stream",
     "text": [
      "[WARNING 09-30 17:00:25] Scheduler: Failed to fetch val_acc for trial 4, found MetricFetchE(message=\"No 'scalar' data found for trial in multiplexer mul=<tensorboard.backend.event_processing.plugin_event_multiplexer.EventMultiplexer object at 0x30fa47230>\").\n"
     ]
    },
    {
     "name": "stderr",
     "output_type": "stream",
     "text": [
      "[INFO 09-30 17:00:25] Scheduler: MetricFetchE INFO: Because val_acc is available_while_running and trial 4 is still RUNNING continuing the experiment and retrying on next poll...\n"
     ]
    },
    {
     "name": "stderr",
     "output_type": "stream",
     "text": [
      "[WARNING 09-30 17:00:25] Scheduler: Failed to fetch val_acc for trial 5, found MetricFetchE(message=\"No 'scalar' data found for trial in multiplexer mul=<tensorboard.backend.event_processing.plugin_event_multiplexer.EventMultiplexer object at 0x30fa47230>\").\n"
     ]
    },
    {
     "name": "stderr",
     "output_type": "stream",
     "text": [
      "[INFO 09-30 17:00:25] Scheduler: MetricFetchE INFO: Because val_acc is available_while_running and trial 5 is still RUNNING continuing the experiment and retrying on next poll...\n"
     ]
    },
    {
     "name": "stderr",
     "output_type": "stream",
     "text": [
      "[INFO 09-30 17:00:25] ax.early_stopping.strategies.base: PercentileEarlyStoppingStrategy received empty data. Not stopping any trials.\n"
     ]
    },
    {
     "name": "stderr",
     "output_type": "stream",
     "text": [
      "[INFO 09-30 17:00:25] Scheduler: Waiting for completed trials (for 10 sec, currently running trials: 5).\n"
     ]
    },
    {
     "name": "stderr",
     "output_type": "stream",
     "text": [
      "[INFO 09-30 17:00:35] Scheduler: Fetching data for newly completed trials: [].\n"
     ]
    },
    {
     "name": "stderr",
     "output_type": "stream",
     "text": [
      "[INFO 09-30 17:00:35] Scheduler: Fetching data for trials: [0, 1, 3, 4, 5] because some metrics on experiment are available while trials are running.\n"
     ]
    },
    {
     "name": "stderr",
     "output_type": "stream",
     "text": [
      "[INFO 09-30 17:00:35] ax.core.metric: MetricFetchE INFO: Initialized MetricFetchE(message=\"Failed to fetch data for val_acc\", exception=Found NaNs or Infs in data)\n",
      "with Traceback:\n",
      " Traceback (most recent call last):\n",
      "  File \"/Users/cristianlara/Projects/Ax-1.0/ax/metrics/tensorboard.py\", line 173, in bulk_fetch_trial_data\n",
      "    raise ValueError(\"Found NaNs or Infs in data\")\n",
      "ValueError: Found NaNs or Infs in data\n",
      "\n"
     ]
    },
    {
     "name": "stderr",
     "output_type": "stream",
     "text": [
      "[INFO 09-30 17:00:35] ax.core.metric: MetricFetchE INFO: Initialized MetricFetchE(message=\"Failed to fetch data for val_acc\", exception=Found NaNs or Infs in data)\n",
      "with Traceback:\n",
      " Traceback (most recent call last):\n",
      "  File \"/Users/cristianlara/Projects/Ax-1.0/ax/metrics/tensorboard.py\", line 173, in bulk_fetch_trial_data\n",
      "    raise ValueError(\"Found NaNs or Infs in data\")\n",
      "ValueError: Found NaNs or Infs in data\n",
      "\n"
     ]
    },
    {
     "name": "stderr",
     "output_type": "stream",
     "text": [
      "[INFO 09-30 17:00:35] ax.core.metric: MetricFetchE INFO: Initialized MetricFetchE(message=\"No 'scalar' data found for trial in multiplexer mul=<tensorboard.backend.event_processing.plugin_event_multiplexer.EventMultiplexer object at 0x30fd46ff0>\")\n"
     ]
    },
    {
     "name": "stderr",
     "output_type": "stream",
     "text": [
      "[ERROR 09-30 17:00:35] ax.core.experiment: Discovered Metric fetching Err while attaching data MetricFetchE(message=\"Failed to fetch data for val_acc\", exception=Found NaNs or Infs in data)\n",
      "with Traceback:\n",
      " Traceback (most recent call last):\n",
      "  File \"/Users/cristianlara/Projects/Ax-1.0/ax/metrics/tensorboard.py\", line 173, in bulk_fetch_trial_data\n",
      "    raise ValueError(\"Found NaNs or Infs in data\")\n",
      "ValueError: Found NaNs or Infs in data\n",
      ". Ignoring for now -- will retry query on next call to fetch.\n"
     ]
    },
    {
     "name": "stderr",
     "output_type": "stream",
     "text": [
      "[ERROR 09-30 17:00:35] ax.core.experiment: Discovered Metric fetching Err while attaching data MetricFetchE(message=\"Failed to fetch data for val_acc\", exception=Found NaNs or Infs in data)\n",
      "with Traceback:\n",
      " Traceback (most recent call last):\n",
      "  File \"/Users/cristianlara/Projects/Ax-1.0/ax/metrics/tensorboard.py\", line 173, in bulk_fetch_trial_data\n",
      "    raise ValueError(\"Found NaNs or Infs in data\")\n",
      "ValueError: Found NaNs or Infs in data\n",
      ". Ignoring for now -- will retry query on next call to fetch.\n"
     ]
    },
    {
     "name": "stderr",
     "output_type": "stream",
     "text": [
      "[ERROR 09-30 17:00:35] ax.core.experiment: Discovered Metric fetching Err while attaching data MetricFetchE(message=\"No 'scalar' data found for trial in multiplexer mul=<tensorboard.backend.event_processing.plugin_event_multiplexer.EventMultiplexer object at 0x30fd46ff0>\"). Ignoring for now -- will retry query on next call to fetch.\n"
     ]
    },
    {
     "name": "stderr",
     "output_type": "stream",
     "text": [
      "/Users/cristianlara/Projects/Ax-1.0/ax/core/map_data.py:195: FutureWarning: The behavior of DataFrame concatenation with empty or all-NA entries is deprecated. In a future version, this will no longer exclude empty or all-NA columns when determining the result dtypes. To retain the old behavior, exclude the relevant entries before the concat operation.\n",
      "  df = pd.concat(\n",
      "[WARNING 09-30 17:00:35] Scheduler: Failed to fetch val_acc for trial 0, found MetricFetchE(message=\"Failed to fetch data for val_acc\", exception=Found NaNs or Infs in data)\n",
      "with Traceback:\n",
      " Traceback (most recent call last):\n",
      "  File \"/Users/cristianlara/Projects/Ax-1.0/ax/metrics/tensorboard.py\", line 173, in bulk_fetch_trial_data\n",
      "    raise ValueError(\"Found NaNs or Infs in data\")\n",
      "ValueError: Found NaNs or Infs in data\n",
      ".\n"
     ]
    },
    {
     "name": "stderr",
     "output_type": "stream",
     "text": [
      "[INFO 09-30 17:00:35] Scheduler: MetricFetchE INFO: Because val_acc is available_while_running and trial 0 is still RUNNING continuing the experiment and retrying on next poll...\n"
     ]
    },
    {
     "name": "stderr",
     "output_type": "stream",
     "text": [
      "[WARNING 09-30 17:00:35] Scheduler: Failed to fetch val_acc for trial 4, found MetricFetchE(message=\"Failed to fetch data for val_acc\", exception=Found NaNs or Infs in data)\n",
      "with Traceback:\n",
      " Traceback (most recent call last):\n",
      "  File \"/Users/cristianlara/Projects/Ax-1.0/ax/metrics/tensorboard.py\", line 173, in bulk_fetch_trial_data\n",
      "    raise ValueError(\"Found NaNs or Infs in data\")\n",
      "ValueError: Found NaNs or Infs in data\n",
      ".\n"
     ]
    },
    {
     "name": "stderr",
     "output_type": "stream",
     "text": [
      "[INFO 09-30 17:00:35] Scheduler: MetricFetchE INFO: Because val_acc is available_while_running and trial 4 is still RUNNING continuing the experiment and retrying on next poll...\n"
     ]
    },
    {
     "name": "stderr",
     "output_type": "stream",
     "text": [
      "[WARNING 09-30 17:00:35] Scheduler: Failed to fetch val_acc for trial 5, found MetricFetchE(message=\"No 'scalar' data found for trial in multiplexer mul=<tensorboard.backend.event_processing.plugin_event_multiplexer.EventMultiplexer object at 0x30fd46ff0>\").\n"
     ]
    },
    {
     "name": "stderr",
     "output_type": "stream",
     "text": [
      "[INFO 09-30 17:00:35] Scheduler: MetricFetchE INFO: Because val_acc is available_while_running and trial 5 is still RUNNING continuing the experiment and retrying on next poll...\n"
     ]
    },
    {
     "name": "stderr",
     "output_type": "stream",
     "text": [
      "/Users/cristianlara/Projects/Ax-1.0/ax/core/map_data.py:195: FutureWarning: The behavior of DataFrame concatenation with empty or all-NA entries is deprecated. In a future version, this will no longer exclude empty or all-NA columns when determining the result dtypes. To retain the old behavior, exclude the relevant entries before the concat operation.\n",
      "  df = pd.concat(\n",
      "[INFO 09-30 17:00:35] ax.early_stopping.strategies.base: The number of completed trials (0) is less than the minimum number of curves needed for early stopping (5). Not early stopping.\n"
     ]
    },
    {
     "name": "stderr",
     "output_type": "stream",
     "text": [
      "[INFO 09-30 17:00:35] Scheduler: Waiting for completed trials (for 10 sec, currently running trials: 5).\n"
     ]
    },
    {
     "name": "stderr",
     "output_type": "stream",
     "text": [
      "[INFO 09-30 17:00:45] Scheduler: Fetching data for newly completed trials: [].\n"
     ]
    },
    {
     "name": "stderr",
     "output_type": "stream",
     "text": [
      "[INFO 09-30 17:00:45] Scheduler: Fetching data for trials: [0, 1, 3, 4, 5] because some metrics on experiment are available while trials are running.\n"
     ]
    },
    {
     "name": "stderr",
     "output_type": "stream",
     "text": [
      "[INFO 09-30 17:00:45] ax.core.metric: MetricFetchE INFO: Initialized MetricFetchE(message=\"Failed to fetch data for val_acc\", exception=Found NaNs or Infs in data)\n",
      "with Traceback:\n",
      " Traceback (most recent call last):\n",
      "  File \"/Users/cristianlara/Projects/Ax-1.0/ax/metrics/tensorboard.py\", line 173, in bulk_fetch_trial_data\n",
      "    raise ValueError(\"Found NaNs or Infs in data\")\n",
      "ValueError: Found NaNs or Infs in data\n",
      "\n"
     ]
    },
    {
     "name": "stderr",
     "output_type": "stream",
     "text": [
      "[INFO 09-30 17:00:45] ax.core.metric: MetricFetchE INFO: Initialized MetricFetchE(message=\"Failed to fetch data for val_acc\", exception=Found NaNs or Infs in data)\n",
      "with Traceback:\n",
      " Traceback (most recent call last):\n",
      "  File \"/Users/cristianlara/Projects/Ax-1.0/ax/metrics/tensorboard.py\", line 173, in bulk_fetch_trial_data\n",
      "    raise ValueError(\"Found NaNs or Infs in data\")\n",
      "ValueError: Found NaNs or Infs in data\n",
      "\n"
     ]
    },
    {
     "name": "stderr",
     "output_type": "stream",
     "text": [
      "[ERROR 09-30 17:00:45] ax.core.experiment: Discovered Metric fetching Err while attaching data MetricFetchE(message=\"Failed to fetch data for val_acc\", exception=Found NaNs or Infs in data)\n",
      "with Traceback:\n",
      " Traceback (most recent call last):\n",
      "  File \"/Users/cristianlara/Projects/Ax-1.0/ax/metrics/tensorboard.py\", line 173, in bulk_fetch_trial_data\n",
      "    raise ValueError(\"Found NaNs or Infs in data\")\n",
      "ValueError: Found NaNs or Infs in data\n",
      ". Ignoring for now -- will retry query on next call to fetch.\n"
     ]
    },
    {
     "name": "stderr",
     "output_type": "stream",
     "text": [
      "[ERROR 09-30 17:00:45] ax.core.experiment: Discovered Metric fetching Err while attaching data MetricFetchE(message=\"Failed to fetch data for val_acc\", exception=Found NaNs or Infs in data)\n",
      "with Traceback:\n",
      " Traceback (most recent call last):\n",
      "  File \"/Users/cristianlara/Projects/Ax-1.0/ax/metrics/tensorboard.py\", line 173, in bulk_fetch_trial_data\n",
      "    raise ValueError(\"Found NaNs or Infs in data\")\n",
      "ValueError: Found NaNs or Infs in data\n",
      ". Ignoring for now -- will retry query on next call to fetch.\n"
     ]
    },
    {
     "name": "stderr",
     "output_type": "stream",
     "text": [
      "/Users/cristianlara/Projects/Ax-1.0/ax/core/map_data.py:195: FutureWarning: The behavior of DataFrame concatenation with empty or all-NA entries is deprecated. In a future version, this will no longer exclude empty or all-NA columns when determining the result dtypes. To retain the old behavior, exclude the relevant entries before the concat operation.\n",
      "  df = pd.concat(\n",
      "[WARNING 09-30 17:00:45] Scheduler: Failed to fetch val_acc for trial 0, found MetricFetchE(message=\"Failed to fetch data for val_acc\", exception=Found NaNs or Infs in data)\n",
      "with Traceback:\n",
      " Traceback (most recent call last):\n",
      "  File \"/Users/cristianlara/Projects/Ax-1.0/ax/metrics/tensorboard.py\", line 173, in bulk_fetch_trial_data\n",
      "    raise ValueError(\"Found NaNs or Infs in data\")\n",
      "ValueError: Found NaNs or Infs in data\n",
      ".\n"
     ]
    },
    {
     "name": "stderr",
     "output_type": "stream",
     "text": [
      "[INFO 09-30 17:00:45] Scheduler: MetricFetchE INFO: Because val_acc is available_while_running and trial 0 is still RUNNING continuing the experiment and retrying on next poll...\n"
     ]
    },
    {
     "name": "stderr",
     "output_type": "stream",
     "text": [
      "[WARNING 09-30 17:00:45] Scheduler: Failed to fetch val_acc for trial 4, found MetricFetchE(message=\"Failed to fetch data for val_acc\", exception=Found NaNs or Infs in data)\n",
      "with Traceback:\n",
      " Traceback (most recent call last):\n",
      "  File \"/Users/cristianlara/Projects/Ax-1.0/ax/metrics/tensorboard.py\", line 173, in bulk_fetch_trial_data\n",
      "    raise ValueError(\"Found NaNs or Infs in data\")\n",
      "ValueError: Found NaNs or Infs in data\n",
      ".\n"
     ]
    },
    {
     "name": "stderr",
     "output_type": "stream",
     "text": [
      "[INFO 09-30 17:00:45] Scheduler: MetricFetchE INFO: Because val_acc is available_while_running and trial 4 is still RUNNING continuing the experiment and retrying on next poll...\n"
     ]
    },
    {
     "name": "stderr",
     "output_type": "stream",
     "text": [
      "/Users/cristianlara/Projects/Ax-1.0/ax/core/map_data.py:195: FutureWarning: The behavior of DataFrame concatenation with empty or all-NA entries is deprecated. In a future version, this will no longer exclude empty or all-NA columns when determining the result dtypes. To retain the old behavior, exclude the relevant entries before the concat operation.\n",
      "  df = pd.concat(\n",
      "[INFO 09-30 17:00:45] ax.early_stopping.strategies.base: The number of completed trials (0) is less than the minimum number of curves needed for early stopping (5). Not early stopping.\n"
     ]
    },
    {
     "name": "stderr",
     "output_type": "stream",
     "text": [
      "[INFO 09-30 17:00:45] Scheduler: Waiting for completed trials (for 10 sec, currently running trials: 5).\n"
     ]
    },
    {
     "name": "stderr",
     "output_type": "stream",
     "text": [
      "[INFO 09-30 17:00:55] Scheduler: Fetching data for newly completed trials: [].\n"
     ]
    },
    {
     "name": "stderr",
     "output_type": "stream",
     "text": [
      "[INFO 09-30 17:00:55] Scheduler: Fetching data for trials: [0, 1, 3, 4, 5] because some metrics on experiment are available while trials are running.\n"
     ]
    },
    {
     "name": "stderr",
     "output_type": "stream",
     "text": [
      "[INFO 09-30 17:00:55] ax.core.metric: MetricFetchE INFO: Initialized MetricFetchE(message=\"Failed to fetch data for val_acc\", exception=Found NaNs or Infs in data)\n",
      "with Traceback:\n",
      " Traceback (most recent call last):\n",
      "  File \"/Users/cristianlara/Projects/Ax-1.0/ax/metrics/tensorboard.py\", line 173, in bulk_fetch_trial_data\n",
      "    raise ValueError(\"Found NaNs or Infs in data\")\n",
      "ValueError: Found NaNs or Infs in data\n",
      "\n"
     ]
    },
    {
     "name": "stderr",
     "output_type": "stream",
     "text": [
      "[INFO 09-30 17:00:55] ax.core.metric: MetricFetchE INFO: Initialized MetricFetchE(message=\"Failed to fetch data for val_acc\", exception=Found NaNs or Infs in data)\n",
      "with Traceback:\n",
      " Traceback (most recent call last):\n",
      "  File \"/Users/cristianlara/Projects/Ax-1.0/ax/metrics/tensorboard.py\", line 173, in bulk_fetch_trial_data\n",
      "    raise ValueError(\"Found NaNs or Infs in data\")\n",
      "ValueError: Found NaNs or Infs in data\n",
      "\n"
     ]
    },
    {
     "name": "stderr",
     "output_type": "stream",
     "text": [
      "[ERROR 09-30 17:00:55] ax.core.experiment: Discovered Metric fetching Err while attaching data MetricFetchE(message=\"Failed to fetch data for val_acc\", exception=Found NaNs or Infs in data)\n",
      "with Traceback:\n",
      " Traceback (most recent call last):\n",
      "  File \"/Users/cristianlara/Projects/Ax-1.0/ax/metrics/tensorboard.py\", line 173, in bulk_fetch_trial_data\n",
      "    raise ValueError(\"Found NaNs or Infs in data\")\n",
      "ValueError: Found NaNs or Infs in data\n",
      ". Ignoring for now -- will retry query on next call to fetch.\n"
     ]
    },
    {
     "name": "stderr",
     "output_type": "stream",
     "text": [
      "[ERROR 09-30 17:00:55] ax.core.experiment: Discovered Metric fetching Err while attaching data MetricFetchE(message=\"Failed to fetch data for val_acc\", exception=Found NaNs or Infs in data)\n",
      "with Traceback:\n",
      " Traceback (most recent call last):\n",
      "  File \"/Users/cristianlara/Projects/Ax-1.0/ax/metrics/tensorboard.py\", line 173, in bulk_fetch_trial_data\n",
      "    raise ValueError(\"Found NaNs or Infs in data\")\n",
      "ValueError: Found NaNs or Infs in data\n",
      ". Ignoring for now -- will retry query on next call to fetch.\n"
     ]
    },
    {
     "name": "stderr",
     "output_type": "stream",
     "text": [
      "/Users/cristianlara/Projects/Ax-1.0/ax/core/map_data.py:195: FutureWarning: The behavior of DataFrame concatenation with empty or all-NA entries is deprecated. In a future version, this will no longer exclude empty or all-NA columns when determining the result dtypes. To retain the old behavior, exclude the relevant entries before the concat operation.\n",
      "  df = pd.concat(\n",
      "[WARNING 09-30 17:00:55] Scheduler: Failed to fetch val_acc for trial 0, found MetricFetchE(message=\"Failed to fetch data for val_acc\", exception=Found NaNs or Infs in data)\n",
      "with Traceback:\n",
      " Traceback (most recent call last):\n",
      "  File \"/Users/cristianlara/Projects/Ax-1.0/ax/metrics/tensorboard.py\", line 173, in bulk_fetch_trial_data\n",
      "    raise ValueError(\"Found NaNs or Infs in data\")\n",
      "ValueError: Found NaNs or Infs in data\n",
      ".\n"
     ]
    },
    {
     "name": "stderr",
     "output_type": "stream",
     "text": [
      "[INFO 09-30 17:00:55] Scheduler: MetricFetchE INFO: Because val_acc is available_while_running and trial 0 is still RUNNING continuing the experiment and retrying on next poll...\n"
     ]
    },
    {
     "name": "stderr",
     "output_type": "stream",
     "text": [
      "[WARNING 09-30 17:00:55] Scheduler: Failed to fetch val_acc for trial 4, found MetricFetchE(message=\"Failed to fetch data for val_acc\", exception=Found NaNs or Infs in data)\n",
      "with Traceback:\n",
      " Traceback (most recent call last):\n",
      "  File \"/Users/cristianlara/Projects/Ax-1.0/ax/metrics/tensorboard.py\", line 173, in bulk_fetch_trial_data\n",
      "    raise ValueError(\"Found NaNs or Infs in data\")\n",
      "ValueError: Found NaNs or Infs in data\n",
      ".\n"
     ]
    },
    {
     "name": "stderr",
     "output_type": "stream",
     "text": [
      "[INFO 09-30 17:00:55] Scheduler: MetricFetchE INFO: Because val_acc is available_while_running and trial 4 is still RUNNING continuing the experiment and retrying on next poll...\n"
     ]
    },
    {
     "name": "stderr",
     "output_type": "stream",
     "text": [
      "/Users/cristianlara/Projects/Ax-1.0/ax/core/map_data.py:195: FutureWarning: The behavior of DataFrame concatenation with empty or all-NA entries is deprecated. In a future version, this will no longer exclude empty or all-NA columns when determining the result dtypes. To retain the old behavior, exclude the relevant entries before the concat operation.\n",
      "  df = pd.concat(\n",
      "[INFO 09-30 17:00:55] ax.early_stopping.strategies.base: The number of completed trials (0) is less than the minimum number of curves needed for early stopping (5). Not early stopping.\n"
     ]
    },
    {
     "name": "stderr",
     "output_type": "stream",
     "text": [
      "[INFO 09-30 17:00:55] Scheduler: Waiting for completed trials (for 10 sec, currently running trials: 5).\n"
     ]
    },
    {
     "name": "stderr",
     "output_type": "stream",
     "text": [
      "[INFO 09-30 17:01:05] Scheduler: Fetching data for newly completed trials: [].\n"
     ]
    },
    {
     "name": "stderr",
     "output_type": "stream",
     "text": [
      "[INFO 09-30 17:01:05] Scheduler: Fetching data for trials: [0, 1, 3, 4, 5] because some metrics on experiment are available while trials are running.\n"
     ]
    },
    {
     "name": "stderr",
     "output_type": "stream",
     "text": [
      "[INFO 09-30 17:01:05] ax.core.metric: MetricFetchE INFO: Initialized MetricFetchE(message=\"Failed to fetch data for val_acc\", exception=Found NaNs or Infs in data)\n",
      "with Traceback:\n",
      " Traceback (most recent call last):\n",
      "  File \"/Users/cristianlara/Projects/Ax-1.0/ax/metrics/tensorboard.py\", line 173, in bulk_fetch_trial_data\n",
      "    raise ValueError(\"Found NaNs or Infs in data\")\n",
      "ValueError: Found NaNs or Infs in data\n",
      "\n"
     ]
    },
    {
     "name": "stderr",
     "output_type": "stream",
     "text": [
      "[INFO 09-30 17:01:05] ax.core.metric: MetricFetchE INFO: Initialized MetricFetchE(message=\"Failed to fetch data for val_acc\", exception=Found NaNs or Infs in data)\n",
      "with Traceback:\n",
      " Traceback (most recent call last):\n",
      "  File \"/Users/cristianlara/Projects/Ax-1.0/ax/metrics/tensorboard.py\", line 173, in bulk_fetch_trial_data\n",
      "    raise ValueError(\"Found NaNs or Infs in data\")\n",
      "ValueError: Found NaNs or Infs in data\n",
      "\n"
     ]
    },
    {
     "name": "stderr",
     "output_type": "stream",
     "text": [
      "[ERROR 09-30 17:01:05] ax.core.experiment: Discovered Metric fetching Err while attaching data MetricFetchE(message=\"Failed to fetch data for val_acc\", exception=Found NaNs or Infs in data)\n",
      "with Traceback:\n",
      " Traceback (most recent call last):\n",
      "  File \"/Users/cristianlara/Projects/Ax-1.0/ax/metrics/tensorboard.py\", line 173, in bulk_fetch_trial_data\n",
      "    raise ValueError(\"Found NaNs or Infs in data\")\n",
      "ValueError: Found NaNs or Infs in data\n",
      ". Ignoring for now -- will retry query on next call to fetch.\n"
     ]
    },
    {
     "name": "stderr",
     "output_type": "stream",
     "text": [
      "[ERROR 09-30 17:01:05] ax.core.experiment: Discovered Metric fetching Err while attaching data MetricFetchE(message=\"Failed to fetch data for val_acc\", exception=Found NaNs or Infs in data)\n",
      "with Traceback:\n",
      " Traceback (most recent call last):\n",
      "  File \"/Users/cristianlara/Projects/Ax-1.0/ax/metrics/tensorboard.py\", line 173, in bulk_fetch_trial_data\n",
      "    raise ValueError(\"Found NaNs or Infs in data\")\n",
      "ValueError: Found NaNs or Infs in data\n",
      ". Ignoring for now -- will retry query on next call to fetch.\n"
     ]
    },
    {
     "name": "stderr",
     "output_type": "stream",
     "text": [
      "/Users/cristianlara/Projects/Ax-1.0/ax/core/map_data.py:195: FutureWarning: The behavior of DataFrame concatenation with empty or all-NA entries is deprecated. In a future version, this will no longer exclude empty or all-NA columns when determining the result dtypes. To retain the old behavior, exclude the relevant entries before the concat operation.\n",
      "  df = pd.concat(\n",
      "[WARNING 09-30 17:01:05] Scheduler: Failed to fetch val_acc for trial 0, found MetricFetchE(message=\"Failed to fetch data for val_acc\", exception=Found NaNs or Infs in data)\n",
      "with Traceback:\n",
      " Traceback (most recent call last):\n",
      "  File \"/Users/cristianlara/Projects/Ax-1.0/ax/metrics/tensorboard.py\", line 173, in bulk_fetch_trial_data\n",
      "    raise ValueError(\"Found NaNs or Infs in data\")\n",
      "ValueError: Found NaNs or Infs in data\n",
      ".\n"
     ]
    },
    {
     "name": "stderr",
     "output_type": "stream",
     "text": [
      "[INFO 09-30 17:01:05] Scheduler: MetricFetchE INFO: Because val_acc is available_while_running and trial 0 is still RUNNING continuing the experiment and retrying on next poll...\n"
     ]
    },
    {
     "name": "stderr",
     "output_type": "stream",
     "text": [
      "[WARNING 09-30 17:01:05] Scheduler: Failed to fetch val_acc for trial 4, found MetricFetchE(message=\"Failed to fetch data for val_acc\", exception=Found NaNs or Infs in data)\n",
      "with Traceback:\n",
      " Traceback (most recent call last):\n",
      "  File \"/Users/cristianlara/Projects/Ax-1.0/ax/metrics/tensorboard.py\", line 173, in bulk_fetch_trial_data\n",
      "    raise ValueError(\"Found NaNs or Infs in data\")\n",
      "ValueError: Found NaNs or Infs in data\n",
      ".\n"
     ]
    },
    {
     "name": "stderr",
     "output_type": "stream",
     "text": [
      "[INFO 09-30 17:01:05] Scheduler: MetricFetchE INFO: Because val_acc is available_while_running and trial 4 is still RUNNING continuing the experiment and retrying on next poll...\n"
     ]
    },
    {
     "name": "stderr",
     "output_type": "stream",
     "text": [
      "/Users/cristianlara/Projects/Ax-1.0/ax/core/map_data.py:195: FutureWarning: The behavior of DataFrame concatenation with empty or all-NA entries is deprecated. In a future version, this will no longer exclude empty or all-NA columns when determining the result dtypes. To retain the old behavior, exclude the relevant entries before the concat operation.\n",
      "  df = pd.concat(\n",
      "[INFO 09-30 17:01:05] ax.early_stopping.strategies.base: The number of completed trials (0) is less than the minimum number of curves needed for early stopping (5). Not early stopping.\n"
     ]
    },
    {
     "name": "stderr",
     "output_type": "stream",
     "text": [
      "[INFO 09-30 17:01:05] Scheduler: Waiting for completed trials (for 10 sec, currently running trials: 5).\n"
     ]
    },
    {
     "name": "stderr",
     "output_type": "stream",
     "text": [
      "[INFO 09-30 17:01:15] Scheduler: Fetching data for newly completed trials: [].\n"
     ]
    },
    {
     "name": "stderr",
     "output_type": "stream",
     "text": [
      "[INFO 09-30 17:01:15] Scheduler: Fetching data for trials: [0, 1, 3, 4, 5] because some metrics on experiment are available while trials are running.\n"
     ]
    },
    {
     "name": "stderr",
     "output_type": "stream",
     "text": [
      "[INFO 09-30 17:01:15] ax.core.metric: MetricFetchE INFO: Initialized MetricFetchE(message=\"Failed to fetch data for val_acc\", exception=Found NaNs or Infs in data)\n",
      "with Traceback:\n",
      " Traceback (most recent call last):\n",
      "  File \"/Users/cristianlara/Projects/Ax-1.0/ax/metrics/tensorboard.py\", line 173, in bulk_fetch_trial_data\n",
      "    raise ValueError(\"Found NaNs or Infs in data\")\n",
      "ValueError: Found NaNs or Infs in data\n",
      "\n"
     ]
    },
    {
     "name": "stderr",
     "output_type": "stream",
     "text": [
      "[INFO 09-30 17:01:15] ax.core.metric: MetricFetchE INFO: Initialized MetricFetchE(message=\"Failed to fetch data for val_acc\", exception=Found NaNs or Infs in data)\n",
      "with Traceback:\n",
      " Traceback (most recent call last):\n",
      "  File \"/Users/cristianlara/Projects/Ax-1.0/ax/metrics/tensorboard.py\", line 173, in bulk_fetch_trial_data\n",
      "    raise ValueError(\"Found NaNs or Infs in data\")\n",
      "ValueError: Found NaNs or Infs in data\n",
      "\n"
     ]
    },
    {
     "name": "stderr",
     "output_type": "stream",
     "text": [
      "[ERROR 09-30 17:01:15] ax.core.experiment: Discovered Metric fetching Err while attaching data MetricFetchE(message=\"Failed to fetch data for val_acc\", exception=Found NaNs or Infs in data)\n",
      "with Traceback:\n",
      " Traceback (most recent call last):\n",
      "  File \"/Users/cristianlara/Projects/Ax-1.0/ax/metrics/tensorboard.py\", line 173, in bulk_fetch_trial_data\n",
      "    raise ValueError(\"Found NaNs or Infs in data\")\n",
      "ValueError: Found NaNs or Infs in data\n",
      ". Ignoring for now -- will retry query on next call to fetch.\n"
     ]
    },
    {
     "name": "stderr",
     "output_type": "stream",
     "text": [
      "[ERROR 09-30 17:01:15] ax.core.experiment: Discovered Metric fetching Err while attaching data MetricFetchE(message=\"Failed to fetch data for val_acc\", exception=Found NaNs or Infs in data)\n",
      "with Traceback:\n",
      " Traceback (most recent call last):\n",
      "  File \"/Users/cristianlara/Projects/Ax-1.0/ax/metrics/tensorboard.py\", line 173, in bulk_fetch_trial_data\n",
      "    raise ValueError(\"Found NaNs or Infs in data\")\n",
      "ValueError: Found NaNs or Infs in data\n",
      ". Ignoring for now -- will retry query on next call to fetch.\n"
     ]
    },
    {
     "name": "stderr",
     "output_type": "stream",
     "text": [
      "/Users/cristianlara/Projects/Ax-1.0/ax/core/map_data.py:195: FutureWarning: The behavior of DataFrame concatenation with empty or all-NA entries is deprecated. In a future version, this will no longer exclude empty or all-NA columns when determining the result dtypes. To retain the old behavior, exclude the relevant entries before the concat operation.\n",
      "  df = pd.concat(\n",
      "[WARNING 09-30 17:01:15] Scheduler: Failed to fetch val_acc for trial 0, found MetricFetchE(message=\"Failed to fetch data for val_acc\", exception=Found NaNs or Infs in data)\n",
      "with Traceback:\n",
      " Traceback (most recent call last):\n",
      "  File \"/Users/cristianlara/Projects/Ax-1.0/ax/metrics/tensorboard.py\", line 173, in bulk_fetch_trial_data\n",
      "    raise ValueError(\"Found NaNs or Infs in data\")\n",
      "ValueError: Found NaNs or Infs in data\n",
      ".\n"
     ]
    },
    {
     "name": "stderr",
     "output_type": "stream",
     "text": [
      "[INFO 09-30 17:01:15] Scheduler: MetricFetchE INFO: Because val_acc is available_while_running and trial 0 is still RUNNING continuing the experiment and retrying on next poll...\n"
     ]
    },
    {
     "name": "stderr",
     "output_type": "stream",
     "text": [
      "[WARNING 09-30 17:01:15] Scheduler: Failed to fetch val_acc for trial 4, found MetricFetchE(message=\"Failed to fetch data for val_acc\", exception=Found NaNs or Infs in data)\n",
      "with Traceback:\n",
      " Traceback (most recent call last):\n",
      "  File \"/Users/cristianlara/Projects/Ax-1.0/ax/metrics/tensorboard.py\", line 173, in bulk_fetch_trial_data\n",
      "    raise ValueError(\"Found NaNs or Infs in data\")\n",
      "ValueError: Found NaNs or Infs in data\n",
      ".\n"
     ]
    },
    {
     "name": "stderr",
     "output_type": "stream",
     "text": [
      "[INFO 09-30 17:01:15] Scheduler: MetricFetchE INFO: Because val_acc is available_while_running and trial 4 is still RUNNING continuing the experiment and retrying on next poll...\n"
     ]
    },
    {
     "name": "stderr",
     "output_type": "stream",
     "text": [
      "/Users/cristianlara/Projects/Ax-1.0/ax/core/map_data.py:195: FutureWarning: The behavior of DataFrame concatenation with empty or all-NA entries is deprecated. In a future version, this will no longer exclude empty or all-NA columns when determining the result dtypes. To retain the old behavior, exclude the relevant entries before the concat operation.\n",
      "  df = pd.concat(\n",
      "[INFO 09-30 17:01:15] ax.early_stopping.strategies.base: The number of completed trials (0) is less than the minimum number of curves needed for early stopping (5). Not early stopping.\n"
     ]
    },
    {
     "name": "stderr",
     "output_type": "stream",
     "text": [
      "[INFO 09-30 17:01:15] Scheduler: Waiting for completed trials (for 10 sec, currently running trials: 5).\n"
     ]
    },
    {
     "name": "stderr",
     "output_type": "stream",
     "text": [
      "[INFO 09-30 17:01:25] Scheduler: Fetching data for newly completed trials: [].\n"
     ]
    },
    {
     "name": "stderr",
     "output_type": "stream",
     "text": [
      "[INFO 09-30 17:01:25] Scheduler: Fetching data for trials: [0, 1, 3, 4, 5] because some metrics on experiment are available while trials are running.\n"
     ]
    },
    {
     "name": "stderr",
     "output_type": "stream",
     "text": [
      "[INFO 09-30 17:01:25] ax.core.metric: MetricFetchE INFO: Initialized MetricFetchE(message=\"Failed to fetch data for val_acc\", exception=Found NaNs or Infs in data)\n",
      "with Traceback:\n",
      " Traceback (most recent call last):\n",
      "  File \"/Users/cristianlara/Projects/Ax-1.0/ax/metrics/tensorboard.py\", line 173, in bulk_fetch_trial_data\n",
      "    raise ValueError(\"Found NaNs or Infs in data\")\n",
      "ValueError: Found NaNs or Infs in data\n",
      "\n"
     ]
    },
    {
     "name": "stderr",
     "output_type": "stream",
     "text": [
      "[INFO 09-30 17:01:25] ax.core.metric: MetricFetchE INFO: Initialized MetricFetchE(message=\"Failed to fetch data for val_acc\", exception=Found NaNs or Infs in data)\n",
      "with Traceback:\n",
      " Traceback (most recent call last):\n",
      "  File \"/Users/cristianlara/Projects/Ax-1.0/ax/metrics/tensorboard.py\", line 173, in bulk_fetch_trial_data\n",
      "    raise ValueError(\"Found NaNs or Infs in data\")\n",
      "ValueError: Found NaNs or Infs in data\n",
      "\n"
     ]
    },
    {
     "name": "stderr",
     "output_type": "stream",
     "text": [
      "[ERROR 09-30 17:01:25] ax.core.experiment: Discovered Metric fetching Err while attaching data MetricFetchE(message=\"Failed to fetch data for val_acc\", exception=Found NaNs or Infs in data)\n",
      "with Traceback:\n",
      " Traceback (most recent call last):\n",
      "  File \"/Users/cristianlara/Projects/Ax-1.0/ax/metrics/tensorboard.py\", line 173, in bulk_fetch_trial_data\n",
      "    raise ValueError(\"Found NaNs or Infs in data\")\n",
      "ValueError: Found NaNs or Infs in data\n",
      ". Ignoring for now -- will retry query on next call to fetch.\n"
     ]
    },
    {
     "name": "stderr",
     "output_type": "stream",
     "text": [
      "[ERROR 09-30 17:01:25] ax.core.experiment: Discovered Metric fetching Err while attaching data MetricFetchE(message=\"Failed to fetch data for val_acc\", exception=Found NaNs or Infs in data)\n",
      "with Traceback:\n",
      " Traceback (most recent call last):\n",
      "  File \"/Users/cristianlara/Projects/Ax-1.0/ax/metrics/tensorboard.py\", line 173, in bulk_fetch_trial_data\n",
      "    raise ValueError(\"Found NaNs or Infs in data\")\n",
      "ValueError: Found NaNs or Infs in data\n",
      ". Ignoring for now -- will retry query on next call to fetch.\n"
     ]
    },
    {
     "name": "stderr",
     "output_type": "stream",
     "text": [
      "/Users/cristianlara/Projects/Ax-1.0/ax/core/map_data.py:195: FutureWarning: The behavior of DataFrame concatenation with empty or all-NA entries is deprecated. In a future version, this will no longer exclude empty or all-NA columns when determining the result dtypes. To retain the old behavior, exclude the relevant entries before the concat operation.\n",
      "  df = pd.concat(\n",
      "[WARNING 09-30 17:01:25] Scheduler: Failed to fetch val_acc for trial 0, found MetricFetchE(message=\"Failed to fetch data for val_acc\", exception=Found NaNs or Infs in data)\n",
      "with Traceback:\n",
      " Traceback (most recent call last):\n",
      "  File \"/Users/cristianlara/Projects/Ax-1.0/ax/metrics/tensorboard.py\", line 173, in bulk_fetch_trial_data\n",
      "    raise ValueError(\"Found NaNs or Infs in data\")\n",
      "ValueError: Found NaNs or Infs in data\n",
      ".\n"
     ]
    },
    {
     "name": "stderr",
     "output_type": "stream",
     "text": [
      "[INFO 09-30 17:01:25] Scheduler: MetricFetchE INFO: Because val_acc is available_while_running and trial 0 is still RUNNING continuing the experiment and retrying on next poll...\n"
     ]
    },
    {
     "name": "stderr",
     "output_type": "stream",
     "text": [
      "[WARNING 09-30 17:01:25] Scheduler: Failed to fetch val_acc for trial 4, found MetricFetchE(message=\"Failed to fetch data for val_acc\", exception=Found NaNs or Infs in data)\n",
      "with Traceback:\n",
      " Traceback (most recent call last):\n",
      "  File \"/Users/cristianlara/Projects/Ax-1.0/ax/metrics/tensorboard.py\", line 173, in bulk_fetch_trial_data\n",
      "    raise ValueError(\"Found NaNs or Infs in data\")\n",
      "ValueError: Found NaNs or Infs in data\n",
      ".\n"
     ]
    },
    {
     "name": "stderr",
     "output_type": "stream",
     "text": [
      "[INFO 09-30 17:01:25] Scheduler: MetricFetchE INFO: Because val_acc is available_while_running and trial 4 is still RUNNING continuing the experiment and retrying on next poll...\n"
     ]
    },
    {
     "name": "stderr",
     "output_type": "stream",
     "text": [
      "/Users/cristianlara/Projects/Ax-1.0/ax/core/map_data.py:195: FutureWarning: The behavior of DataFrame concatenation with empty or all-NA entries is deprecated. In a future version, this will no longer exclude empty or all-NA columns when determining the result dtypes. To retain the old behavior, exclude the relevant entries before the concat operation.\n",
      "  df = pd.concat(\n",
      "[INFO 09-30 17:01:25] ax.early_stopping.strategies.base: The number of completed trials (0) is less than the minimum number of curves needed for early stopping (5). Not early stopping.\n"
     ]
    },
    {
     "name": "stderr",
     "output_type": "stream",
     "text": [
      "[INFO 09-30 17:01:25] Scheduler: Waiting for completed trials (for 10 sec, currently running trials: 5).\n"
     ]
    },
    {
     "name": "stderr",
     "output_type": "stream",
     "text": [
      "[INFO 09-30 17:01:35] Scheduler: Fetching data for newly completed trials: [].\n"
     ]
    },
    {
     "name": "stderr",
     "output_type": "stream",
     "text": [
      "[INFO 09-30 17:01:35] Scheduler: Fetching data for trials: [0, 1, 3, 4, 5] because some metrics on experiment are available while trials are running.\n"
     ]
    },
    {
     "name": "stderr",
     "output_type": "stream",
     "text": [
      "[INFO 09-30 17:01:35] ax.core.metric: MetricFetchE INFO: Initialized MetricFetchE(message=\"Failed to fetch data for val_acc\", exception=Found NaNs or Infs in data)\n",
      "with Traceback:\n",
      " Traceback (most recent call last):\n",
      "  File \"/Users/cristianlara/Projects/Ax-1.0/ax/metrics/tensorboard.py\", line 173, in bulk_fetch_trial_data\n",
      "    raise ValueError(\"Found NaNs or Infs in data\")\n",
      "ValueError: Found NaNs or Infs in data\n",
      "\n"
     ]
    },
    {
     "name": "stderr",
     "output_type": "stream",
     "text": [
      "[INFO 09-30 17:01:35] ax.core.metric: MetricFetchE INFO: Initialized MetricFetchE(message=\"Failed to fetch data for val_acc\", exception=Found NaNs or Infs in data)\n",
      "with Traceback:\n",
      " Traceback (most recent call last):\n",
      "  File \"/Users/cristianlara/Projects/Ax-1.0/ax/metrics/tensorboard.py\", line 173, in bulk_fetch_trial_data\n",
      "    raise ValueError(\"Found NaNs or Infs in data\")\n",
      "ValueError: Found NaNs or Infs in data\n",
      "\n"
     ]
    },
    {
     "name": "stderr",
     "output_type": "stream",
     "text": [
      "[INFO 09-30 17:01:36] ax.core.metric: MetricFetchE INFO: Initialized MetricFetchE(message=\"Failed to fetch data for val_acc\", exception=Found NaNs or Infs in data)\n",
      "with Traceback:\n",
      " Traceback (most recent call last):\n",
      "  File \"/Users/cristianlara/Projects/Ax-1.0/ax/metrics/tensorboard.py\", line 173, in bulk_fetch_trial_data\n",
      "    raise ValueError(\"Found NaNs or Infs in data\")\n",
      "ValueError: Found NaNs or Infs in data\n",
      "\n"
     ]
    },
    {
     "name": "stderr",
     "output_type": "stream",
     "text": [
      "[ERROR 09-30 17:01:36] ax.core.experiment: Discovered Metric fetching Err while attaching data MetricFetchE(message=\"Failed to fetch data for val_acc\", exception=Found NaNs or Infs in data)\n",
      "with Traceback:\n",
      " Traceback (most recent call last):\n",
      "  File \"/Users/cristianlara/Projects/Ax-1.0/ax/metrics/tensorboard.py\", line 173, in bulk_fetch_trial_data\n",
      "    raise ValueError(\"Found NaNs or Infs in data\")\n",
      "ValueError: Found NaNs or Infs in data\n",
      ". Ignoring for now -- will retry query on next call to fetch.\n"
     ]
    },
    {
     "name": "stderr",
     "output_type": "stream",
     "text": [
      "[ERROR 09-30 17:01:36] ax.core.experiment: Discovered Metric fetching Err while attaching data MetricFetchE(message=\"Failed to fetch data for val_acc\", exception=Found NaNs or Infs in data)\n",
      "with Traceback:\n",
      " Traceback (most recent call last):\n",
      "  File \"/Users/cristianlara/Projects/Ax-1.0/ax/metrics/tensorboard.py\", line 173, in bulk_fetch_trial_data\n",
      "    raise ValueError(\"Found NaNs or Infs in data\")\n",
      "ValueError: Found NaNs or Infs in data\n",
      ". Ignoring for now -- will retry query on next call to fetch.\n"
     ]
    },
    {
     "name": "stderr",
     "output_type": "stream",
     "text": [
      "[ERROR 09-30 17:01:36] ax.core.experiment: Discovered Metric fetching Err while attaching data MetricFetchE(message=\"Failed to fetch data for val_acc\", exception=Found NaNs or Infs in data)\n",
      "with Traceback:\n",
      " Traceback (most recent call last):\n",
      "  File \"/Users/cristianlara/Projects/Ax-1.0/ax/metrics/tensorboard.py\", line 173, in bulk_fetch_trial_data\n",
      "    raise ValueError(\"Found NaNs or Infs in data\")\n",
      "ValueError: Found NaNs or Infs in data\n",
      ". Ignoring for now -- will retry query on next call to fetch.\n"
     ]
    },
    {
     "name": "stderr",
     "output_type": "stream",
     "text": [
      "/Users/cristianlara/Projects/Ax-1.0/ax/core/map_data.py:195: FutureWarning: The behavior of DataFrame concatenation with empty or all-NA entries is deprecated. In a future version, this will no longer exclude empty or all-NA columns when determining the result dtypes. To retain the old behavior, exclude the relevant entries before the concat operation.\n",
      "  df = pd.concat(\n",
      "[WARNING 09-30 17:01:36] Scheduler: Failed to fetch val_acc for trial 0, found MetricFetchE(message=\"Failed to fetch data for val_acc\", exception=Found NaNs or Infs in data)\n",
      "with Traceback:\n",
      " Traceback (most recent call last):\n",
      "  File \"/Users/cristianlara/Projects/Ax-1.0/ax/metrics/tensorboard.py\", line 173, in bulk_fetch_trial_data\n",
      "    raise ValueError(\"Found NaNs or Infs in data\")\n",
      "ValueError: Found NaNs or Infs in data\n",
      ".\n"
     ]
    },
    {
     "name": "stderr",
     "output_type": "stream",
     "text": [
      "[INFO 09-30 17:01:36] Scheduler: MetricFetchE INFO: Because val_acc is available_while_running and trial 0 is still RUNNING continuing the experiment and retrying on next poll...\n"
     ]
    },
    {
     "name": "stderr",
     "output_type": "stream",
     "text": [
      "[WARNING 09-30 17:01:36] Scheduler: Failed to fetch val_acc for trial 1, found MetricFetchE(message=\"Failed to fetch data for val_acc\", exception=Found NaNs or Infs in data)\n",
      "with Traceback:\n",
      " Traceback (most recent call last):\n",
      "  File \"/Users/cristianlara/Projects/Ax-1.0/ax/metrics/tensorboard.py\", line 173, in bulk_fetch_trial_data\n",
      "    raise ValueError(\"Found NaNs or Infs in data\")\n",
      "ValueError: Found NaNs or Infs in data\n",
      ".\n"
     ]
    },
    {
     "name": "stderr",
     "output_type": "stream",
     "text": [
      "[INFO 09-30 17:01:36] Scheduler: MetricFetchE INFO: Because val_acc is available_while_running and trial 1 is still RUNNING continuing the experiment and retrying on next poll...\n"
     ]
    },
    {
     "name": "stderr",
     "output_type": "stream",
     "text": [
      "[WARNING 09-30 17:01:36] Scheduler: Failed to fetch val_acc for trial 4, found MetricFetchE(message=\"Failed to fetch data for val_acc\", exception=Found NaNs or Infs in data)\n",
      "with Traceback:\n",
      " Traceback (most recent call last):\n",
      "  File \"/Users/cristianlara/Projects/Ax-1.0/ax/metrics/tensorboard.py\", line 173, in bulk_fetch_trial_data\n",
      "    raise ValueError(\"Found NaNs or Infs in data\")\n",
      "ValueError: Found NaNs or Infs in data\n",
      ".\n"
     ]
    },
    {
     "name": "stderr",
     "output_type": "stream",
     "text": [
      "[INFO 09-30 17:01:36] Scheduler: MetricFetchE INFO: Because val_acc is available_while_running and trial 4 is still RUNNING continuing the experiment and retrying on next poll...\n"
     ]
    },
    {
     "name": "stderr",
     "output_type": "stream",
     "text": [
      "/Users/cristianlara/Projects/Ax-1.0/ax/core/map_data.py:195: FutureWarning: The behavior of DataFrame concatenation with empty or all-NA entries is deprecated. In a future version, this will no longer exclude empty or all-NA columns when determining the result dtypes. To retain the old behavior, exclude the relevant entries before the concat operation.\n",
      "  df = pd.concat(\n",
      "[INFO 09-30 17:01:36] ax.early_stopping.strategies.base: The number of completed trials (0) is less than the minimum number of curves needed for early stopping (5). Not early stopping.\n"
     ]
    },
    {
     "name": "stderr",
     "output_type": "stream",
     "text": [
      "[INFO 09-30 17:01:36] Scheduler: Waiting for completed trials (for 10 sec, currently running trials: 5).\n"
     ]
    },
    {
     "name": "stderr",
     "output_type": "stream",
     "text": [
      "[INFO 09-30 17:01:46] Scheduler: Fetching data for newly completed trials: [].\n"
     ]
    },
    {
     "name": "stderr",
     "output_type": "stream",
     "text": [
      "[INFO 09-30 17:01:46] Scheduler: Fetching data for trials: [0, 1, 3, 4, 5] because some metrics on experiment are available while trials are running.\n"
     ]
    },
    {
     "name": "stderr",
     "output_type": "stream",
     "text": [
      "[INFO 09-30 17:01:46] ax.core.metric: MetricFetchE INFO: Initialized MetricFetchE(message=\"Failed to fetch data for val_acc\", exception=Found NaNs or Infs in data)\n",
      "with Traceback:\n",
      " Traceback (most recent call last):\n",
      "  File \"/Users/cristianlara/Projects/Ax-1.0/ax/metrics/tensorboard.py\", line 173, in bulk_fetch_trial_data\n",
      "    raise ValueError(\"Found NaNs or Infs in data\")\n",
      "ValueError: Found NaNs or Infs in data\n",
      "\n"
     ]
    },
    {
     "name": "stderr",
     "output_type": "stream",
     "text": [
      "[INFO 09-30 17:01:46] ax.core.metric: MetricFetchE INFO: Initialized MetricFetchE(message=\"Failed to fetch data for val_acc\", exception=Found NaNs or Infs in data)\n",
      "with Traceback:\n",
      " Traceback (most recent call last):\n",
      "  File \"/Users/cristianlara/Projects/Ax-1.0/ax/metrics/tensorboard.py\", line 173, in bulk_fetch_trial_data\n",
      "    raise ValueError(\"Found NaNs or Infs in data\")\n",
      "ValueError: Found NaNs or Infs in data\n",
      "\n"
     ]
    },
    {
     "name": "stderr",
     "output_type": "stream",
     "text": [
      "[INFO 09-30 17:01:46] ax.core.metric: MetricFetchE INFO: Initialized MetricFetchE(message=\"Failed to fetch data for val_acc\", exception=Found NaNs or Infs in data)\n",
      "with Traceback:\n",
      " Traceback (most recent call last):\n",
      "  File \"/Users/cristianlara/Projects/Ax-1.0/ax/metrics/tensorboard.py\", line 173, in bulk_fetch_trial_data\n",
      "    raise ValueError(\"Found NaNs or Infs in data\")\n",
      "ValueError: Found NaNs or Infs in data\n",
      "\n"
     ]
    },
    {
     "name": "stderr",
     "output_type": "stream",
     "text": [
      "[ERROR 09-30 17:01:46] ax.core.experiment: Discovered Metric fetching Err while attaching data MetricFetchE(message=\"Failed to fetch data for val_acc\", exception=Found NaNs or Infs in data)\n",
      "with Traceback:\n",
      " Traceback (most recent call last):\n",
      "  File \"/Users/cristianlara/Projects/Ax-1.0/ax/metrics/tensorboard.py\", line 173, in bulk_fetch_trial_data\n",
      "    raise ValueError(\"Found NaNs or Infs in data\")\n",
      "ValueError: Found NaNs or Infs in data\n",
      ". Ignoring for now -- will retry query on next call to fetch.\n"
     ]
    },
    {
     "name": "stderr",
     "output_type": "stream",
     "text": [
      "[ERROR 09-30 17:01:46] ax.core.experiment: Discovered Metric fetching Err while attaching data MetricFetchE(message=\"Failed to fetch data for val_acc\", exception=Found NaNs or Infs in data)\n",
      "with Traceback:\n",
      " Traceback (most recent call last):\n",
      "  File \"/Users/cristianlara/Projects/Ax-1.0/ax/metrics/tensorboard.py\", line 173, in bulk_fetch_trial_data\n",
      "    raise ValueError(\"Found NaNs or Infs in data\")\n",
      "ValueError: Found NaNs or Infs in data\n",
      ". Ignoring for now -- will retry query on next call to fetch.\n"
     ]
    },
    {
     "name": "stderr",
     "output_type": "stream",
     "text": [
      "[ERROR 09-30 17:01:46] ax.core.experiment: Discovered Metric fetching Err while attaching data MetricFetchE(message=\"Failed to fetch data for val_acc\", exception=Found NaNs or Infs in data)\n",
      "with Traceback:\n",
      " Traceback (most recent call last):\n",
      "  File \"/Users/cristianlara/Projects/Ax-1.0/ax/metrics/tensorboard.py\", line 173, in bulk_fetch_trial_data\n",
      "    raise ValueError(\"Found NaNs or Infs in data\")\n",
      "ValueError: Found NaNs or Infs in data\n",
      ". Ignoring for now -- will retry query on next call to fetch.\n"
     ]
    },
    {
     "name": "stderr",
     "output_type": "stream",
     "text": [
      "/Users/cristianlara/Projects/Ax-1.0/ax/core/map_data.py:195: FutureWarning: The behavior of DataFrame concatenation with empty or all-NA entries is deprecated. In a future version, this will no longer exclude empty or all-NA columns when determining the result dtypes. To retain the old behavior, exclude the relevant entries before the concat operation.\n",
      "  df = pd.concat(\n",
      "[WARNING 09-30 17:01:46] Scheduler: Failed to fetch val_acc for trial 0, found MetricFetchE(message=\"Failed to fetch data for val_acc\", exception=Found NaNs or Infs in data)\n",
      "with Traceback:\n",
      " Traceback (most recent call last):\n",
      "  File \"/Users/cristianlara/Projects/Ax-1.0/ax/metrics/tensorboard.py\", line 173, in bulk_fetch_trial_data\n",
      "    raise ValueError(\"Found NaNs or Infs in data\")\n",
      "ValueError: Found NaNs or Infs in data\n",
      ".\n"
     ]
    },
    {
     "name": "stderr",
     "output_type": "stream",
     "text": [
      "[INFO 09-30 17:01:46] Scheduler: MetricFetchE INFO: Because val_acc is available_while_running and trial 0 is still RUNNING continuing the experiment and retrying on next poll...\n"
     ]
    },
    {
     "name": "stderr",
     "output_type": "stream",
     "text": [
      "[WARNING 09-30 17:01:46] Scheduler: Failed to fetch val_acc for trial 1, found MetricFetchE(message=\"Failed to fetch data for val_acc\", exception=Found NaNs or Infs in data)\n",
      "with Traceback:\n",
      " Traceback (most recent call last):\n",
      "  File \"/Users/cristianlara/Projects/Ax-1.0/ax/metrics/tensorboard.py\", line 173, in bulk_fetch_trial_data\n",
      "    raise ValueError(\"Found NaNs or Infs in data\")\n",
      "ValueError: Found NaNs or Infs in data\n",
      ".\n"
     ]
    },
    {
     "name": "stderr",
     "output_type": "stream",
     "text": [
      "[INFO 09-30 17:01:46] Scheduler: MetricFetchE INFO: Because val_acc is available_while_running and trial 1 is still RUNNING continuing the experiment and retrying on next poll...\n"
     ]
    },
    {
     "name": "stderr",
     "output_type": "stream",
     "text": [
      "[WARNING 09-30 17:01:46] Scheduler: Failed to fetch val_acc for trial 4, found MetricFetchE(message=\"Failed to fetch data for val_acc\", exception=Found NaNs or Infs in data)\n",
      "with Traceback:\n",
      " Traceback (most recent call last):\n",
      "  File \"/Users/cristianlara/Projects/Ax-1.0/ax/metrics/tensorboard.py\", line 173, in bulk_fetch_trial_data\n",
      "    raise ValueError(\"Found NaNs or Infs in data\")\n",
      "ValueError: Found NaNs or Infs in data\n",
      ".\n"
     ]
    },
    {
     "name": "stderr",
     "output_type": "stream",
     "text": [
      "[INFO 09-30 17:01:46] Scheduler: MetricFetchE INFO: Because val_acc is available_while_running and trial 4 is still RUNNING continuing the experiment and retrying on next poll...\n"
     ]
    },
    {
     "name": "stderr",
     "output_type": "stream",
     "text": [
      "/Users/cristianlara/Projects/Ax-1.0/ax/core/map_data.py:195: FutureWarning: The behavior of DataFrame concatenation with empty or all-NA entries is deprecated. In a future version, this will no longer exclude empty or all-NA columns when determining the result dtypes. To retain the old behavior, exclude the relevant entries before the concat operation.\n",
      "  df = pd.concat(\n",
      "[INFO 09-30 17:01:46] ax.early_stopping.strategies.base: The number of completed trials (0) is less than the minimum number of curves needed for early stopping (5). Not early stopping.\n"
     ]
    },
    {
     "name": "stderr",
     "output_type": "stream",
     "text": [
      "[INFO 09-30 17:01:46] Scheduler: Waiting for completed trials (for 10 sec, currently running trials: 5).\n"
     ]
    },
    {
     "name": "stderr",
     "output_type": "stream",
     "text": [
      "[INFO 09-30 17:01:56] Scheduler: Fetching data for newly completed trials: [].\n"
     ]
    },
    {
     "name": "stderr",
     "output_type": "stream",
     "text": [
      "[INFO 09-30 17:01:56] Scheduler: Fetching data for trials: [0, 1, 3, 4, 5] because some metrics on experiment are available while trials are running.\n"
     ]
    },
    {
     "name": "stderr",
     "output_type": "stream",
     "text": [
      "[INFO 09-30 17:01:56] ax.core.metric: MetricFetchE INFO: Initialized MetricFetchE(message=\"Failed to fetch data for val_acc\", exception=Found NaNs or Infs in data)\n",
      "with Traceback:\n",
      " Traceback (most recent call last):\n",
      "  File \"/Users/cristianlara/Projects/Ax-1.0/ax/metrics/tensorboard.py\", line 173, in bulk_fetch_trial_data\n",
      "    raise ValueError(\"Found NaNs or Infs in data\")\n",
      "ValueError: Found NaNs or Infs in data\n",
      "\n"
     ]
    },
    {
     "name": "stderr",
     "output_type": "stream",
     "text": [
      "[INFO 09-30 17:01:56] ax.core.metric: MetricFetchE INFO: Initialized MetricFetchE(message=\"Failed to fetch data for val_acc\", exception=Found NaNs or Infs in data)\n",
      "with Traceback:\n",
      " Traceback (most recent call last):\n",
      "  File \"/Users/cristianlara/Projects/Ax-1.0/ax/metrics/tensorboard.py\", line 173, in bulk_fetch_trial_data\n",
      "    raise ValueError(\"Found NaNs or Infs in data\")\n",
      "ValueError: Found NaNs or Infs in data\n",
      "\n"
     ]
    },
    {
     "name": "stderr",
     "output_type": "stream",
     "text": [
      "[INFO 09-30 17:01:56] ax.core.metric: MetricFetchE INFO: Initialized MetricFetchE(message=\"Failed to fetch data for val_acc\", exception=Found NaNs or Infs in data)\n",
      "with Traceback:\n",
      " Traceback (most recent call last):\n",
      "  File \"/Users/cristianlara/Projects/Ax-1.0/ax/metrics/tensorboard.py\", line 173, in bulk_fetch_trial_data\n",
      "    raise ValueError(\"Found NaNs or Infs in data\")\n",
      "ValueError: Found NaNs or Infs in data\n",
      "\n"
     ]
    },
    {
     "name": "stderr",
     "output_type": "stream",
     "text": [
      "[ERROR 09-30 17:01:56] ax.core.experiment: Discovered Metric fetching Err while attaching data MetricFetchE(message=\"Failed to fetch data for val_acc\", exception=Found NaNs or Infs in data)\n",
      "with Traceback:\n",
      " Traceback (most recent call last):\n",
      "  File \"/Users/cristianlara/Projects/Ax-1.0/ax/metrics/tensorboard.py\", line 173, in bulk_fetch_trial_data\n",
      "    raise ValueError(\"Found NaNs or Infs in data\")\n",
      "ValueError: Found NaNs or Infs in data\n",
      ". Ignoring for now -- will retry query on next call to fetch.\n"
     ]
    },
    {
     "name": "stderr",
     "output_type": "stream",
     "text": [
      "[ERROR 09-30 17:01:56] ax.core.experiment: Discovered Metric fetching Err while attaching data MetricFetchE(message=\"Failed to fetch data for val_acc\", exception=Found NaNs or Infs in data)\n",
      "with Traceback:\n",
      " Traceback (most recent call last):\n",
      "  File \"/Users/cristianlara/Projects/Ax-1.0/ax/metrics/tensorboard.py\", line 173, in bulk_fetch_trial_data\n",
      "    raise ValueError(\"Found NaNs or Infs in data\")\n",
      "ValueError: Found NaNs or Infs in data\n",
      ". Ignoring for now -- will retry query on next call to fetch.\n"
     ]
    },
    {
     "name": "stderr",
     "output_type": "stream",
     "text": [
      "[ERROR 09-30 17:01:56] ax.core.experiment: Discovered Metric fetching Err while attaching data MetricFetchE(message=\"Failed to fetch data for val_acc\", exception=Found NaNs or Infs in data)\n",
      "with Traceback:\n",
      " Traceback (most recent call last):\n",
      "  File \"/Users/cristianlara/Projects/Ax-1.0/ax/metrics/tensorboard.py\", line 173, in bulk_fetch_trial_data\n",
      "    raise ValueError(\"Found NaNs or Infs in data\")\n",
      "ValueError: Found NaNs or Infs in data\n",
      ". Ignoring for now -- will retry query on next call to fetch.\n"
     ]
    },
    {
     "name": "stderr",
     "output_type": "stream",
     "text": [
      "/Users/cristianlara/Projects/Ax-1.0/ax/core/map_data.py:195: FutureWarning: The behavior of DataFrame concatenation with empty or all-NA entries is deprecated. In a future version, this will no longer exclude empty or all-NA columns when determining the result dtypes. To retain the old behavior, exclude the relevant entries before the concat operation.\n",
      "  df = pd.concat(\n",
      "[WARNING 09-30 17:01:56] Scheduler: Failed to fetch val_acc for trial 0, found MetricFetchE(message=\"Failed to fetch data for val_acc\", exception=Found NaNs or Infs in data)\n",
      "with Traceback:\n",
      " Traceback (most recent call last):\n",
      "  File \"/Users/cristianlara/Projects/Ax-1.0/ax/metrics/tensorboard.py\", line 173, in bulk_fetch_trial_data\n",
      "    raise ValueError(\"Found NaNs or Infs in data\")\n",
      "ValueError: Found NaNs or Infs in data\n",
      ".\n"
     ]
    },
    {
     "name": "stderr",
     "output_type": "stream",
     "text": [
      "[INFO 09-30 17:01:56] Scheduler: MetricFetchE INFO: Because val_acc is available_while_running and trial 0 is still RUNNING continuing the experiment and retrying on next poll...\n"
     ]
    },
    {
     "name": "stderr",
     "output_type": "stream",
     "text": [
      "[WARNING 09-30 17:01:56] Scheduler: Failed to fetch val_acc for trial 1, found MetricFetchE(message=\"Failed to fetch data for val_acc\", exception=Found NaNs or Infs in data)\n",
      "with Traceback:\n",
      " Traceback (most recent call last):\n",
      "  File \"/Users/cristianlara/Projects/Ax-1.0/ax/metrics/tensorboard.py\", line 173, in bulk_fetch_trial_data\n",
      "    raise ValueError(\"Found NaNs or Infs in data\")\n",
      "ValueError: Found NaNs or Infs in data\n",
      ".\n"
     ]
    },
    {
     "name": "stderr",
     "output_type": "stream",
     "text": [
      "[INFO 09-30 17:01:56] Scheduler: MetricFetchE INFO: Because val_acc is available_while_running and trial 1 is still RUNNING continuing the experiment and retrying on next poll...\n"
     ]
    },
    {
     "name": "stderr",
     "output_type": "stream",
     "text": [
      "[WARNING 09-30 17:01:56] Scheduler: Failed to fetch val_acc for trial 4, found MetricFetchE(message=\"Failed to fetch data for val_acc\", exception=Found NaNs or Infs in data)\n",
      "with Traceback:\n",
      " Traceback (most recent call last):\n",
      "  File \"/Users/cristianlara/Projects/Ax-1.0/ax/metrics/tensorboard.py\", line 173, in bulk_fetch_trial_data\n",
      "    raise ValueError(\"Found NaNs or Infs in data\")\n",
      "ValueError: Found NaNs or Infs in data\n",
      ".\n"
     ]
    },
    {
     "name": "stderr",
     "output_type": "stream",
     "text": [
      "[INFO 09-30 17:01:56] Scheduler: MetricFetchE INFO: Because val_acc is available_while_running and trial 4 is still RUNNING continuing the experiment and retrying on next poll...\n"
     ]
    },
    {
     "name": "stderr",
     "output_type": "stream",
     "text": [
      "/Users/cristianlara/Projects/Ax-1.0/ax/core/map_data.py:195: FutureWarning: The behavior of DataFrame concatenation with empty or all-NA entries is deprecated. In a future version, this will no longer exclude empty or all-NA columns when determining the result dtypes. To retain the old behavior, exclude the relevant entries before the concat operation.\n",
      "  df = pd.concat(\n",
      "[INFO 09-30 17:01:56] ax.early_stopping.strategies.base: The number of completed trials (0) is less than the minimum number of curves needed for early stopping (5). Not early stopping.\n"
     ]
    },
    {
     "name": "stderr",
     "output_type": "stream",
     "text": [
      "[INFO 09-30 17:01:56] Scheduler: Waiting for completed trials (for 10 sec, currently running trials: 5).\n"
     ]
    },
    {
     "name": "stderr",
     "output_type": "stream",
     "text": [
      "[INFO 09-30 17:02:06] Scheduler: Fetching data for newly completed trials: [].\n"
     ]
    },
    {
     "name": "stderr",
     "output_type": "stream",
     "text": [
      "[INFO 09-30 17:02:06] Scheduler: Fetching data for trials: [0, 1, 3, 4, 5] because some metrics on experiment are available while trials are running.\n"
     ]
    },
    {
     "name": "stderr",
     "output_type": "stream",
     "text": [
      "[INFO 09-30 17:02:06] ax.core.metric: MetricFetchE INFO: Initialized MetricFetchE(message=\"Failed to fetch data for val_acc\", exception=Found NaNs or Infs in data)\n",
      "with Traceback:\n",
      " Traceback (most recent call last):\n",
      "  File \"/Users/cristianlara/Projects/Ax-1.0/ax/metrics/tensorboard.py\", line 173, in bulk_fetch_trial_data\n",
      "    raise ValueError(\"Found NaNs or Infs in data\")\n",
      "ValueError: Found NaNs or Infs in data\n",
      "\n"
     ]
    },
    {
     "name": "stderr",
     "output_type": "stream",
     "text": [
      "[INFO 09-30 17:02:06] ax.core.metric: MetricFetchE INFO: Initialized MetricFetchE(message=\"Failed to fetch data for val_acc\", exception=Found NaNs or Infs in data)\n",
      "with Traceback:\n",
      " Traceback (most recent call last):\n",
      "  File \"/Users/cristianlara/Projects/Ax-1.0/ax/metrics/tensorboard.py\", line 173, in bulk_fetch_trial_data\n",
      "    raise ValueError(\"Found NaNs or Infs in data\")\n",
      "ValueError: Found NaNs or Infs in data\n",
      "\n"
     ]
    },
    {
     "name": "stderr",
     "output_type": "stream",
     "text": [
      "[INFO 09-30 17:02:06] ax.core.metric: MetricFetchE INFO: Initialized MetricFetchE(message=\"Failed to fetch data for val_acc\", exception=Found NaNs or Infs in data)\n",
      "with Traceback:\n",
      " Traceback (most recent call last):\n",
      "  File \"/Users/cristianlara/Projects/Ax-1.0/ax/metrics/tensorboard.py\", line 173, in bulk_fetch_trial_data\n",
      "    raise ValueError(\"Found NaNs or Infs in data\")\n",
      "ValueError: Found NaNs or Infs in data\n",
      "\n"
     ]
    },
    {
     "name": "stderr",
     "output_type": "stream",
     "text": [
      "[ERROR 09-30 17:02:06] ax.core.experiment: Discovered Metric fetching Err while attaching data MetricFetchE(message=\"Failed to fetch data for val_acc\", exception=Found NaNs or Infs in data)\n",
      "with Traceback:\n",
      " Traceback (most recent call last):\n",
      "  File \"/Users/cristianlara/Projects/Ax-1.0/ax/metrics/tensorboard.py\", line 173, in bulk_fetch_trial_data\n",
      "    raise ValueError(\"Found NaNs or Infs in data\")\n",
      "ValueError: Found NaNs or Infs in data\n",
      ". Ignoring for now -- will retry query on next call to fetch.\n"
     ]
    },
    {
     "name": "stderr",
     "output_type": "stream",
     "text": [
      "[ERROR 09-30 17:02:06] ax.core.experiment: Discovered Metric fetching Err while attaching data MetricFetchE(message=\"Failed to fetch data for val_acc\", exception=Found NaNs or Infs in data)\n",
      "with Traceback:\n",
      " Traceback (most recent call last):\n",
      "  File \"/Users/cristianlara/Projects/Ax-1.0/ax/metrics/tensorboard.py\", line 173, in bulk_fetch_trial_data\n",
      "    raise ValueError(\"Found NaNs or Infs in data\")\n",
      "ValueError: Found NaNs or Infs in data\n",
      ". Ignoring for now -- will retry query on next call to fetch.\n"
     ]
    },
    {
     "name": "stderr",
     "output_type": "stream",
     "text": [
      "[ERROR 09-30 17:02:06] ax.core.experiment: Discovered Metric fetching Err while attaching data MetricFetchE(message=\"Failed to fetch data for val_acc\", exception=Found NaNs or Infs in data)\n",
      "with Traceback:\n",
      " Traceback (most recent call last):\n",
      "  File \"/Users/cristianlara/Projects/Ax-1.0/ax/metrics/tensorboard.py\", line 173, in bulk_fetch_trial_data\n",
      "    raise ValueError(\"Found NaNs or Infs in data\")\n",
      "ValueError: Found NaNs or Infs in data\n",
      ". Ignoring for now -- will retry query on next call to fetch.\n"
     ]
    },
    {
     "name": "stderr",
     "output_type": "stream",
     "text": [
      "/Users/cristianlara/Projects/Ax-1.0/ax/core/map_data.py:195: FutureWarning: The behavior of DataFrame concatenation with empty or all-NA entries is deprecated. In a future version, this will no longer exclude empty or all-NA columns when determining the result dtypes. To retain the old behavior, exclude the relevant entries before the concat operation.\n",
      "  df = pd.concat(\n",
      "[WARNING 09-30 17:02:06] Scheduler: Failed to fetch val_acc for trial 0, found MetricFetchE(message=\"Failed to fetch data for val_acc\", exception=Found NaNs or Infs in data)\n",
      "with Traceback:\n",
      " Traceback (most recent call last):\n",
      "  File \"/Users/cristianlara/Projects/Ax-1.0/ax/metrics/tensorboard.py\", line 173, in bulk_fetch_trial_data\n",
      "    raise ValueError(\"Found NaNs or Infs in data\")\n",
      "ValueError: Found NaNs or Infs in data\n",
      ".\n"
     ]
    },
    {
     "name": "stderr",
     "output_type": "stream",
     "text": [
      "[INFO 09-30 17:02:06] Scheduler: MetricFetchE INFO: Because val_acc is available_while_running and trial 0 is still RUNNING continuing the experiment and retrying on next poll...\n"
     ]
    },
    {
     "name": "stderr",
     "output_type": "stream",
     "text": [
      "[WARNING 09-30 17:02:06] Scheduler: Failed to fetch val_acc for trial 1, found MetricFetchE(message=\"Failed to fetch data for val_acc\", exception=Found NaNs or Infs in data)\n",
      "with Traceback:\n",
      " Traceback (most recent call last):\n",
      "  File \"/Users/cristianlara/Projects/Ax-1.0/ax/metrics/tensorboard.py\", line 173, in bulk_fetch_trial_data\n",
      "    raise ValueError(\"Found NaNs or Infs in data\")\n",
      "ValueError: Found NaNs or Infs in data\n",
      ".\n"
     ]
    },
    {
     "name": "stderr",
     "output_type": "stream",
     "text": [
      "[INFO 09-30 17:02:06] Scheduler: MetricFetchE INFO: Because val_acc is available_while_running and trial 1 is still RUNNING continuing the experiment and retrying on next poll...\n"
     ]
    },
    {
     "name": "stderr",
     "output_type": "stream",
     "text": [
      "[WARNING 09-30 17:02:06] Scheduler: Failed to fetch val_acc for trial 4, found MetricFetchE(message=\"Failed to fetch data for val_acc\", exception=Found NaNs or Infs in data)\n",
      "with Traceback:\n",
      " Traceback (most recent call last):\n",
      "  File \"/Users/cristianlara/Projects/Ax-1.0/ax/metrics/tensorboard.py\", line 173, in bulk_fetch_trial_data\n",
      "    raise ValueError(\"Found NaNs or Infs in data\")\n",
      "ValueError: Found NaNs or Infs in data\n",
      ".\n"
     ]
    },
    {
     "name": "stderr",
     "output_type": "stream",
     "text": [
      "[INFO 09-30 17:02:06] Scheduler: MetricFetchE INFO: Because val_acc is available_while_running and trial 4 is still RUNNING continuing the experiment and retrying on next poll...\n"
     ]
    },
    {
     "name": "stderr",
     "output_type": "stream",
     "text": [
      "/Users/cristianlara/Projects/Ax-1.0/ax/core/map_data.py:195: FutureWarning: The behavior of DataFrame concatenation with empty or all-NA entries is deprecated. In a future version, this will no longer exclude empty or all-NA columns when determining the result dtypes. To retain the old behavior, exclude the relevant entries before the concat operation.\n",
      "  df = pd.concat(\n",
      "[INFO 09-30 17:02:06] ax.early_stopping.strategies.base: The number of completed trials (0) is less than the minimum number of curves needed for early stopping (5). Not early stopping.\n"
     ]
    },
    {
     "name": "stderr",
     "output_type": "stream",
     "text": [
      "[INFO 09-30 17:02:06] Scheduler: Waiting for completed trials (for 10 sec, currently running trials: 5).\n"
     ]
    },
    {
     "name": "stderr",
     "output_type": "stream",
     "text": [
      "[INFO 09-30 17:02:16] Scheduler: Fetching data for newly completed trials: [].\n"
     ]
    },
    {
     "name": "stderr",
     "output_type": "stream",
     "text": [
      "[INFO 09-30 17:02:16] Scheduler: Fetching data for trials: [0, 1, 3, 4, 5] because some metrics on experiment are available while trials are running.\n"
     ]
    },
    {
     "name": "stderr",
     "output_type": "stream",
     "text": [
      "[INFO 09-30 17:02:16] ax.core.metric: MetricFetchE INFO: Initialized MetricFetchE(message=\"Failed to fetch data for val_acc\", exception=Found NaNs or Infs in data)\n",
      "with Traceback:\n",
      " Traceback (most recent call last):\n",
      "  File \"/Users/cristianlara/Projects/Ax-1.0/ax/metrics/tensorboard.py\", line 173, in bulk_fetch_trial_data\n",
      "    raise ValueError(\"Found NaNs or Infs in data\")\n",
      "ValueError: Found NaNs or Infs in data\n",
      "\n"
     ]
    },
    {
     "name": "stderr",
     "output_type": "stream",
     "text": [
      "[INFO 09-30 17:02:16] ax.core.metric: MetricFetchE INFO: Initialized MetricFetchE(message=\"Failed to fetch data for val_acc\", exception=Found NaNs or Infs in data)\n",
      "with Traceback:\n",
      " Traceback (most recent call last):\n",
      "  File \"/Users/cristianlara/Projects/Ax-1.0/ax/metrics/tensorboard.py\", line 173, in bulk_fetch_trial_data\n",
      "    raise ValueError(\"Found NaNs or Infs in data\")\n",
      "ValueError: Found NaNs or Infs in data\n",
      "\n"
     ]
    },
    {
     "name": "stderr",
     "output_type": "stream",
     "text": [
      "[INFO 09-30 17:02:16] ax.core.metric: MetricFetchE INFO: Initialized MetricFetchE(message=\"Failed to fetch data for val_acc\", exception=Found NaNs or Infs in data)\n",
      "with Traceback:\n",
      " Traceback (most recent call last):\n",
      "  File \"/Users/cristianlara/Projects/Ax-1.0/ax/metrics/tensorboard.py\", line 173, in bulk_fetch_trial_data\n",
      "    raise ValueError(\"Found NaNs or Infs in data\")\n",
      "ValueError: Found NaNs or Infs in data\n",
      "\n"
     ]
    },
    {
     "name": "stderr",
     "output_type": "stream",
     "text": [
      "[ERROR 09-30 17:02:16] ax.core.experiment: Discovered Metric fetching Err while attaching data MetricFetchE(message=\"Failed to fetch data for val_acc\", exception=Found NaNs or Infs in data)\n",
      "with Traceback:\n",
      " Traceback (most recent call last):\n",
      "  File \"/Users/cristianlara/Projects/Ax-1.0/ax/metrics/tensorboard.py\", line 173, in bulk_fetch_trial_data\n",
      "    raise ValueError(\"Found NaNs or Infs in data\")\n",
      "ValueError: Found NaNs or Infs in data\n",
      ". Ignoring for now -- will retry query on next call to fetch.\n"
     ]
    },
    {
     "name": "stderr",
     "output_type": "stream",
     "text": [
      "[ERROR 09-30 17:02:16] ax.core.experiment: Discovered Metric fetching Err while attaching data MetricFetchE(message=\"Failed to fetch data for val_acc\", exception=Found NaNs or Infs in data)\n",
      "with Traceback:\n",
      " Traceback (most recent call last):\n",
      "  File \"/Users/cristianlara/Projects/Ax-1.0/ax/metrics/tensorboard.py\", line 173, in bulk_fetch_trial_data\n",
      "    raise ValueError(\"Found NaNs or Infs in data\")\n",
      "ValueError: Found NaNs or Infs in data\n",
      ". Ignoring for now -- will retry query on next call to fetch.\n"
     ]
    },
    {
     "name": "stderr",
     "output_type": "stream",
     "text": [
      "[ERROR 09-30 17:02:16] ax.core.experiment: Discovered Metric fetching Err while attaching data MetricFetchE(message=\"Failed to fetch data for val_acc\", exception=Found NaNs or Infs in data)\n",
      "with Traceback:\n",
      " Traceback (most recent call last):\n",
      "  File \"/Users/cristianlara/Projects/Ax-1.0/ax/metrics/tensorboard.py\", line 173, in bulk_fetch_trial_data\n",
      "    raise ValueError(\"Found NaNs or Infs in data\")\n",
      "ValueError: Found NaNs or Infs in data\n",
      ". Ignoring for now -- will retry query on next call to fetch.\n"
     ]
    },
    {
     "name": "stderr",
     "output_type": "stream",
     "text": [
      "/Users/cristianlara/Projects/Ax-1.0/ax/core/map_data.py:195: FutureWarning: The behavior of DataFrame concatenation with empty or all-NA entries is deprecated. In a future version, this will no longer exclude empty or all-NA columns when determining the result dtypes. To retain the old behavior, exclude the relevant entries before the concat operation.\n",
      "  df = pd.concat(\n",
      "[WARNING 09-30 17:02:16] Scheduler: Failed to fetch val_acc for trial 0, found MetricFetchE(message=\"Failed to fetch data for val_acc\", exception=Found NaNs or Infs in data)\n",
      "with Traceback:\n",
      " Traceback (most recent call last):\n",
      "  File \"/Users/cristianlara/Projects/Ax-1.0/ax/metrics/tensorboard.py\", line 173, in bulk_fetch_trial_data\n",
      "    raise ValueError(\"Found NaNs or Infs in data\")\n",
      "ValueError: Found NaNs or Infs in data\n",
      ".\n"
     ]
    },
    {
     "name": "stderr",
     "output_type": "stream",
     "text": [
      "[INFO 09-30 17:02:16] Scheduler: MetricFetchE INFO: Because val_acc is available_while_running and trial 0 is still RUNNING continuing the experiment and retrying on next poll...\n"
     ]
    },
    {
     "name": "stderr",
     "output_type": "stream",
     "text": [
      "[WARNING 09-30 17:02:16] Scheduler: Failed to fetch val_acc for trial 1, found MetricFetchE(message=\"Failed to fetch data for val_acc\", exception=Found NaNs or Infs in data)\n",
      "with Traceback:\n",
      " Traceback (most recent call last):\n",
      "  File \"/Users/cristianlara/Projects/Ax-1.0/ax/metrics/tensorboard.py\", line 173, in bulk_fetch_trial_data\n",
      "    raise ValueError(\"Found NaNs or Infs in data\")\n",
      "ValueError: Found NaNs or Infs in data\n",
      ".\n"
     ]
    },
    {
     "name": "stderr",
     "output_type": "stream",
     "text": [
      "[INFO 09-30 17:02:16] Scheduler: MetricFetchE INFO: Because val_acc is available_while_running and trial 1 is still RUNNING continuing the experiment and retrying on next poll...\n"
     ]
    },
    {
     "name": "stderr",
     "output_type": "stream",
     "text": [
      "[WARNING 09-30 17:02:16] Scheduler: Failed to fetch val_acc for trial 4, found MetricFetchE(message=\"Failed to fetch data for val_acc\", exception=Found NaNs or Infs in data)\n",
      "with Traceback:\n",
      " Traceback (most recent call last):\n",
      "  File \"/Users/cristianlara/Projects/Ax-1.0/ax/metrics/tensorboard.py\", line 173, in bulk_fetch_trial_data\n",
      "    raise ValueError(\"Found NaNs or Infs in data\")\n",
      "ValueError: Found NaNs or Infs in data\n",
      ".\n"
     ]
    },
    {
     "name": "stderr",
     "output_type": "stream",
     "text": [
      "[INFO 09-30 17:02:16] Scheduler: MetricFetchE INFO: Because val_acc is available_while_running and trial 4 is still RUNNING continuing the experiment and retrying on next poll...\n"
     ]
    },
    {
     "name": "stderr",
     "output_type": "stream",
     "text": [
      "/Users/cristianlara/Projects/Ax-1.0/ax/core/map_data.py:195: FutureWarning: The behavior of DataFrame concatenation with empty or all-NA entries is deprecated. In a future version, this will no longer exclude empty or all-NA columns when determining the result dtypes. To retain the old behavior, exclude the relevant entries before the concat operation.\n",
      "  df = pd.concat(\n",
      "[INFO 09-30 17:02:16] ax.early_stopping.strategies.base: The number of completed trials (0) is less than the minimum number of curves needed for early stopping (5). Not early stopping.\n"
     ]
    },
    {
     "name": "stderr",
     "output_type": "stream",
     "text": [
      "[INFO 09-30 17:02:16] Scheduler: Waiting for completed trials (for 10 sec, currently running trials: 5).\n"
     ]
    },
    {
     "name": "stderr",
     "output_type": "stream",
     "text": [
      "[INFO 09-30 17:02:26] Scheduler: Fetching data for newly completed trials: [].\n"
     ]
    },
    {
     "name": "stderr",
     "output_type": "stream",
     "text": [
      "[INFO 09-30 17:02:26] Scheduler: Fetching data for trials: [0, 1, 3, 4, 5] because some metrics on experiment are available while trials are running.\n"
     ]
    },
    {
     "name": "stderr",
     "output_type": "stream",
     "text": [
      "[INFO 09-30 17:02:26] ax.core.metric: MetricFetchE INFO: Initialized MetricFetchE(message=\"Failed to fetch data for val_acc\", exception=Found NaNs or Infs in data)\n",
      "with Traceback:\n",
      " Traceback (most recent call last):\n",
      "  File \"/Users/cristianlara/Projects/Ax-1.0/ax/metrics/tensorboard.py\", line 173, in bulk_fetch_trial_data\n",
      "    raise ValueError(\"Found NaNs or Infs in data\")\n",
      "ValueError: Found NaNs or Infs in data\n",
      "\n"
     ]
    },
    {
     "name": "stderr",
     "output_type": "stream",
     "text": [
      "[INFO 09-30 17:02:26] ax.core.metric: MetricFetchE INFO: Initialized MetricFetchE(message=\"Failed to fetch data for val_acc\", exception=Found NaNs or Infs in data)\n",
      "with Traceback:\n",
      " Traceback (most recent call last):\n",
      "  File \"/Users/cristianlara/Projects/Ax-1.0/ax/metrics/tensorboard.py\", line 173, in bulk_fetch_trial_data\n",
      "    raise ValueError(\"Found NaNs or Infs in data\")\n",
      "ValueError: Found NaNs or Infs in data\n",
      "\n"
     ]
    },
    {
     "name": "stderr",
     "output_type": "stream",
     "text": [
      "[INFO 09-30 17:02:26] ax.core.metric: MetricFetchE INFO: Initialized MetricFetchE(message=\"Failed to fetch data for val_acc\", exception=Found NaNs or Infs in data)\n",
      "with Traceback:\n",
      " Traceback (most recent call last):\n",
      "  File \"/Users/cristianlara/Projects/Ax-1.0/ax/metrics/tensorboard.py\", line 173, in bulk_fetch_trial_data\n",
      "    raise ValueError(\"Found NaNs or Infs in data\")\n",
      "ValueError: Found NaNs or Infs in data\n",
      "\n"
     ]
    },
    {
     "name": "stderr",
     "output_type": "stream",
     "text": [
      "[ERROR 09-30 17:02:26] ax.core.experiment: Discovered Metric fetching Err while attaching data MetricFetchE(message=\"Failed to fetch data for val_acc\", exception=Found NaNs or Infs in data)\n",
      "with Traceback:\n",
      " Traceback (most recent call last):\n",
      "  File \"/Users/cristianlara/Projects/Ax-1.0/ax/metrics/tensorboard.py\", line 173, in bulk_fetch_trial_data\n",
      "    raise ValueError(\"Found NaNs or Infs in data\")\n",
      "ValueError: Found NaNs or Infs in data\n",
      ". Ignoring for now -- will retry query on next call to fetch.\n"
     ]
    },
    {
     "name": "stderr",
     "output_type": "stream",
     "text": [
      "[ERROR 09-30 17:02:26] ax.core.experiment: Discovered Metric fetching Err while attaching data MetricFetchE(message=\"Failed to fetch data for val_acc\", exception=Found NaNs or Infs in data)\n",
      "with Traceback:\n",
      " Traceback (most recent call last):\n",
      "  File \"/Users/cristianlara/Projects/Ax-1.0/ax/metrics/tensorboard.py\", line 173, in bulk_fetch_trial_data\n",
      "    raise ValueError(\"Found NaNs or Infs in data\")\n",
      "ValueError: Found NaNs or Infs in data\n",
      ". Ignoring for now -- will retry query on next call to fetch.\n"
     ]
    },
    {
     "name": "stderr",
     "output_type": "stream",
     "text": [
      "[ERROR 09-30 17:02:26] ax.core.experiment: Discovered Metric fetching Err while attaching data MetricFetchE(message=\"Failed to fetch data for val_acc\", exception=Found NaNs or Infs in data)\n",
      "with Traceback:\n",
      " Traceback (most recent call last):\n",
      "  File \"/Users/cristianlara/Projects/Ax-1.0/ax/metrics/tensorboard.py\", line 173, in bulk_fetch_trial_data\n",
      "    raise ValueError(\"Found NaNs or Infs in data\")\n",
      "ValueError: Found NaNs or Infs in data\n",
      ". Ignoring for now -- will retry query on next call to fetch.\n"
     ]
    },
    {
     "name": "stderr",
     "output_type": "stream",
     "text": [
      "/Users/cristianlara/Projects/Ax-1.0/ax/core/map_data.py:195: FutureWarning: The behavior of DataFrame concatenation with empty or all-NA entries is deprecated. In a future version, this will no longer exclude empty or all-NA columns when determining the result dtypes. To retain the old behavior, exclude the relevant entries before the concat operation.\n",
      "  df = pd.concat(\n",
      "[WARNING 09-30 17:02:26] Scheduler: Failed to fetch val_acc for trial 0, found MetricFetchE(message=\"Failed to fetch data for val_acc\", exception=Found NaNs or Infs in data)\n",
      "with Traceback:\n",
      " Traceback (most recent call last):\n",
      "  File \"/Users/cristianlara/Projects/Ax-1.0/ax/metrics/tensorboard.py\", line 173, in bulk_fetch_trial_data\n",
      "    raise ValueError(\"Found NaNs or Infs in data\")\n",
      "ValueError: Found NaNs or Infs in data\n",
      ".\n"
     ]
    },
    {
     "name": "stderr",
     "output_type": "stream",
     "text": [
      "[INFO 09-30 17:02:26] Scheduler: MetricFetchE INFO: Because val_acc is available_while_running and trial 0 is still RUNNING continuing the experiment and retrying on next poll...\n"
     ]
    },
    {
     "name": "stderr",
     "output_type": "stream",
     "text": [
      "[WARNING 09-30 17:02:26] Scheduler: Failed to fetch val_acc for trial 1, found MetricFetchE(message=\"Failed to fetch data for val_acc\", exception=Found NaNs or Infs in data)\n",
      "with Traceback:\n",
      " Traceback (most recent call last):\n",
      "  File \"/Users/cristianlara/Projects/Ax-1.0/ax/metrics/tensorboard.py\", line 173, in bulk_fetch_trial_data\n",
      "    raise ValueError(\"Found NaNs or Infs in data\")\n",
      "ValueError: Found NaNs or Infs in data\n",
      ".\n"
     ]
    },
    {
     "name": "stderr",
     "output_type": "stream",
     "text": [
      "[INFO 09-30 17:02:26] Scheduler: MetricFetchE INFO: Because val_acc is available_while_running and trial 1 is still RUNNING continuing the experiment and retrying on next poll...\n"
     ]
    },
    {
     "name": "stderr",
     "output_type": "stream",
     "text": [
      "[WARNING 09-30 17:02:26] Scheduler: Failed to fetch val_acc for trial 4, found MetricFetchE(message=\"Failed to fetch data for val_acc\", exception=Found NaNs or Infs in data)\n",
      "with Traceback:\n",
      " Traceback (most recent call last):\n",
      "  File \"/Users/cristianlara/Projects/Ax-1.0/ax/metrics/tensorboard.py\", line 173, in bulk_fetch_trial_data\n",
      "    raise ValueError(\"Found NaNs or Infs in data\")\n",
      "ValueError: Found NaNs or Infs in data\n",
      ".\n"
     ]
    },
    {
     "name": "stderr",
     "output_type": "stream",
     "text": [
      "[INFO 09-30 17:02:26] Scheduler: MetricFetchE INFO: Because val_acc is available_while_running and trial 4 is still RUNNING continuing the experiment and retrying on next poll...\n"
     ]
    },
    {
     "name": "stderr",
     "output_type": "stream",
     "text": [
      "/Users/cristianlara/Projects/Ax-1.0/ax/core/map_data.py:195: FutureWarning: The behavior of DataFrame concatenation with empty or all-NA entries is deprecated. In a future version, this will no longer exclude empty or all-NA columns when determining the result dtypes. To retain the old behavior, exclude the relevant entries before the concat operation.\n",
      "  df = pd.concat(\n",
      "[INFO 09-30 17:02:26] ax.early_stopping.strategies.base: The number of completed trials (0) is less than the minimum number of curves needed for early stopping (5). Not early stopping.\n"
     ]
    },
    {
     "name": "stderr",
     "output_type": "stream",
     "text": [
      "[INFO 09-30 17:02:26] Scheduler: Waiting for completed trials (for 10 sec, currently running trials: 5).\n"
     ]
    },
    {
     "name": "stderr",
     "output_type": "stream",
     "text": [
      "[INFO 09-30 17:02:36] Scheduler: Fetching data for newly completed trials: [].\n"
     ]
    },
    {
     "name": "stderr",
     "output_type": "stream",
     "text": [
      "[INFO 09-30 17:02:36] Scheduler: Fetching data for trials: [0, 1, 3, 4, 5] because some metrics on experiment are available while trials are running.\n"
     ]
    },
    {
     "name": "stderr",
     "output_type": "stream",
     "text": [
      "[INFO 09-30 17:02:36] ax.core.metric: MetricFetchE INFO: Initialized MetricFetchE(message=\"Failed to fetch data for val_acc\", exception=Found NaNs or Infs in data)\n",
      "with Traceback:\n",
      " Traceback (most recent call last):\n",
      "  File \"/Users/cristianlara/Projects/Ax-1.0/ax/metrics/tensorboard.py\", line 173, in bulk_fetch_trial_data\n",
      "    raise ValueError(\"Found NaNs or Infs in data\")\n",
      "ValueError: Found NaNs or Infs in data\n",
      "\n"
     ]
    },
    {
     "name": "stderr",
     "output_type": "stream",
     "text": [
      "[INFO 09-30 17:02:37] ax.core.metric: MetricFetchE INFO: Initialized MetricFetchE(message=\"Failed to fetch data for val_acc\", exception=Found NaNs or Infs in data)\n",
      "with Traceback:\n",
      " Traceback (most recent call last):\n",
      "  File \"/Users/cristianlara/Projects/Ax-1.0/ax/metrics/tensorboard.py\", line 173, in bulk_fetch_trial_data\n",
      "    raise ValueError(\"Found NaNs or Infs in data\")\n",
      "ValueError: Found NaNs or Infs in data\n",
      "\n"
     ]
    },
    {
     "name": "stderr",
     "output_type": "stream",
     "text": [
      "[INFO 09-30 17:02:37] ax.core.metric: MetricFetchE INFO: Initialized MetricFetchE(message=\"Failed to fetch data for val_acc\", exception=Found NaNs or Infs in data)\n",
      "with Traceback:\n",
      " Traceback (most recent call last):\n",
      "  File \"/Users/cristianlara/Projects/Ax-1.0/ax/metrics/tensorboard.py\", line 173, in bulk_fetch_trial_data\n",
      "    raise ValueError(\"Found NaNs or Infs in data\")\n",
      "ValueError: Found NaNs or Infs in data\n",
      "\n"
     ]
    },
    {
     "name": "stderr",
     "output_type": "stream",
     "text": [
      "[ERROR 09-30 17:02:37] ax.core.experiment: Discovered Metric fetching Err while attaching data MetricFetchE(message=\"Failed to fetch data for val_acc\", exception=Found NaNs or Infs in data)\n",
      "with Traceback:\n",
      " Traceback (most recent call last):\n",
      "  File \"/Users/cristianlara/Projects/Ax-1.0/ax/metrics/tensorboard.py\", line 173, in bulk_fetch_trial_data\n",
      "    raise ValueError(\"Found NaNs or Infs in data\")\n",
      "ValueError: Found NaNs or Infs in data\n",
      ". Ignoring for now -- will retry query on next call to fetch.\n"
     ]
    },
    {
     "name": "stderr",
     "output_type": "stream",
     "text": [
      "[ERROR 09-30 17:02:37] ax.core.experiment: Discovered Metric fetching Err while attaching data MetricFetchE(message=\"Failed to fetch data for val_acc\", exception=Found NaNs or Infs in data)\n",
      "with Traceback:\n",
      " Traceback (most recent call last):\n",
      "  File \"/Users/cristianlara/Projects/Ax-1.0/ax/metrics/tensorboard.py\", line 173, in bulk_fetch_trial_data\n",
      "    raise ValueError(\"Found NaNs or Infs in data\")\n",
      "ValueError: Found NaNs or Infs in data\n",
      ". Ignoring for now -- will retry query on next call to fetch.\n"
     ]
    },
    {
     "name": "stderr",
     "output_type": "stream",
     "text": [
      "[ERROR 09-30 17:02:37] ax.core.experiment: Discovered Metric fetching Err while attaching data MetricFetchE(message=\"Failed to fetch data for val_acc\", exception=Found NaNs or Infs in data)\n",
      "with Traceback:\n",
      " Traceback (most recent call last):\n",
      "  File \"/Users/cristianlara/Projects/Ax-1.0/ax/metrics/tensorboard.py\", line 173, in bulk_fetch_trial_data\n",
      "    raise ValueError(\"Found NaNs or Infs in data\")\n",
      "ValueError: Found NaNs or Infs in data\n",
      ". Ignoring for now -- will retry query on next call to fetch.\n"
     ]
    },
    {
     "name": "stderr",
     "output_type": "stream",
     "text": [
      "/Users/cristianlara/Projects/Ax-1.0/ax/core/map_data.py:195: FutureWarning: The behavior of DataFrame concatenation with empty or all-NA entries is deprecated. In a future version, this will no longer exclude empty or all-NA columns when determining the result dtypes. To retain the old behavior, exclude the relevant entries before the concat operation.\n",
      "  df = pd.concat(\n",
      "[WARNING 09-30 17:02:37] Scheduler: Failed to fetch val_acc for trial 0, found MetricFetchE(message=\"Failed to fetch data for val_acc\", exception=Found NaNs or Infs in data)\n",
      "with Traceback:\n",
      " Traceback (most recent call last):\n",
      "  File \"/Users/cristianlara/Projects/Ax-1.0/ax/metrics/tensorboard.py\", line 173, in bulk_fetch_trial_data\n",
      "    raise ValueError(\"Found NaNs or Infs in data\")\n",
      "ValueError: Found NaNs or Infs in data\n",
      ".\n"
     ]
    },
    {
     "name": "stderr",
     "output_type": "stream",
     "text": [
      "[INFO 09-30 17:02:37] Scheduler: MetricFetchE INFO: Because val_acc is available_while_running and trial 0 is still RUNNING continuing the experiment and retrying on next poll...\n"
     ]
    },
    {
     "name": "stderr",
     "output_type": "stream",
     "text": [
      "[WARNING 09-30 17:02:37] Scheduler: Failed to fetch val_acc for trial 1, found MetricFetchE(message=\"Failed to fetch data for val_acc\", exception=Found NaNs or Infs in data)\n",
      "with Traceback:\n",
      " Traceback (most recent call last):\n",
      "  File \"/Users/cristianlara/Projects/Ax-1.0/ax/metrics/tensorboard.py\", line 173, in bulk_fetch_trial_data\n",
      "    raise ValueError(\"Found NaNs or Infs in data\")\n",
      "ValueError: Found NaNs or Infs in data\n",
      ".\n"
     ]
    },
    {
     "name": "stderr",
     "output_type": "stream",
     "text": [
      "[INFO 09-30 17:02:37] Scheduler: MetricFetchE INFO: Because val_acc is available_while_running and trial 1 is still RUNNING continuing the experiment and retrying on next poll...\n"
     ]
    },
    {
     "name": "stderr",
     "output_type": "stream",
     "text": [
      "[WARNING 09-30 17:02:37] Scheduler: Failed to fetch val_acc for trial 4, found MetricFetchE(message=\"Failed to fetch data for val_acc\", exception=Found NaNs or Infs in data)\n",
      "with Traceback:\n",
      " Traceback (most recent call last):\n",
      "  File \"/Users/cristianlara/Projects/Ax-1.0/ax/metrics/tensorboard.py\", line 173, in bulk_fetch_trial_data\n",
      "    raise ValueError(\"Found NaNs or Infs in data\")\n",
      "ValueError: Found NaNs or Infs in data\n",
      ".\n"
     ]
    },
    {
     "name": "stderr",
     "output_type": "stream",
     "text": [
      "[INFO 09-30 17:02:37] Scheduler: MetricFetchE INFO: Because val_acc is available_while_running and trial 4 is still RUNNING continuing the experiment and retrying on next poll...\n"
     ]
    },
    {
     "name": "stderr",
     "output_type": "stream",
     "text": [
      "/Users/cristianlara/Projects/Ax-1.0/ax/core/map_data.py:195: FutureWarning: The behavior of DataFrame concatenation with empty or all-NA entries is deprecated. In a future version, this will no longer exclude empty or all-NA columns when determining the result dtypes. To retain the old behavior, exclude the relevant entries before the concat operation.\n",
      "  df = pd.concat(\n",
      "[INFO 09-30 17:02:37] ax.early_stopping.strategies.base: The number of completed trials (0) is less than the minimum number of curves needed for early stopping (5). Not early stopping.\n"
     ]
    },
    {
     "name": "stderr",
     "output_type": "stream",
     "text": [
      "[INFO 09-30 17:02:37] Scheduler: Waiting for completed trials (for 10 sec, currently running trials: 5).\n"
     ]
    },
    {
     "name": "stderr",
     "output_type": "stream",
     "text": [
      "[INFO 09-30 17:02:47] Scheduler: Fetching data for newly completed trials: [].\n"
     ]
    },
    {
     "name": "stderr",
     "output_type": "stream",
     "text": [
      "[INFO 09-30 17:02:47] Scheduler: Fetching data for trials: [0, 1, 3, 4, 5] because some metrics on experiment are available while trials are running.\n"
     ]
    },
    {
     "name": "stderr",
     "output_type": "stream",
     "text": [
      "[INFO 09-30 17:02:47] ax.core.metric: MetricFetchE INFO: Initialized MetricFetchE(message=\"Failed to fetch data for val_acc\", exception=Found NaNs or Infs in data)\n",
      "with Traceback:\n",
      " Traceback (most recent call last):\n",
      "  File \"/Users/cristianlara/Projects/Ax-1.0/ax/metrics/tensorboard.py\", line 173, in bulk_fetch_trial_data\n",
      "    raise ValueError(\"Found NaNs or Infs in data\")\n",
      "ValueError: Found NaNs or Infs in data\n",
      "\n"
     ]
    },
    {
     "name": "stderr",
     "output_type": "stream",
     "text": [
      "[INFO 09-30 17:02:47] ax.core.metric: MetricFetchE INFO: Initialized MetricFetchE(message=\"Failed to fetch data for val_acc\", exception=Found NaNs or Infs in data)\n",
      "with Traceback:\n",
      " Traceback (most recent call last):\n",
      "  File \"/Users/cristianlara/Projects/Ax-1.0/ax/metrics/tensorboard.py\", line 173, in bulk_fetch_trial_data\n",
      "    raise ValueError(\"Found NaNs or Infs in data\")\n",
      "ValueError: Found NaNs or Infs in data\n",
      "\n"
     ]
    },
    {
     "name": "stderr",
     "output_type": "stream",
     "text": [
      "[INFO 09-30 17:02:47] ax.core.metric: MetricFetchE INFO: Initialized MetricFetchE(message=\"Failed to fetch data for val_acc\", exception=Found NaNs or Infs in data)\n",
      "with Traceback:\n",
      " Traceback (most recent call last):\n",
      "  File \"/Users/cristianlara/Projects/Ax-1.0/ax/metrics/tensorboard.py\", line 173, in bulk_fetch_trial_data\n",
      "    raise ValueError(\"Found NaNs or Infs in data\")\n",
      "ValueError: Found NaNs or Infs in data\n",
      "\n"
     ]
    },
    {
     "name": "stderr",
     "output_type": "stream",
     "text": [
      "[ERROR 09-30 17:02:47] ax.core.experiment: Discovered Metric fetching Err while attaching data MetricFetchE(message=\"Failed to fetch data for val_acc\", exception=Found NaNs or Infs in data)\n",
      "with Traceback:\n",
      " Traceback (most recent call last):\n",
      "  File \"/Users/cristianlara/Projects/Ax-1.0/ax/metrics/tensorboard.py\", line 173, in bulk_fetch_trial_data\n",
      "    raise ValueError(\"Found NaNs or Infs in data\")\n",
      "ValueError: Found NaNs or Infs in data\n",
      ". Ignoring for now -- will retry query on next call to fetch.\n"
     ]
    },
    {
     "name": "stderr",
     "output_type": "stream",
     "text": [
      "[ERROR 09-30 17:02:47] ax.core.experiment: Discovered Metric fetching Err while attaching data MetricFetchE(message=\"Failed to fetch data for val_acc\", exception=Found NaNs or Infs in data)\n",
      "with Traceback:\n",
      " Traceback (most recent call last):\n",
      "  File \"/Users/cristianlara/Projects/Ax-1.0/ax/metrics/tensorboard.py\", line 173, in bulk_fetch_trial_data\n",
      "    raise ValueError(\"Found NaNs or Infs in data\")\n",
      "ValueError: Found NaNs or Infs in data\n",
      ". Ignoring for now -- will retry query on next call to fetch.\n"
     ]
    },
    {
     "name": "stderr",
     "output_type": "stream",
     "text": [
      "[ERROR 09-30 17:02:47] ax.core.experiment: Discovered Metric fetching Err while attaching data MetricFetchE(message=\"Failed to fetch data for val_acc\", exception=Found NaNs or Infs in data)\n",
      "with Traceback:\n",
      " Traceback (most recent call last):\n",
      "  File \"/Users/cristianlara/Projects/Ax-1.0/ax/metrics/tensorboard.py\", line 173, in bulk_fetch_trial_data\n",
      "    raise ValueError(\"Found NaNs or Infs in data\")\n",
      "ValueError: Found NaNs or Infs in data\n",
      ". Ignoring for now -- will retry query on next call to fetch.\n"
     ]
    },
    {
     "name": "stderr",
     "output_type": "stream",
     "text": [
      "/Users/cristianlara/Projects/Ax-1.0/ax/core/map_data.py:195: FutureWarning: The behavior of DataFrame concatenation with empty or all-NA entries is deprecated. In a future version, this will no longer exclude empty or all-NA columns when determining the result dtypes. To retain the old behavior, exclude the relevant entries before the concat operation.\n",
      "  df = pd.concat(\n",
      "[WARNING 09-30 17:02:47] Scheduler: Failed to fetch val_acc for trial 0, found MetricFetchE(message=\"Failed to fetch data for val_acc\", exception=Found NaNs or Infs in data)\n",
      "with Traceback:\n",
      " Traceback (most recent call last):\n",
      "  File \"/Users/cristianlara/Projects/Ax-1.0/ax/metrics/tensorboard.py\", line 173, in bulk_fetch_trial_data\n",
      "    raise ValueError(\"Found NaNs or Infs in data\")\n",
      "ValueError: Found NaNs or Infs in data\n",
      ".\n"
     ]
    },
    {
     "name": "stderr",
     "output_type": "stream",
     "text": [
      "[INFO 09-30 17:02:47] Scheduler: MetricFetchE INFO: Because val_acc is available_while_running and trial 0 is still RUNNING continuing the experiment and retrying on next poll...\n"
     ]
    },
    {
     "name": "stderr",
     "output_type": "stream",
     "text": [
      "[WARNING 09-30 17:02:47] Scheduler: Failed to fetch val_acc for trial 1, found MetricFetchE(message=\"Failed to fetch data for val_acc\", exception=Found NaNs or Infs in data)\n",
      "with Traceback:\n",
      " Traceback (most recent call last):\n",
      "  File \"/Users/cristianlara/Projects/Ax-1.0/ax/metrics/tensorboard.py\", line 173, in bulk_fetch_trial_data\n",
      "    raise ValueError(\"Found NaNs or Infs in data\")\n",
      "ValueError: Found NaNs or Infs in data\n",
      ".\n"
     ]
    },
    {
     "name": "stderr",
     "output_type": "stream",
     "text": [
      "[INFO 09-30 17:02:47] Scheduler: MetricFetchE INFO: Because val_acc is available_while_running and trial 1 is still RUNNING continuing the experiment and retrying on next poll...\n"
     ]
    },
    {
     "name": "stderr",
     "output_type": "stream",
     "text": [
      "[WARNING 09-30 17:02:47] Scheduler: Failed to fetch val_acc for trial 4, found MetricFetchE(message=\"Failed to fetch data for val_acc\", exception=Found NaNs or Infs in data)\n",
      "with Traceback:\n",
      " Traceback (most recent call last):\n",
      "  File \"/Users/cristianlara/Projects/Ax-1.0/ax/metrics/tensorboard.py\", line 173, in bulk_fetch_trial_data\n",
      "    raise ValueError(\"Found NaNs or Infs in data\")\n",
      "ValueError: Found NaNs or Infs in data\n",
      ".\n"
     ]
    },
    {
     "name": "stderr",
     "output_type": "stream",
     "text": [
      "[INFO 09-30 17:02:47] Scheduler: MetricFetchE INFO: Because val_acc is available_while_running and trial 4 is still RUNNING continuing the experiment and retrying on next poll...\n"
     ]
    },
    {
     "name": "stderr",
     "output_type": "stream",
     "text": [
      "/Users/cristianlara/Projects/Ax-1.0/ax/core/map_data.py:195: FutureWarning: The behavior of DataFrame concatenation with empty or all-NA entries is deprecated. In a future version, this will no longer exclude empty or all-NA columns when determining the result dtypes. To retain the old behavior, exclude the relevant entries before the concat operation.\n",
      "  df = pd.concat(\n",
      "[INFO 09-30 17:02:47] ax.early_stopping.strategies.base: The number of completed trials (0) is less than the minimum number of curves needed for early stopping (5). Not early stopping.\n"
     ]
    },
    {
     "name": "stderr",
     "output_type": "stream",
     "text": [
      "[INFO 09-30 17:02:47] Scheduler: Waiting for completed trials (for 10 sec, currently running trials: 5).\n"
     ]
    },
    {
     "name": "stderr",
     "output_type": "stream",
     "text": [
      "[INFO 09-30 17:02:57] Scheduler: Fetching data for newly completed trials: [].\n"
     ]
    },
    {
     "name": "stderr",
     "output_type": "stream",
     "text": [
      "[INFO 09-30 17:02:57] Scheduler: Fetching data for trials: [0, 1, 3, 4, 5] because some metrics on experiment are available while trials are running.\n"
     ]
    },
    {
     "name": "stderr",
     "output_type": "stream",
     "text": [
      "[INFO 09-30 17:02:57] ax.core.metric: MetricFetchE INFO: Initialized MetricFetchE(message=\"Failed to fetch data for val_acc\", exception=Found NaNs or Infs in data)\n",
      "with Traceback:\n",
      " Traceback (most recent call last):\n",
      "  File \"/Users/cristianlara/Projects/Ax-1.0/ax/metrics/tensorboard.py\", line 173, in bulk_fetch_trial_data\n",
      "    raise ValueError(\"Found NaNs or Infs in data\")\n",
      "ValueError: Found NaNs or Infs in data\n",
      "\n"
     ]
    },
    {
     "name": "stderr",
     "output_type": "stream",
     "text": [
      "[INFO 09-30 17:02:57] ax.core.metric: MetricFetchE INFO: Initialized MetricFetchE(message=\"Failed to fetch data for val_acc\", exception=Found NaNs or Infs in data)\n",
      "with Traceback:\n",
      " Traceback (most recent call last):\n",
      "  File \"/Users/cristianlara/Projects/Ax-1.0/ax/metrics/tensorboard.py\", line 173, in bulk_fetch_trial_data\n",
      "    raise ValueError(\"Found NaNs or Infs in data\")\n",
      "ValueError: Found NaNs or Infs in data\n",
      "\n"
     ]
    },
    {
     "name": "stderr",
     "output_type": "stream",
     "text": [
      "[INFO 09-30 17:02:57] ax.core.metric: MetricFetchE INFO: Initialized MetricFetchE(message=\"Failed to fetch data for val_acc\", exception=Found NaNs or Infs in data)\n",
      "with Traceback:\n",
      " Traceback (most recent call last):\n",
      "  File \"/Users/cristianlara/Projects/Ax-1.0/ax/metrics/tensorboard.py\", line 173, in bulk_fetch_trial_data\n",
      "    raise ValueError(\"Found NaNs or Infs in data\")\n",
      "ValueError: Found NaNs or Infs in data\n",
      "\n"
     ]
    },
    {
     "name": "stderr",
     "output_type": "stream",
     "text": [
      "[ERROR 09-30 17:02:57] ax.core.experiment: Discovered Metric fetching Err while attaching data MetricFetchE(message=\"Failed to fetch data for val_acc\", exception=Found NaNs or Infs in data)\n",
      "with Traceback:\n",
      " Traceback (most recent call last):\n",
      "  File \"/Users/cristianlara/Projects/Ax-1.0/ax/metrics/tensorboard.py\", line 173, in bulk_fetch_trial_data\n",
      "    raise ValueError(\"Found NaNs or Infs in data\")\n",
      "ValueError: Found NaNs or Infs in data\n",
      ". Ignoring for now -- will retry query on next call to fetch.\n"
     ]
    },
    {
     "name": "stderr",
     "output_type": "stream",
     "text": [
      "[ERROR 09-30 17:02:57] ax.core.experiment: Discovered Metric fetching Err while attaching data MetricFetchE(message=\"Failed to fetch data for val_acc\", exception=Found NaNs or Infs in data)\n",
      "with Traceback:\n",
      " Traceback (most recent call last):\n",
      "  File \"/Users/cristianlara/Projects/Ax-1.0/ax/metrics/tensorboard.py\", line 173, in bulk_fetch_trial_data\n",
      "    raise ValueError(\"Found NaNs or Infs in data\")\n",
      "ValueError: Found NaNs or Infs in data\n",
      ". Ignoring for now -- will retry query on next call to fetch.\n"
     ]
    },
    {
     "name": "stderr",
     "output_type": "stream",
     "text": [
      "[ERROR 09-30 17:02:57] ax.core.experiment: Discovered Metric fetching Err while attaching data MetricFetchE(message=\"Failed to fetch data for val_acc\", exception=Found NaNs or Infs in data)\n",
      "with Traceback:\n",
      " Traceback (most recent call last):\n",
      "  File \"/Users/cristianlara/Projects/Ax-1.0/ax/metrics/tensorboard.py\", line 173, in bulk_fetch_trial_data\n",
      "    raise ValueError(\"Found NaNs or Infs in data\")\n",
      "ValueError: Found NaNs or Infs in data\n",
      ". Ignoring for now -- will retry query on next call to fetch.\n"
     ]
    },
    {
     "name": "stderr",
     "output_type": "stream",
     "text": [
      "/Users/cristianlara/Projects/Ax-1.0/ax/core/map_data.py:195: FutureWarning: The behavior of DataFrame concatenation with empty or all-NA entries is deprecated. In a future version, this will no longer exclude empty or all-NA columns when determining the result dtypes. To retain the old behavior, exclude the relevant entries before the concat operation.\n",
      "  df = pd.concat(\n",
      "[WARNING 09-30 17:02:57] Scheduler: Failed to fetch val_acc for trial 0, found MetricFetchE(message=\"Failed to fetch data for val_acc\", exception=Found NaNs or Infs in data)\n",
      "with Traceback:\n",
      " Traceback (most recent call last):\n",
      "  File \"/Users/cristianlara/Projects/Ax-1.0/ax/metrics/tensorboard.py\", line 173, in bulk_fetch_trial_data\n",
      "    raise ValueError(\"Found NaNs or Infs in data\")\n",
      "ValueError: Found NaNs or Infs in data\n",
      ".\n"
     ]
    },
    {
     "name": "stderr",
     "output_type": "stream",
     "text": [
      "[INFO 09-30 17:02:57] Scheduler: MetricFetchE INFO: Because val_acc is available_while_running and trial 0 is still RUNNING continuing the experiment and retrying on next poll...\n"
     ]
    },
    {
     "name": "stderr",
     "output_type": "stream",
     "text": [
      "[WARNING 09-30 17:02:57] Scheduler: Failed to fetch val_acc for trial 1, found MetricFetchE(message=\"Failed to fetch data for val_acc\", exception=Found NaNs or Infs in data)\n",
      "with Traceback:\n",
      " Traceback (most recent call last):\n",
      "  File \"/Users/cristianlara/Projects/Ax-1.0/ax/metrics/tensorboard.py\", line 173, in bulk_fetch_trial_data\n",
      "    raise ValueError(\"Found NaNs or Infs in data\")\n",
      "ValueError: Found NaNs or Infs in data\n",
      ".\n"
     ]
    },
    {
     "name": "stderr",
     "output_type": "stream",
     "text": [
      "[INFO 09-30 17:02:57] Scheduler: MetricFetchE INFO: Because val_acc is available_while_running and trial 1 is still RUNNING continuing the experiment and retrying on next poll...\n"
     ]
    },
    {
     "name": "stderr",
     "output_type": "stream",
     "text": [
      "[WARNING 09-30 17:02:57] Scheduler: Failed to fetch val_acc for trial 4, found MetricFetchE(message=\"Failed to fetch data for val_acc\", exception=Found NaNs or Infs in data)\n",
      "with Traceback:\n",
      " Traceback (most recent call last):\n",
      "  File \"/Users/cristianlara/Projects/Ax-1.0/ax/metrics/tensorboard.py\", line 173, in bulk_fetch_trial_data\n",
      "    raise ValueError(\"Found NaNs or Infs in data\")\n",
      "ValueError: Found NaNs or Infs in data\n",
      ".\n"
     ]
    },
    {
     "name": "stderr",
     "output_type": "stream",
     "text": [
      "[INFO 09-30 17:02:57] Scheduler: MetricFetchE INFO: Because val_acc is available_while_running and trial 4 is still RUNNING continuing the experiment and retrying on next poll...\n"
     ]
    },
    {
     "name": "stderr",
     "output_type": "stream",
     "text": [
      "/Users/cristianlara/Projects/Ax-1.0/ax/core/map_data.py:195: FutureWarning: The behavior of DataFrame concatenation with empty or all-NA entries is deprecated. In a future version, this will no longer exclude empty or all-NA columns when determining the result dtypes. To retain the old behavior, exclude the relevant entries before the concat operation.\n",
      "  df = pd.concat(\n",
      "[INFO 09-30 17:02:57] ax.early_stopping.strategies.base: The number of completed trials (0) is less than the minimum number of curves needed for early stopping (5). Not early stopping.\n"
     ]
    },
    {
     "name": "stderr",
     "output_type": "stream",
     "text": [
      "[INFO 09-30 17:02:57] Scheduler: Waiting for completed trials (for 10 sec, currently running trials: 5).\n"
     ]
    },
    {
     "name": "stderr",
     "output_type": "stream",
     "text": [
      "[INFO 09-30 17:03:07] Scheduler: Fetching data for newly completed trials: [].\n"
     ]
    },
    {
     "name": "stderr",
     "output_type": "stream",
     "text": [
      "[INFO 09-30 17:03:07] Scheduler: Fetching data for trials: [0, 1, 3, 4, 5] because some metrics on experiment are available while trials are running.\n"
     ]
    },
    {
     "name": "stderr",
     "output_type": "stream",
     "text": [
      "[INFO 09-30 17:03:07] ax.core.metric: MetricFetchE INFO: Initialized MetricFetchE(message=\"Failed to fetch data for val_acc\", exception=Found NaNs or Infs in data)\n",
      "with Traceback:\n",
      " Traceback (most recent call last):\n",
      "  File \"/Users/cristianlara/Projects/Ax-1.0/ax/metrics/tensorboard.py\", line 173, in bulk_fetch_trial_data\n",
      "    raise ValueError(\"Found NaNs or Infs in data\")\n",
      "ValueError: Found NaNs or Infs in data\n",
      "\n"
     ]
    },
    {
     "name": "stderr",
     "output_type": "stream",
     "text": [
      "[INFO 09-30 17:03:07] ax.core.metric: MetricFetchE INFO: Initialized MetricFetchE(message=\"Failed to fetch data for val_acc\", exception=Found NaNs or Infs in data)\n",
      "with Traceback:\n",
      " Traceback (most recent call last):\n",
      "  File \"/Users/cristianlara/Projects/Ax-1.0/ax/metrics/tensorboard.py\", line 173, in bulk_fetch_trial_data\n",
      "    raise ValueError(\"Found NaNs or Infs in data\")\n",
      "ValueError: Found NaNs or Infs in data\n",
      "\n"
     ]
    },
    {
     "name": "stderr",
     "output_type": "stream",
     "text": [
      "[INFO 09-30 17:03:07] ax.core.metric: MetricFetchE INFO: Initialized MetricFetchE(message=\"Failed to fetch data for val_acc\", exception=Found NaNs or Infs in data)\n",
      "with Traceback:\n",
      " Traceback (most recent call last):\n",
      "  File \"/Users/cristianlara/Projects/Ax-1.0/ax/metrics/tensorboard.py\", line 173, in bulk_fetch_trial_data\n",
      "    raise ValueError(\"Found NaNs or Infs in data\")\n",
      "ValueError: Found NaNs or Infs in data\n",
      "\n"
     ]
    },
    {
     "name": "stderr",
     "output_type": "stream",
     "text": [
      "[ERROR 09-30 17:03:07] ax.core.experiment: Discovered Metric fetching Err while attaching data MetricFetchE(message=\"Failed to fetch data for val_acc\", exception=Found NaNs or Infs in data)\n",
      "with Traceback:\n",
      " Traceback (most recent call last):\n",
      "  File \"/Users/cristianlara/Projects/Ax-1.0/ax/metrics/tensorboard.py\", line 173, in bulk_fetch_trial_data\n",
      "    raise ValueError(\"Found NaNs or Infs in data\")\n",
      "ValueError: Found NaNs or Infs in data\n",
      ". Ignoring for now -- will retry query on next call to fetch.\n"
     ]
    },
    {
     "name": "stderr",
     "output_type": "stream",
     "text": [
      "[ERROR 09-30 17:03:07] ax.core.experiment: Discovered Metric fetching Err while attaching data MetricFetchE(message=\"Failed to fetch data for val_acc\", exception=Found NaNs or Infs in data)\n",
      "with Traceback:\n",
      " Traceback (most recent call last):\n",
      "  File \"/Users/cristianlara/Projects/Ax-1.0/ax/metrics/tensorboard.py\", line 173, in bulk_fetch_trial_data\n",
      "    raise ValueError(\"Found NaNs or Infs in data\")\n",
      "ValueError: Found NaNs or Infs in data\n",
      ". Ignoring for now -- will retry query on next call to fetch.\n"
     ]
    },
    {
     "name": "stderr",
     "output_type": "stream",
     "text": [
      "[ERROR 09-30 17:03:07] ax.core.experiment: Discovered Metric fetching Err while attaching data MetricFetchE(message=\"Failed to fetch data for val_acc\", exception=Found NaNs or Infs in data)\n",
      "with Traceback:\n",
      " Traceback (most recent call last):\n",
      "  File \"/Users/cristianlara/Projects/Ax-1.0/ax/metrics/tensorboard.py\", line 173, in bulk_fetch_trial_data\n",
      "    raise ValueError(\"Found NaNs or Infs in data\")\n",
      "ValueError: Found NaNs or Infs in data\n",
      ". Ignoring for now -- will retry query on next call to fetch.\n"
     ]
    },
    {
     "name": "stderr",
     "output_type": "stream",
     "text": [
      "/Users/cristianlara/Projects/Ax-1.0/ax/core/map_data.py:195: FutureWarning: The behavior of DataFrame concatenation with empty or all-NA entries is deprecated. In a future version, this will no longer exclude empty or all-NA columns when determining the result dtypes. To retain the old behavior, exclude the relevant entries before the concat operation.\n",
      "  df = pd.concat(\n",
      "[WARNING 09-30 17:03:07] Scheduler: Failed to fetch val_acc for trial 0, found MetricFetchE(message=\"Failed to fetch data for val_acc\", exception=Found NaNs or Infs in data)\n",
      "with Traceback:\n",
      " Traceback (most recent call last):\n",
      "  File \"/Users/cristianlara/Projects/Ax-1.0/ax/metrics/tensorboard.py\", line 173, in bulk_fetch_trial_data\n",
      "    raise ValueError(\"Found NaNs or Infs in data\")\n",
      "ValueError: Found NaNs or Infs in data\n",
      ".\n"
     ]
    },
    {
     "name": "stderr",
     "output_type": "stream",
     "text": [
      "[INFO 09-30 17:03:07] Scheduler: MetricFetchE INFO: Because val_acc is available_while_running and trial 0 is still RUNNING continuing the experiment and retrying on next poll...\n"
     ]
    },
    {
     "name": "stderr",
     "output_type": "stream",
     "text": [
      "[WARNING 09-30 17:03:07] Scheduler: Failed to fetch val_acc for trial 1, found MetricFetchE(message=\"Failed to fetch data for val_acc\", exception=Found NaNs or Infs in data)\n",
      "with Traceback:\n",
      " Traceback (most recent call last):\n",
      "  File \"/Users/cristianlara/Projects/Ax-1.0/ax/metrics/tensorboard.py\", line 173, in bulk_fetch_trial_data\n",
      "    raise ValueError(\"Found NaNs or Infs in data\")\n",
      "ValueError: Found NaNs or Infs in data\n",
      ".\n"
     ]
    },
    {
     "name": "stderr",
     "output_type": "stream",
     "text": [
      "[INFO 09-30 17:03:07] Scheduler: MetricFetchE INFO: Because val_acc is available_while_running and trial 1 is still RUNNING continuing the experiment and retrying on next poll...\n"
     ]
    },
    {
     "name": "stderr",
     "output_type": "stream",
     "text": [
      "[WARNING 09-30 17:03:07] Scheduler: Failed to fetch val_acc for trial 4, found MetricFetchE(message=\"Failed to fetch data for val_acc\", exception=Found NaNs or Infs in data)\n",
      "with Traceback:\n",
      " Traceback (most recent call last):\n",
      "  File \"/Users/cristianlara/Projects/Ax-1.0/ax/metrics/tensorboard.py\", line 173, in bulk_fetch_trial_data\n",
      "    raise ValueError(\"Found NaNs or Infs in data\")\n",
      "ValueError: Found NaNs or Infs in data\n",
      ".\n"
     ]
    },
    {
     "name": "stderr",
     "output_type": "stream",
     "text": [
      "[INFO 09-30 17:03:07] Scheduler: MetricFetchE INFO: Because val_acc is available_while_running and trial 4 is still RUNNING continuing the experiment and retrying on next poll...\n"
     ]
    },
    {
     "name": "stderr",
     "output_type": "stream",
     "text": [
      "/Users/cristianlara/Projects/Ax-1.0/ax/core/map_data.py:195: FutureWarning: The behavior of DataFrame concatenation with empty or all-NA entries is deprecated. In a future version, this will no longer exclude empty or all-NA columns when determining the result dtypes. To retain the old behavior, exclude the relevant entries before the concat operation.\n",
      "  df = pd.concat(\n",
      "[INFO 09-30 17:03:07] ax.early_stopping.strategies.base: The number of completed trials (0) is less than the minimum number of curves needed for early stopping (5). Not early stopping.\n"
     ]
    },
    {
     "name": "stderr",
     "output_type": "stream",
     "text": [
      "[INFO 09-30 17:03:07] Scheduler: Waiting for completed trials (for 10 sec, currently running trials: 5).\n"
     ]
    },
    {
     "name": "stderr",
     "output_type": "stream",
     "text": [
      "[INFO 09-30 17:03:17] Scheduler: Fetching data for newly completed trials: [].\n"
     ]
    },
    {
     "name": "stderr",
     "output_type": "stream",
     "text": [
      "[INFO 09-30 17:03:17] Scheduler: Fetching data for trials: [0, 1, 3, 4, 5] because some metrics on experiment are available while trials are running.\n"
     ]
    },
    {
     "name": "stderr",
     "output_type": "stream",
     "text": [
      "[INFO 09-30 17:03:17] ax.core.metric: MetricFetchE INFO: Initialized MetricFetchE(message=\"Failed to fetch data for val_acc\", exception=Found NaNs or Infs in data)\n",
      "with Traceback:\n",
      " Traceback (most recent call last):\n",
      "  File \"/Users/cristianlara/Projects/Ax-1.0/ax/metrics/tensorboard.py\", line 173, in bulk_fetch_trial_data\n",
      "    raise ValueError(\"Found NaNs or Infs in data\")\n",
      "ValueError: Found NaNs or Infs in data\n",
      "\n"
     ]
    },
    {
     "name": "stderr",
     "output_type": "stream",
     "text": [
      "[INFO 09-30 17:03:17] ax.core.metric: MetricFetchE INFO: Initialized MetricFetchE(message=\"Failed to fetch data for val_acc\", exception=Found NaNs or Infs in data)\n",
      "with Traceback:\n",
      " Traceback (most recent call last):\n",
      "  File \"/Users/cristianlara/Projects/Ax-1.0/ax/metrics/tensorboard.py\", line 173, in bulk_fetch_trial_data\n",
      "    raise ValueError(\"Found NaNs or Infs in data\")\n",
      "ValueError: Found NaNs or Infs in data\n",
      "\n"
     ]
    },
    {
     "name": "stderr",
     "output_type": "stream",
     "text": [
      "[INFO 09-30 17:03:17] ax.core.metric: MetricFetchE INFO: Initialized MetricFetchE(message=\"Failed to fetch data for val_acc\", exception=Found NaNs or Infs in data)\n",
      "with Traceback:\n",
      " Traceback (most recent call last):\n",
      "  File \"/Users/cristianlara/Projects/Ax-1.0/ax/metrics/tensorboard.py\", line 173, in bulk_fetch_trial_data\n",
      "    raise ValueError(\"Found NaNs or Infs in data\")\n",
      "ValueError: Found NaNs or Infs in data\n",
      "\n"
     ]
    },
    {
     "name": "stderr",
     "output_type": "stream",
     "text": [
      "[ERROR 09-30 17:03:17] ax.core.experiment: Discovered Metric fetching Err while attaching data MetricFetchE(message=\"Failed to fetch data for val_acc\", exception=Found NaNs or Infs in data)\n",
      "with Traceback:\n",
      " Traceback (most recent call last):\n",
      "  File \"/Users/cristianlara/Projects/Ax-1.0/ax/metrics/tensorboard.py\", line 173, in bulk_fetch_trial_data\n",
      "    raise ValueError(\"Found NaNs or Infs in data\")\n",
      "ValueError: Found NaNs or Infs in data\n",
      ". Ignoring for now -- will retry query on next call to fetch.\n"
     ]
    },
    {
     "name": "stderr",
     "output_type": "stream",
     "text": [
      "[ERROR 09-30 17:03:17] ax.core.experiment: Discovered Metric fetching Err while attaching data MetricFetchE(message=\"Failed to fetch data for val_acc\", exception=Found NaNs or Infs in data)\n",
      "with Traceback:\n",
      " Traceback (most recent call last):\n",
      "  File \"/Users/cristianlara/Projects/Ax-1.0/ax/metrics/tensorboard.py\", line 173, in bulk_fetch_trial_data\n",
      "    raise ValueError(\"Found NaNs or Infs in data\")\n",
      "ValueError: Found NaNs or Infs in data\n",
      ". Ignoring for now -- will retry query on next call to fetch.\n"
     ]
    },
    {
     "name": "stderr",
     "output_type": "stream",
     "text": [
      "[ERROR 09-30 17:03:17] ax.core.experiment: Discovered Metric fetching Err while attaching data MetricFetchE(message=\"Failed to fetch data for val_acc\", exception=Found NaNs or Infs in data)\n",
      "with Traceback:\n",
      " Traceback (most recent call last):\n",
      "  File \"/Users/cristianlara/Projects/Ax-1.0/ax/metrics/tensorboard.py\", line 173, in bulk_fetch_trial_data\n",
      "    raise ValueError(\"Found NaNs or Infs in data\")\n",
      "ValueError: Found NaNs or Infs in data\n",
      ". Ignoring for now -- will retry query on next call to fetch.\n"
     ]
    },
    {
     "name": "stderr",
     "output_type": "stream",
     "text": [
      "/Users/cristianlara/Projects/Ax-1.0/ax/core/map_data.py:195: FutureWarning: The behavior of DataFrame concatenation with empty or all-NA entries is deprecated. In a future version, this will no longer exclude empty or all-NA columns when determining the result dtypes. To retain the old behavior, exclude the relevant entries before the concat operation.\n",
      "  df = pd.concat(\n",
      "[WARNING 09-30 17:03:17] Scheduler: Failed to fetch val_acc for trial 0, found MetricFetchE(message=\"Failed to fetch data for val_acc\", exception=Found NaNs or Infs in data)\n",
      "with Traceback:\n",
      " Traceback (most recent call last):\n",
      "  File \"/Users/cristianlara/Projects/Ax-1.0/ax/metrics/tensorboard.py\", line 173, in bulk_fetch_trial_data\n",
      "    raise ValueError(\"Found NaNs or Infs in data\")\n",
      "ValueError: Found NaNs or Infs in data\n",
      ".\n"
     ]
    },
    {
     "name": "stderr",
     "output_type": "stream",
     "text": [
      "[INFO 09-30 17:03:17] Scheduler: MetricFetchE INFO: Because val_acc is available_while_running and trial 0 is still RUNNING continuing the experiment and retrying on next poll...\n"
     ]
    },
    {
     "name": "stderr",
     "output_type": "stream",
     "text": [
      "[WARNING 09-30 17:03:17] Scheduler: Failed to fetch val_acc for trial 1, found MetricFetchE(message=\"Failed to fetch data for val_acc\", exception=Found NaNs or Infs in data)\n",
      "with Traceback:\n",
      " Traceback (most recent call last):\n",
      "  File \"/Users/cristianlara/Projects/Ax-1.0/ax/metrics/tensorboard.py\", line 173, in bulk_fetch_trial_data\n",
      "    raise ValueError(\"Found NaNs or Infs in data\")\n",
      "ValueError: Found NaNs or Infs in data\n",
      ".\n"
     ]
    },
    {
     "name": "stderr",
     "output_type": "stream",
     "text": [
      "[INFO 09-30 17:03:17] Scheduler: MetricFetchE INFO: Because val_acc is available_while_running and trial 1 is still RUNNING continuing the experiment and retrying on next poll...\n"
     ]
    },
    {
     "name": "stderr",
     "output_type": "stream",
     "text": [
      "[WARNING 09-30 17:03:17] Scheduler: Failed to fetch val_acc for trial 4, found MetricFetchE(message=\"Failed to fetch data for val_acc\", exception=Found NaNs or Infs in data)\n",
      "with Traceback:\n",
      " Traceback (most recent call last):\n",
      "  File \"/Users/cristianlara/Projects/Ax-1.0/ax/metrics/tensorboard.py\", line 173, in bulk_fetch_trial_data\n",
      "    raise ValueError(\"Found NaNs or Infs in data\")\n",
      "ValueError: Found NaNs or Infs in data\n",
      ".\n"
     ]
    },
    {
     "name": "stderr",
     "output_type": "stream",
     "text": [
      "[INFO 09-30 17:03:17] Scheduler: MetricFetchE INFO: Because val_acc is available_while_running and trial 4 is still RUNNING continuing the experiment and retrying on next poll...\n"
     ]
    },
    {
     "name": "stderr",
     "output_type": "stream",
     "text": [
      "/Users/cristianlara/Projects/Ax-1.0/ax/core/map_data.py:195: FutureWarning: The behavior of DataFrame concatenation with empty or all-NA entries is deprecated. In a future version, this will no longer exclude empty or all-NA columns when determining the result dtypes. To retain the old behavior, exclude the relevant entries before the concat operation.\n",
      "  df = pd.concat(\n",
      "[INFO 09-30 17:03:17] ax.early_stopping.strategies.base: The number of completed trials (0) is less than the minimum number of curves needed for early stopping (5). Not early stopping.\n"
     ]
    },
    {
     "name": "stderr",
     "output_type": "stream",
     "text": [
      "[INFO 09-30 17:03:17] Scheduler: Waiting for completed trials (for 10 sec, currently running trials: 5).\n"
     ]
    },
    {
     "name": "stderr",
     "output_type": "stream",
     "text": [
      "[INFO 09-30 17:03:27] Scheduler: Fetching data for newly completed trials: [].\n"
     ]
    },
    {
     "name": "stderr",
     "output_type": "stream",
     "text": [
      "[INFO 09-30 17:03:27] Scheduler: Fetching data for trials: [0, 1, 3, 4, 5] because some metrics on experiment are available while trials are running.\n"
     ]
    },
    {
     "name": "stderr",
     "output_type": "stream",
     "text": [
      "[INFO 09-30 17:03:27] ax.core.metric: MetricFetchE INFO: Initialized MetricFetchE(message=\"Failed to fetch data for val_acc\", exception=Found NaNs or Infs in data)\n",
      "with Traceback:\n",
      " Traceback (most recent call last):\n",
      "  File \"/Users/cristianlara/Projects/Ax-1.0/ax/metrics/tensorboard.py\", line 173, in bulk_fetch_trial_data\n",
      "    raise ValueError(\"Found NaNs or Infs in data\")\n",
      "ValueError: Found NaNs or Infs in data\n",
      "\n"
     ]
    },
    {
     "name": "stderr",
     "output_type": "stream",
     "text": [
      "[INFO 09-30 17:03:27] ax.core.metric: MetricFetchE INFO: Initialized MetricFetchE(message=\"Failed to fetch data for val_acc\", exception=Found NaNs or Infs in data)\n",
      "with Traceback:\n",
      " Traceback (most recent call last):\n",
      "  File \"/Users/cristianlara/Projects/Ax-1.0/ax/metrics/tensorboard.py\", line 173, in bulk_fetch_trial_data\n",
      "    raise ValueError(\"Found NaNs or Infs in data\")\n",
      "ValueError: Found NaNs or Infs in data\n",
      "\n"
     ]
    },
    {
     "name": "stderr",
     "output_type": "stream",
     "text": [
      "[INFO 09-30 17:03:27] ax.core.metric: MetricFetchE INFO: Initialized MetricFetchE(message=\"Failed to fetch data for val_acc\", exception=Found NaNs or Infs in data)\n",
      "with Traceback:\n",
      " Traceback (most recent call last):\n",
      "  File \"/Users/cristianlara/Projects/Ax-1.0/ax/metrics/tensorboard.py\", line 173, in bulk_fetch_trial_data\n",
      "    raise ValueError(\"Found NaNs or Infs in data\")\n",
      "ValueError: Found NaNs or Infs in data\n",
      "\n"
     ]
    },
    {
     "name": "stderr",
     "output_type": "stream",
     "text": [
      "[ERROR 09-30 17:03:27] ax.core.experiment: Discovered Metric fetching Err while attaching data MetricFetchE(message=\"Failed to fetch data for val_acc\", exception=Found NaNs or Infs in data)\n",
      "with Traceback:\n",
      " Traceback (most recent call last):\n",
      "  File \"/Users/cristianlara/Projects/Ax-1.0/ax/metrics/tensorboard.py\", line 173, in bulk_fetch_trial_data\n",
      "    raise ValueError(\"Found NaNs or Infs in data\")\n",
      "ValueError: Found NaNs or Infs in data\n",
      ". Ignoring for now -- will retry query on next call to fetch.\n"
     ]
    },
    {
     "name": "stderr",
     "output_type": "stream",
     "text": [
      "[ERROR 09-30 17:03:27] ax.core.experiment: Discovered Metric fetching Err while attaching data MetricFetchE(message=\"Failed to fetch data for val_acc\", exception=Found NaNs or Infs in data)\n",
      "with Traceback:\n",
      " Traceback (most recent call last):\n",
      "  File \"/Users/cristianlara/Projects/Ax-1.0/ax/metrics/tensorboard.py\", line 173, in bulk_fetch_trial_data\n",
      "    raise ValueError(\"Found NaNs or Infs in data\")\n",
      "ValueError: Found NaNs or Infs in data\n",
      ". Ignoring for now -- will retry query on next call to fetch.\n"
     ]
    },
    {
     "name": "stderr",
     "output_type": "stream",
     "text": [
      "[ERROR 09-30 17:03:27] ax.core.experiment: Discovered Metric fetching Err while attaching data MetricFetchE(message=\"Failed to fetch data for val_acc\", exception=Found NaNs or Infs in data)\n",
      "with Traceback:\n",
      " Traceback (most recent call last):\n",
      "  File \"/Users/cristianlara/Projects/Ax-1.0/ax/metrics/tensorboard.py\", line 173, in bulk_fetch_trial_data\n",
      "    raise ValueError(\"Found NaNs or Infs in data\")\n",
      "ValueError: Found NaNs or Infs in data\n",
      ". Ignoring for now -- will retry query on next call to fetch.\n"
     ]
    },
    {
     "name": "stderr",
     "output_type": "stream",
     "text": [
      "/Users/cristianlara/Projects/Ax-1.0/ax/core/map_data.py:195: FutureWarning: The behavior of DataFrame concatenation with empty or all-NA entries is deprecated. In a future version, this will no longer exclude empty or all-NA columns when determining the result dtypes. To retain the old behavior, exclude the relevant entries before the concat operation.\n",
      "  df = pd.concat(\n",
      "[WARNING 09-30 17:03:27] Scheduler: Failed to fetch val_acc for trial 0, found MetricFetchE(message=\"Failed to fetch data for val_acc\", exception=Found NaNs or Infs in data)\n",
      "with Traceback:\n",
      " Traceback (most recent call last):\n",
      "  File \"/Users/cristianlara/Projects/Ax-1.0/ax/metrics/tensorboard.py\", line 173, in bulk_fetch_trial_data\n",
      "    raise ValueError(\"Found NaNs or Infs in data\")\n",
      "ValueError: Found NaNs or Infs in data\n",
      ".\n"
     ]
    },
    {
     "name": "stderr",
     "output_type": "stream",
     "text": [
      "[INFO 09-30 17:03:27] Scheduler: MetricFetchE INFO: Because val_acc is available_while_running and trial 0 is still RUNNING continuing the experiment and retrying on next poll...\n"
     ]
    },
    {
     "name": "stderr",
     "output_type": "stream",
     "text": [
      "[WARNING 09-30 17:03:27] Scheduler: Failed to fetch val_acc for trial 1, found MetricFetchE(message=\"Failed to fetch data for val_acc\", exception=Found NaNs or Infs in data)\n",
      "with Traceback:\n",
      " Traceback (most recent call last):\n",
      "  File \"/Users/cristianlara/Projects/Ax-1.0/ax/metrics/tensorboard.py\", line 173, in bulk_fetch_trial_data\n",
      "    raise ValueError(\"Found NaNs or Infs in data\")\n",
      "ValueError: Found NaNs or Infs in data\n",
      ".\n"
     ]
    },
    {
     "name": "stderr",
     "output_type": "stream",
     "text": [
      "[INFO 09-30 17:03:27] Scheduler: MetricFetchE INFO: Because val_acc is available_while_running and trial 1 is still RUNNING continuing the experiment and retrying on next poll...\n"
     ]
    },
    {
     "name": "stderr",
     "output_type": "stream",
     "text": [
      "[WARNING 09-30 17:03:27] Scheduler: Failed to fetch val_acc for trial 4, found MetricFetchE(message=\"Failed to fetch data for val_acc\", exception=Found NaNs or Infs in data)\n",
      "with Traceback:\n",
      " Traceback (most recent call last):\n",
      "  File \"/Users/cristianlara/Projects/Ax-1.0/ax/metrics/tensorboard.py\", line 173, in bulk_fetch_trial_data\n",
      "    raise ValueError(\"Found NaNs or Infs in data\")\n",
      "ValueError: Found NaNs or Infs in data\n",
      ".\n"
     ]
    },
    {
     "name": "stderr",
     "output_type": "stream",
     "text": [
      "[INFO 09-30 17:03:27] Scheduler: MetricFetchE INFO: Because val_acc is available_while_running and trial 4 is still RUNNING continuing the experiment and retrying on next poll...\n"
     ]
    },
    {
     "name": "stderr",
     "output_type": "stream",
     "text": [
      "/Users/cristianlara/Projects/Ax-1.0/ax/core/map_data.py:195: FutureWarning: The behavior of DataFrame concatenation with empty or all-NA entries is deprecated. In a future version, this will no longer exclude empty or all-NA columns when determining the result dtypes. To retain the old behavior, exclude the relevant entries before the concat operation.\n",
      "  df = pd.concat(\n",
      "[INFO 09-30 17:03:27] ax.early_stopping.strategies.base: The number of completed trials (0) is less than the minimum number of curves needed for early stopping (5). Not early stopping.\n"
     ]
    },
    {
     "name": "stderr",
     "output_type": "stream",
     "text": [
      "[INFO 09-30 17:03:27] Scheduler: Waiting for completed trials (for 10 sec, currently running trials: 5).\n"
     ]
    },
    {
     "name": "stderr",
     "output_type": "stream",
     "text": [
      "[INFO 09-30 17:03:37] Scheduler: Fetching data for newly completed trials: [1, 3].\n"
     ]
    },
    {
     "name": "stderr",
     "output_type": "stream",
     "text": [
      "[INFO 09-30 17:03:37] Scheduler: Fetching data for trials: [0, 4, 5] because some metrics on experiment are available while trials are running.\n"
     ]
    },
    {
     "name": "stderr",
     "output_type": "stream",
     "text": [
      "[INFO 09-30 17:03:37] Scheduler: Retrieved COMPLETED trials: [1, 3].\n"
     ]
    },
    {
     "name": "stderr",
     "output_type": "stream",
     "text": [
      "[INFO 09-30 17:03:37] ax.core.metric: MetricFetchE INFO: Initialized MetricFetchE(message=\"Failed to fetch data for val_acc\", exception=Found NaNs or Infs in data)\n",
      "with Traceback:\n",
      " Traceback (most recent call last):\n",
      "  File \"/Users/cristianlara/Projects/Ax-1.0/ax/metrics/tensorboard.py\", line 173, in bulk_fetch_trial_data\n",
      "    raise ValueError(\"Found NaNs or Infs in data\")\n",
      "ValueError: Found NaNs or Infs in data\n",
      "\n"
     ]
    },
    {
     "name": "stderr",
     "output_type": "stream",
     "text": [
      "[INFO 09-30 17:03:37] ax.core.metric: MetricFetchE INFO: Initialized MetricFetchE(message=\"Failed to fetch data for val_acc\", exception=Found NaNs or Infs in data)\n",
      "with Traceback:\n",
      " Traceback (most recent call last):\n",
      "  File \"/Users/cristianlara/Projects/Ax-1.0/ax/metrics/tensorboard.py\", line 173, in bulk_fetch_trial_data\n",
      "    raise ValueError(\"Found NaNs or Infs in data\")\n",
      "ValueError: Found NaNs or Infs in data\n",
      "\n"
     ]
    },
    {
     "name": "stderr",
     "output_type": "stream",
     "text": [
      "[INFO 09-30 17:03:37] ax.core.metric: MetricFetchE INFO: Initialized MetricFetchE(message=\"Failed to fetch data for val_acc\", exception=Found NaNs or Infs in data)\n",
      "with Traceback:\n",
      " Traceback (most recent call last):\n",
      "  File \"/Users/cristianlara/Projects/Ax-1.0/ax/metrics/tensorboard.py\", line 173, in bulk_fetch_trial_data\n",
      "    raise ValueError(\"Found NaNs or Infs in data\")\n",
      "ValueError: Found NaNs or Infs in data\n",
      "\n"
     ]
    },
    {
     "name": "stderr",
     "output_type": "stream",
     "text": [
      "[ERROR 09-30 17:03:37] ax.core.experiment: Discovered Metric fetching Err while attaching data MetricFetchE(message=\"Failed to fetch data for val_acc\", exception=Found NaNs or Infs in data)\n",
      "with Traceback:\n",
      " Traceback (most recent call last):\n",
      "  File \"/Users/cristianlara/Projects/Ax-1.0/ax/metrics/tensorboard.py\", line 173, in bulk_fetch_trial_data\n",
      "    raise ValueError(\"Found NaNs or Infs in data\")\n",
      "ValueError: Found NaNs or Infs in data\n",
      ". Ignoring for now -- will retry query on next call to fetch.\n"
     ]
    },
    {
     "name": "stderr",
     "output_type": "stream",
     "text": [
      "[ERROR 09-30 17:03:37] ax.core.experiment: Discovered Metric fetching Err while attaching data MetricFetchE(message=\"Failed to fetch data for val_acc\", exception=Found NaNs or Infs in data)\n",
      "with Traceback:\n",
      " Traceback (most recent call last):\n",
      "  File \"/Users/cristianlara/Projects/Ax-1.0/ax/metrics/tensorboard.py\", line 173, in bulk_fetch_trial_data\n",
      "    raise ValueError(\"Found NaNs or Infs in data\")\n",
      "ValueError: Found NaNs or Infs in data\n",
      ". Ignoring for now -- will retry query on next call to fetch.\n"
     ]
    },
    {
     "name": "stderr",
     "output_type": "stream",
     "text": [
      "[ERROR 09-30 17:03:37] ax.core.experiment: Discovered Metric fetching Err while attaching data MetricFetchE(message=\"Failed to fetch data for val_acc\", exception=Found NaNs or Infs in data)\n",
      "with Traceback:\n",
      " Traceback (most recent call last):\n",
      "  File \"/Users/cristianlara/Projects/Ax-1.0/ax/metrics/tensorboard.py\", line 173, in bulk_fetch_trial_data\n",
      "    raise ValueError(\"Found NaNs or Infs in data\")\n",
      "ValueError: Found NaNs or Infs in data\n",
      ". Ignoring for now -- will retry query on next call to fetch.\n"
     ]
    },
    {
     "name": "stderr",
     "output_type": "stream",
     "text": [
      "/Users/cristianlara/Projects/Ax-1.0/ax/core/map_data.py:195: FutureWarning: The behavior of DataFrame concatenation with empty or all-NA entries is deprecated. In a future version, this will no longer exclude empty or all-NA columns when determining the result dtypes. To retain the old behavior, exclude the relevant entries before the concat operation.\n",
      "  df = pd.concat(\n",
      "[WARNING 09-30 17:03:37] Scheduler: Failed to fetch val_acc for trial 0, found MetricFetchE(message=\"Failed to fetch data for val_acc\", exception=Found NaNs or Infs in data)\n",
      "with Traceback:\n",
      " Traceback (most recent call last):\n",
      "  File \"/Users/cristianlara/Projects/Ax-1.0/ax/metrics/tensorboard.py\", line 173, in bulk_fetch_trial_data\n",
      "    raise ValueError(\"Found NaNs or Infs in data\")\n",
      "ValueError: Found NaNs or Infs in data\n",
      ".\n"
     ]
    },
    {
     "name": "stderr",
     "output_type": "stream",
     "text": [
      "[INFO 09-30 17:03:37] Scheduler: MetricFetchE INFO: Because val_acc is available_while_running and trial 0 is still RUNNING continuing the experiment and retrying on next poll...\n"
     ]
    },
    {
     "name": "stderr",
     "output_type": "stream",
     "text": [
      "[WARNING 09-30 17:03:37] Scheduler: Failed to fetch val_acc for trial 1, found MetricFetchE(message=\"Failed to fetch data for val_acc\", exception=Found NaNs or Infs in data)\n",
      "with Traceback:\n",
      " Traceback (most recent call last):\n",
      "  File \"/Users/cristianlara/Projects/Ax-1.0/ax/metrics/tensorboard.py\", line 173, in bulk_fetch_trial_data\n",
      "    raise ValueError(\"Found NaNs or Infs in data\")\n",
      "ValueError: Found NaNs or Infs in data\n",
      ".\n"
     ]
    },
    {
     "name": "stderr",
     "output_type": "stream",
     "text": [
      "[WARNING 09-30 17:03:37] Scheduler: MetricFetchE INFO: Because val_acc is an objective, marking trial 1 as TrialStatus.FAILED.\n"
     ]
    },
    {
     "name": "stderr",
     "output_type": "stream",
     "text": [
      "[WARNING 09-30 17:03:37] Scheduler: Failed to fetch val_acc for trial 4, found MetricFetchE(message=\"Failed to fetch data for val_acc\", exception=Found NaNs or Infs in data)\n",
      "with Traceback:\n",
      " Traceback (most recent call last):\n",
      "  File \"/Users/cristianlara/Projects/Ax-1.0/ax/metrics/tensorboard.py\", line 173, in bulk_fetch_trial_data\n",
      "    raise ValueError(\"Found NaNs or Infs in data\")\n",
      "ValueError: Found NaNs or Infs in data\n",
      ".\n"
     ]
    },
    {
     "name": "stderr",
     "output_type": "stream",
     "text": [
      "[INFO 09-30 17:03:37] Scheduler: MetricFetchE INFO: Because val_acc is available_while_running and trial 4 is still RUNNING continuing the experiment and retrying on next poll...\n"
     ]
    },
    {
     "name": "stderr",
     "output_type": "stream",
     "text": [
      "/Users/cristianlara/Projects/Ax-1.0/ax/core/map_data.py:195: FutureWarning: The behavior of DataFrame concatenation with empty or all-NA entries is deprecated. In a future version, this will no longer exclude empty or all-NA columns when determining the result dtypes. To retain the old behavior, exclude the relevant entries before the concat operation.\n",
      "  df = pd.concat(\n",
      "[INFO 09-30 17:03:37] ax.early_stopping.strategies.base: The number of completed trials (1) is less than the minimum number of curves needed for early stopping (5). Not early stopping.\n"
     ]
    },
    {
     "name": "stderr",
     "output_type": "stream",
     "text": [
      "/Users/cristianlara/Projects/Ax-1.0/ax/core/map_data.py:195: FutureWarning: The behavior of DataFrame concatenation with empty or all-NA entries is deprecated. In a future version, this will no longer exclude empty or all-NA columns when determining the result dtypes. To retain the old behavior, exclude the relevant entries before the concat operation.\n",
      "  df = pd.concat(\n",
      "/Users/cristianlara/Projects/Ax-1.0/ax/modelbridge/cross_validation.py:463: UserWarning: Encountered exception in computing model fit quality: RandomModelBridge does not support prediction.\n",
      "  warn(\"Encountered exception in computing model fit quality: \" + str(e))\n",
      "[INFO 09-30 17:03:38] Scheduler: Running trials [6]...\n"
     ]
    },
    {
     "name": "stderr",
     "output_type": "stream",
     "text": [
      "[INFO 09-30 17:03:39] Scheduler: Generated all trials that can be generated currently. Model requires more data to generate more trials.\n"
     ]
    },
    {
     "name": "stderr",
     "output_type": "stream",
     "text": [
      "[WARNING 09-30 17:03:39] Scheduler: Both `init_seconds_between_polls` and `early_stopping_strategy supplied. `init_seconds_between_polls=1` will be overrridden by `early_stopping_strategy.seconds_between_polls=10` and polling will take place at a constant rate.\n"
     ]
    },
    {
     "name": "stderr",
     "output_type": "stream",
     "text": [
      "[INFO 09-30 17:03:39] Scheduler: Fetching data for newly completed trials: [0].\n"
     ]
    },
    {
     "name": "stderr",
     "output_type": "stream",
     "text": [
      "[INFO 09-30 17:03:39] Scheduler: Fetching data for trials: 4 - 6 because some metrics on experiment are available while trials are running.\n"
     ]
    },
    {
     "name": "stderr",
     "output_type": "stream",
     "text": [
      "[INFO 09-30 17:03:39] Scheduler: Retrieved COMPLETED trials: [0].\n"
     ]
    },
    {
     "name": "stderr",
     "output_type": "stream",
     "text": [
      "[INFO 09-30 17:03:39] ax.core.metric: MetricFetchE INFO: Initialized MetricFetchE(message=\"Failed to fetch data for val_acc\", exception=Found NaNs or Infs in data)\n",
      "with Traceback:\n",
      " Traceback (most recent call last):\n",
      "  File \"/Users/cristianlara/Projects/Ax-1.0/ax/metrics/tensorboard.py\", line 173, in bulk_fetch_trial_data\n",
      "    raise ValueError(\"Found NaNs or Infs in data\")\n",
      "ValueError: Found NaNs or Infs in data\n",
      "\n"
     ]
    },
    {
     "name": "stderr",
     "output_type": "stream",
     "text": [
      "[INFO 09-30 17:03:39] ax.core.metric: MetricFetchE INFO: Initialized MetricFetchE(message=\"Failed to fetch data for val_acc\", exception=Found NaNs or Infs in data)\n",
      "with Traceback:\n",
      " Traceback (most recent call last):\n",
      "  File \"/Users/cristianlara/Projects/Ax-1.0/ax/metrics/tensorboard.py\", line 173, in bulk_fetch_trial_data\n",
      "    raise ValueError(\"Found NaNs or Infs in data\")\n",
      "ValueError: Found NaNs or Infs in data\n",
      "\n"
     ]
    },
    {
     "name": "stderr",
     "output_type": "stream",
     "text": [
      "[INFO 09-30 17:03:39] ax.core.metric: MetricFetchE INFO: Initialized MetricFetchE(message=\"No 'scalar' data found for trial in multiplexer mul=<tensorboard.backend.event_processing.plugin_event_multiplexer.EventMultiplexer object at 0x171d56cc0>\")\n"
     ]
    },
    {
     "name": "stderr",
     "output_type": "stream",
     "text": [
      "[ERROR 09-30 17:03:39] ax.core.experiment: Discovered Metric fetching Err while attaching data MetricFetchE(message=\"Failed to fetch data for val_acc\", exception=Found NaNs or Infs in data)\n",
      "with Traceback:\n",
      " Traceback (most recent call last):\n",
      "  File \"/Users/cristianlara/Projects/Ax-1.0/ax/metrics/tensorboard.py\", line 173, in bulk_fetch_trial_data\n",
      "    raise ValueError(\"Found NaNs or Infs in data\")\n",
      "ValueError: Found NaNs or Infs in data\n",
      ". Ignoring for now -- will retry query on next call to fetch.\n"
     ]
    },
    {
     "name": "stderr",
     "output_type": "stream",
     "text": [
      "[ERROR 09-30 17:03:39] ax.core.experiment: Discovered Metric fetching Err while attaching data MetricFetchE(message=\"Failed to fetch data for val_acc\", exception=Found NaNs or Infs in data)\n",
      "with Traceback:\n",
      " Traceback (most recent call last):\n",
      "  File \"/Users/cristianlara/Projects/Ax-1.0/ax/metrics/tensorboard.py\", line 173, in bulk_fetch_trial_data\n",
      "    raise ValueError(\"Found NaNs or Infs in data\")\n",
      "ValueError: Found NaNs or Infs in data\n",
      ". Ignoring for now -- will retry query on next call to fetch.\n"
     ]
    },
    {
     "name": "stderr",
     "output_type": "stream",
     "text": [
      "[ERROR 09-30 17:03:39] ax.core.experiment: Discovered Metric fetching Err while attaching data MetricFetchE(message=\"No 'scalar' data found for trial in multiplexer mul=<tensorboard.backend.event_processing.plugin_event_multiplexer.EventMultiplexer object at 0x171d56cc0>\"). Ignoring for now -- will retry query on next call to fetch.\n"
     ]
    },
    {
     "name": "stderr",
     "output_type": "stream",
     "text": [
      "/Users/cristianlara/Projects/Ax-1.0/ax/core/map_data.py:195: FutureWarning: The behavior of DataFrame concatenation with empty or all-NA entries is deprecated. In a future version, this will no longer exclude empty or all-NA columns when determining the result dtypes. To retain the old behavior, exclude the relevant entries before the concat operation.\n",
      "  df = pd.concat(\n",
      "[WARNING 09-30 17:03:39] Scheduler: Failed to fetch val_acc for trial 0, found MetricFetchE(message=\"Failed to fetch data for val_acc\", exception=Found NaNs or Infs in data)\n",
      "with Traceback:\n",
      " Traceback (most recent call last):\n",
      "  File \"/Users/cristianlara/Projects/Ax-1.0/ax/metrics/tensorboard.py\", line 173, in bulk_fetch_trial_data\n",
      "    raise ValueError(\"Found NaNs or Infs in data\")\n",
      "ValueError: Found NaNs or Infs in data\n",
      ".\n"
     ]
    },
    {
     "name": "stderr",
     "output_type": "stream",
     "text": [
      "[WARNING 09-30 17:03:39] Scheduler: MetricFetchE INFO: Because val_acc is an objective, marking trial 0 as TrialStatus.FAILED.\n"
     ]
    },
    {
     "name": "stderr",
     "output_type": "stream",
     "text": [
      "[WARNING 09-30 17:03:39] Scheduler: Failed to fetch val_acc for trial 4, found MetricFetchE(message=\"Failed to fetch data for val_acc\", exception=Found NaNs or Infs in data)\n",
      "with Traceback:\n",
      " Traceback (most recent call last):\n",
      "  File \"/Users/cristianlara/Projects/Ax-1.0/ax/metrics/tensorboard.py\", line 173, in bulk_fetch_trial_data\n",
      "    raise ValueError(\"Found NaNs or Infs in data\")\n",
      "ValueError: Found NaNs or Infs in data\n",
      ".\n"
     ]
    },
    {
     "name": "stderr",
     "output_type": "stream",
     "text": [
      "[INFO 09-30 17:03:39] Scheduler: MetricFetchE INFO: Because val_acc is available_while_running and trial 4 is still RUNNING continuing the experiment and retrying on next poll...\n"
     ]
    },
    {
     "name": "stderr",
     "output_type": "stream",
     "text": [
      "[WARNING 09-30 17:03:39] Scheduler: Failed to fetch val_acc for trial 6, found MetricFetchE(message=\"No 'scalar' data found for trial in multiplexer mul=<tensorboard.backend.event_processing.plugin_event_multiplexer.EventMultiplexer object at 0x171d56cc0>\").\n"
     ]
    },
    {
     "name": "stderr",
     "output_type": "stream",
     "text": [
      "[INFO 09-30 17:03:39] Scheduler: MetricFetchE INFO: Because val_acc is available_while_running and trial 6 is still RUNNING continuing the experiment and retrying on next poll...\n"
     ]
    },
    {
     "name": "stderr",
     "output_type": "stream",
     "text": [
      "/Users/cristianlara/Projects/Ax-1.0/ax/core/map_data.py:195: FutureWarning: The behavior of DataFrame concatenation with empty or all-NA entries is deprecated. In a future version, this will no longer exclude empty or all-NA columns when determining the result dtypes. To retain the old behavior, exclude the relevant entries before the concat operation.\n",
      "  df = pd.concat(\n",
      "[INFO 09-30 17:03:39] ax.early_stopping.strategies.base: The number of completed trials (1) is less than the minimum number of curves needed for early stopping (5). Not early stopping.\n"
     ]
    },
    {
     "name": "stderr",
     "output_type": "stream",
     "text": [
      "/Users/cristianlara/Projects/Ax-1.0/ax/core/map_data.py:195: FutureWarning: The behavior of DataFrame concatenation with empty or all-NA entries is deprecated. In a future version, this will no longer exclude empty or all-NA columns when determining the result dtypes. To retain the old behavior, exclude the relevant entries before the concat operation.\n",
      "  df = pd.concat(\n",
      "/Users/cristianlara/Projects/Ax-1.0/ax/modelbridge/cross_validation.py:463: UserWarning: Encountered exception in computing model fit quality: RandomModelBridge does not support prediction.\n",
      "  warn(\"Encountered exception in computing model fit quality: \" + str(e))\n",
      "[INFO 09-30 17:03:39] Scheduler: Running trials [7]...\n"
     ]
    },
    {
     "name": "stderr",
     "output_type": "stream",
     "text": [
      "[INFO 09-30 17:03:39] Scheduler: Generated all trials that can be generated currently. Model requires more data to generate more trials.\n"
     ]
    },
    {
     "name": "stderr",
     "output_type": "stream",
     "text": [
      "[WARNING 09-30 17:03:39] Scheduler: Both `init_seconds_between_polls` and `early_stopping_strategy supplied. `init_seconds_between_polls=1` will be overrridden by `early_stopping_strategy.seconds_between_polls=10` and polling will take place at a constant rate.\n"
     ]
    },
    {
     "name": "stderr",
     "output_type": "stream",
     "text": [
      "[INFO 09-30 17:03:39] Scheduler: Fetching data for newly completed trials: [].\n"
     ]
    },
    {
     "name": "stderr",
     "output_type": "stream",
     "text": [
      "[INFO 09-30 17:03:39] Scheduler: Fetching data for trials: 4 - 7 because some metrics on experiment are available while trials are running.\n"
     ]
    },
    {
     "name": "stderr",
     "output_type": "stream",
     "text": [
      "[INFO 09-30 17:03:39] ax.core.metric: MetricFetchE INFO: Initialized MetricFetchE(message=\"Failed to fetch data for val_acc\", exception=Found NaNs or Infs in data)\n",
      "with Traceback:\n",
      " Traceback (most recent call last):\n",
      "  File \"/Users/cristianlara/Projects/Ax-1.0/ax/metrics/tensorboard.py\", line 173, in bulk_fetch_trial_data\n",
      "    raise ValueError(\"Found NaNs or Infs in data\")\n",
      "ValueError: Found NaNs or Infs in data\n",
      "\n"
     ]
    },
    {
     "name": "stderr",
     "output_type": "stream",
     "text": [
      "[INFO 09-30 17:03:39] ax.core.metric: MetricFetchE INFO: Initialized MetricFetchE(message=\"No 'scalar' data found for trial in multiplexer mul=<tensorboard.backend.event_processing.plugin_event_multiplexer.EventMultiplexer object at 0x171d3a480>\")\n"
     ]
    },
    {
     "name": "stderr",
     "output_type": "stream",
     "text": [
      "[INFO 09-30 17:03:39] ax.core.metric: MetricFetchE INFO: Initialized MetricFetchE(message=\"No 'scalar' data found for trial in multiplexer mul=<tensorboard.backend.event_processing.plugin_event_multiplexer.EventMultiplexer object at 0x171d3a480>\")\n"
     ]
    },
    {
     "name": "stderr",
     "output_type": "stream",
     "text": [
      "[ERROR 09-30 17:03:39] ax.core.experiment: Discovered Metric fetching Err while attaching data MetricFetchE(message=\"Failed to fetch data for val_acc\", exception=Found NaNs or Infs in data)\n",
      "with Traceback:\n",
      " Traceback (most recent call last):\n",
      "  File \"/Users/cristianlara/Projects/Ax-1.0/ax/metrics/tensorboard.py\", line 173, in bulk_fetch_trial_data\n",
      "    raise ValueError(\"Found NaNs or Infs in data\")\n",
      "ValueError: Found NaNs or Infs in data\n",
      ". Ignoring for now -- will retry query on next call to fetch.\n"
     ]
    },
    {
     "name": "stderr",
     "output_type": "stream",
     "text": [
      "[ERROR 09-30 17:03:39] ax.core.experiment: Discovered Metric fetching Err while attaching data MetricFetchE(message=\"No 'scalar' data found for trial in multiplexer mul=<tensorboard.backend.event_processing.plugin_event_multiplexer.EventMultiplexer object at 0x171d3a480>\"). Ignoring for now -- will retry query on next call to fetch.\n"
     ]
    },
    {
     "name": "stderr",
     "output_type": "stream",
     "text": [
      "[ERROR 09-30 17:03:39] ax.core.experiment: Discovered Metric fetching Err while attaching data MetricFetchE(message=\"No 'scalar' data found for trial in multiplexer mul=<tensorboard.backend.event_processing.plugin_event_multiplexer.EventMultiplexer object at 0x171d3a480>\"). Ignoring for now -- will retry query on next call to fetch.\n"
     ]
    },
    {
     "name": "stderr",
     "output_type": "stream",
     "text": [
      "/Users/cristianlara/Projects/Ax-1.0/ax/core/map_data.py:195: FutureWarning: The behavior of DataFrame concatenation with empty or all-NA entries is deprecated. In a future version, this will no longer exclude empty or all-NA columns when determining the result dtypes. To retain the old behavior, exclude the relevant entries before the concat operation.\n",
      "  df = pd.concat(\n",
      "[WARNING 09-30 17:03:39] Scheduler: Failed to fetch val_acc for trial 4, found MetricFetchE(message=\"Failed to fetch data for val_acc\", exception=Found NaNs or Infs in data)\n",
      "with Traceback:\n",
      " Traceback (most recent call last):\n",
      "  File \"/Users/cristianlara/Projects/Ax-1.0/ax/metrics/tensorboard.py\", line 173, in bulk_fetch_trial_data\n",
      "    raise ValueError(\"Found NaNs or Infs in data\")\n",
      "ValueError: Found NaNs or Infs in data\n",
      ".\n"
     ]
    },
    {
     "name": "stderr",
     "output_type": "stream",
     "text": [
      "[INFO 09-30 17:03:39] Scheduler: MetricFetchE INFO: Because val_acc is available_while_running and trial 4 is still RUNNING continuing the experiment and retrying on next poll...\n"
     ]
    },
    {
     "name": "stderr",
     "output_type": "stream",
     "text": [
      "[WARNING 09-30 17:03:39] Scheduler: Failed to fetch val_acc for trial 6, found MetricFetchE(message=\"No 'scalar' data found for trial in multiplexer mul=<tensorboard.backend.event_processing.plugin_event_multiplexer.EventMultiplexer object at 0x171d3a480>\").\n"
     ]
    },
    {
     "name": "stderr",
     "output_type": "stream",
     "text": [
      "[INFO 09-30 17:03:39] Scheduler: MetricFetchE INFO: Because val_acc is available_while_running and trial 6 is still RUNNING continuing the experiment and retrying on next poll...\n"
     ]
    },
    {
     "name": "stderr",
     "output_type": "stream",
     "text": [
      "[WARNING 09-30 17:03:39] Scheduler: Failed to fetch val_acc for trial 7, found MetricFetchE(message=\"No 'scalar' data found for trial in multiplexer mul=<tensorboard.backend.event_processing.plugin_event_multiplexer.EventMultiplexer object at 0x171d3a480>\").\n"
     ]
    },
    {
     "name": "stderr",
     "output_type": "stream",
     "text": [
      "[INFO 09-30 17:03:39] Scheduler: MetricFetchE INFO: Because val_acc is available_while_running and trial 7 is still RUNNING continuing the experiment and retrying on next poll...\n"
     ]
    },
    {
     "name": "stderr",
     "output_type": "stream",
     "text": [
      "/Users/cristianlara/Projects/Ax-1.0/ax/core/map_data.py:195: FutureWarning: The behavior of DataFrame concatenation with empty or all-NA entries is deprecated. In a future version, this will no longer exclude empty or all-NA columns when determining the result dtypes. To retain the old behavior, exclude the relevant entries before the concat operation.\n",
      "  df = pd.concat(\n",
      "[INFO 09-30 17:03:39] ax.early_stopping.strategies.base: The number of completed trials (1) is less than the minimum number of curves needed for early stopping (5). Not early stopping.\n"
     ]
    },
    {
     "name": "stderr",
     "output_type": "stream",
     "text": [
      "[INFO 09-30 17:03:39] Scheduler: Waiting for completed trials (for 10 sec, currently running trials: 4).\n"
     ]
    },
    {
     "name": "stderr",
     "output_type": "stream",
     "text": [
      "[INFO 09-30 17:03:49] Scheduler: Fetching data for newly completed trials: 4 - 5.\n"
     ]
    },
    {
     "name": "stderr",
     "output_type": "stream",
     "text": [
      "[INFO 09-30 17:03:49] Scheduler: Fetching data for trials: 6 - 7 because some metrics on experiment are available while trials are running.\n"
     ]
    },
    {
     "name": "stderr",
     "output_type": "stream",
     "text": [
      "[INFO 09-30 17:03:49] Scheduler: Retrieved COMPLETED trials: 4 - 5.\n"
     ]
    },
    {
     "name": "stderr",
     "output_type": "stream",
     "text": [
      "[INFO 09-30 17:03:49] ax.core.metric: MetricFetchE INFO: Initialized MetricFetchE(message=\"Failed to fetch data for val_acc\", exception=Found NaNs or Infs in data)\n",
      "with Traceback:\n",
      " Traceback (most recent call last):\n",
      "  File \"/Users/cristianlara/Projects/Ax-1.0/ax/metrics/tensorboard.py\", line 173, in bulk_fetch_trial_data\n",
      "    raise ValueError(\"Found NaNs or Infs in data\")\n",
      "ValueError: Found NaNs or Infs in data\n",
      "\n"
     ]
    },
    {
     "name": "stderr",
     "output_type": "stream",
     "text": [
      "[INFO 09-30 17:03:49] ax.core.metric: MetricFetchE INFO: Initialized MetricFetchE(message=\"Failed to fetch data for val_acc\", exception=Found NaNs or Infs in data)\n",
      "with Traceback:\n",
      " Traceback (most recent call last):\n",
      "  File \"/Users/cristianlara/Projects/Ax-1.0/ax/metrics/tensorboard.py\", line 173, in bulk_fetch_trial_data\n",
      "    raise ValueError(\"Found NaNs or Infs in data\")\n",
      "ValueError: Found NaNs or Infs in data\n",
      "\n"
     ]
    },
    {
     "name": "stderr",
     "output_type": "stream",
     "text": [
      "[INFO 09-30 17:03:49] ax.core.metric: MetricFetchE INFO: Initialized MetricFetchE(message=\"No 'scalar' data found for trial in multiplexer mul=<tensorboard.backend.event_processing.plugin_event_multiplexer.EventMultiplexer object at 0x30fa46cc0>\")\n"
     ]
    },
    {
     "name": "stderr",
     "output_type": "stream",
     "text": [
      "[INFO 09-30 17:03:49] ax.core.metric: MetricFetchE INFO: Initialized MetricFetchE(message=\"No 'scalar' data found for trial in multiplexer mul=<tensorboard.backend.event_processing.plugin_event_multiplexer.EventMultiplexer object at 0x30fa46cc0>\")\n"
     ]
    },
    {
     "name": "stderr",
     "output_type": "stream",
     "text": [
      "[ERROR 09-30 17:03:49] ax.core.experiment: Discovered Metric fetching Err while attaching data MetricFetchE(message=\"Failed to fetch data for val_acc\", exception=Found NaNs or Infs in data)\n",
      "with Traceback:\n",
      " Traceback (most recent call last):\n",
      "  File \"/Users/cristianlara/Projects/Ax-1.0/ax/metrics/tensorboard.py\", line 173, in bulk_fetch_trial_data\n",
      "    raise ValueError(\"Found NaNs or Infs in data\")\n",
      "ValueError: Found NaNs or Infs in data\n",
      ". Ignoring for now -- will retry query on next call to fetch.\n"
     ]
    },
    {
     "name": "stderr",
     "output_type": "stream",
     "text": [
      "[ERROR 09-30 17:03:49] ax.core.experiment: Discovered Metric fetching Err while attaching data MetricFetchE(message=\"Failed to fetch data for val_acc\", exception=Found NaNs or Infs in data)\n",
      "with Traceback:\n",
      " Traceback (most recent call last):\n",
      "  File \"/Users/cristianlara/Projects/Ax-1.0/ax/metrics/tensorboard.py\", line 173, in bulk_fetch_trial_data\n",
      "    raise ValueError(\"Found NaNs or Infs in data\")\n",
      "ValueError: Found NaNs or Infs in data\n",
      ". Ignoring for now -- will retry query on next call to fetch.\n"
     ]
    },
    {
     "name": "stderr",
     "output_type": "stream",
     "text": [
      "[ERROR 09-30 17:03:49] ax.core.experiment: Discovered Metric fetching Err while attaching data MetricFetchE(message=\"No 'scalar' data found for trial in multiplexer mul=<tensorboard.backend.event_processing.plugin_event_multiplexer.EventMultiplexer object at 0x30fa46cc0>\"). Ignoring for now -- will retry query on next call to fetch.\n"
     ]
    },
    {
     "name": "stderr",
     "output_type": "stream",
     "text": [
      "[ERROR 09-30 17:03:49] ax.core.experiment: Discovered Metric fetching Err while attaching data MetricFetchE(message=\"No 'scalar' data found for trial in multiplexer mul=<tensorboard.backend.event_processing.plugin_event_multiplexer.EventMultiplexer object at 0x30fa46cc0>\"). Ignoring for now -- will retry query on next call to fetch.\n"
     ]
    },
    {
     "name": "stderr",
     "output_type": "stream",
     "text": [
      "[WARNING 09-30 17:03:49] Scheduler: Failed to fetch val_acc for trial 4, found MetricFetchE(message=\"Failed to fetch data for val_acc\", exception=Found NaNs or Infs in data)\n",
      "with Traceback:\n",
      " Traceback (most recent call last):\n",
      "  File \"/Users/cristianlara/Projects/Ax-1.0/ax/metrics/tensorboard.py\", line 173, in bulk_fetch_trial_data\n",
      "    raise ValueError(\"Found NaNs or Infs in data\")\n",
      "ValueError: Found NaNs or Infs in data\n",
      ".\n"
     ]
    },
    {
     "name": "stderr",
     "output_type": "stream",
     "text": [
      "[WARNING 09-30 17:03:49] Scheduler: MetricFetchE INFO: Because val_acc is an objective, marking trial 4 as TrialStatus.FAILED.\n"
     ]
    },
    {
     "name": "stderr",
     "output_type": "stream",
     "text": [
      "[WARNING 09-30 17:03:49] Scheduler: Failed to fetch val_acc for trial 5, found MetricFetchE(message=\"Failed to fetch data for val_acc\", exception=Found NaNs or Infs in data)\n",
      "with Traceback:\n",
      " Traceback (most recent call last):\n",
      "  File \"/Users/cristianlara/Projects/Ax-1.0/ax/metrics/tensorboard.py\", line 173, in bulk_fetch_trial_data\n",
      "    raise ValueError(\"Found NaNs or Infs in data\")\n",
      "ValueError: Found NaNs or Infs in data\n",
      ".\n"
     ]
    },
    {
     "name": "stderr",
     "output_type": "stream",
     "text": [
      "[WARNING 09-30 17:03:49] Scheduler: MetricFetchE INFO: Because val_acc is an objective, marking trial 5 as TrialStatus.FAILED.\n"
     ]
    },
    {
     "name": "stderr",
     "output_type": "stream",
     "text": [
      "[WARNING 09-30 17:03:49] Scheduler: Failed to fetch val_acc for trial 6, found MetricFetchE(message=\"No 'scalar' data found for trial in multiplexer mul=<tensorboard.backend.event_processing.plugin_event_multiplexer.EventMultiplexer object at 0x30fa46cc0>\").\n"
     ]
    },
    {
     "name": "stderr",
     "output_type": "stream",
     "text": [
      "[INFO 09-30 17:03:49] Scheduler: MetricFetchE INFO: Because val_acc is available_while_running and trial 6 is still RUNNING continuing the experiment and retrying on next poll...\n"
     ]
    },
    {
     "name": "stderr",
     "output_type": "stream",
     "text": [
      "[WARNING 09-30 17:03:49] Scheduler: Failed to fetch val_acc for trial 7, found MetricFetchE(message=\"No 'scalar' data found for trial in multiplexer mul=<tensorboard.backend.event_processing.plugin_event_multiplexer.EventMultiplexer object at 0x30fa46cc0>\").\n"
     ]
    },
    {
     "name": "stderr",
     "output_type": "stream",
     "text": [
      "[INFO 09-30 17:03:49] Scheduler: MetricFetchE INFO: Because val_acc is available_while_running and trial 7 is still RUNNING continuing the experiment and retrying on next poll...\n"
     ]
    },
    {
     "name": "stderr",
     "output_type": "stream",
     "text": [
      "/Users/cristianlara/Projects/Ax-1.0/ax/core/map_data.py:195: FutureWarning: The behavior of DataFrame concatenation with empty or all-NA entries is deprecated. In a future version, this will no longer exclude empty or all-NA columns when determining the result dtypes. To retain the old behavior, exclude the relevant entries before the concat operation.\n",
      "  df = pd.concat(\n",
      "[INFO 09-30 17:03:49] ax.early_stopping.strategies.base: The number of completed trials (1) is less than the minimum number of curves needed for early stopping (5). Not early stopping.\n"
     ]
    },
    {
     "name": "stderr",
     "output_type": "stream",
     "text": [
      "[WARNING 09-30 17:03:49] Scheduler: MetricFetchE INFO: Sweep aborted due to an exceeded error rate, which was primarily caused by failure to fetch metrics. Please check if anything could cause your metrics to be flaky or broken.\n"
     ]
    },
    {
     "ename": "FailureRateExceededError",
     "evalue": "Failure rate exceeds the tolerated trial failure rate of 0.5 (at least 5 out of first 6 trials failed or were abandoned). Checks are triggered both at the end of a optimization and if at least 5 trials have either failed, or have been abandoned, potentially automatically due to issues with the trial.",
     "output_type": "error",
     "traceback": [
      "\u001b[0;31m---------------------------------------------------------------------------\u001b[0m",
      "\u001b[0;31mFailureRateExceededError\u001b[0m                  Traceback (most recent call last)",
      "File \u001b[0;32m<timed eval>:1\u001b[0m\n",
      "File \u001b[0;32m~/Projects/Ax-1.0/ax/service/scheduler.py:1180\u001b[0m, in \u001b[0;36mScheduler.run_all_trials\u001b[0;34m(self, timeout_hours, idle_callback)\u001b[0m\n\u001b[1;32m   1173\u001b[0m \u001b[38;5;28;01mif\u001b[39;00m \u001b[38;5;28mself\u001b[39m\u001b[38;5;241m.\u001b[39moptions\u001b[38;5;241m.\u001b[39mtotal_trials \u001b[38;5;129;01mis\u001b[39;00m \u001b[38;5;28;01mNone\u001b[39;00m:\n\u001b[1;32m   1174\u001b[0m     \u001b[38;5;66;03m# NOTE: Capping on number of trials will likely be needed as fallback\u001b[39;00m\n\u001b[1;32m   1175\u001b[0m     \u001b[38;5;66;03m# for most stopping criteria, so we ensure `num_trials` is specified.\u001b[39;00m\n\u001b[1;32m   1176\u001b[0m     \u001b[38;5;28;01mraise\u001b[39;00m \u001b[38;5;167;01mValueError\u001b[39;00m(\n\u001b[1;32m   1177\u001b[0m         \u001b[38;5;124m\"\u001b[39m\u001b[38;5;124mPlease either specify `num_trials` in `SchedulerOptions` input \u001b[39m\u001b[38;5;124m\"\u001b[39m\n\u001b[1;32m   1178\u001b[0m         \u001b[38;5;124m\"\u001b[39m\u001b[38;5;124mto the `Scheduler` or use `run_n_trials` instead of `run_all_trials`.\u001b[39m\u001b[38;5;124m\"\u001b[39m\n\u001b[1;32m   1179\u001b[0m     )\n\u001b[0;32m-> 1180\u001b[0m \u001b[38;5;28;01mreturn\u001b[39;00m \u001b[38;5;28;43mself\u001b[39;49m\u001b[38;5;241;43m.\u001b[39;49m\u001b[43mrun_n_trials\u001b[49m\u001b[43m(\u001b[49m\n\u001b[1;32m   1181\u001b[0m \u001b[43m    \u001b[49m\u001b[43mmax_trials\u001b[49m\u001b[38;5;241;43m=\u001b[39;49m\u001b[43mnone_throws\u001b[49m\u001b[43m(\u001b[49m\u001b[38;5;28;43mself\u001b[39;49m\u001b[38;5;241;43m.\u001b[39;49m\u001b[43moptions\u001b[49m\u001b[38;5;241;43m.\u001b[39;49m\u001b[43mtotal_trials\u001b[49m\u001b[43m)\u001b[49m\u001b[43m,\u001b[49m\n\u001b[1;32m   1182\u001b[0m \u001b[43m    \u001b[49m\u001b[43mtimeout_hours\u001b[49m\u001b[38;5;241;43m=\u001b[39;49m\u001b[43mtimeout_hours\u001b[49m\u001b[43m,\u001b[49m\n\u001b[1;32m   1183\u001b[0m \u001b[43m    \u001b[49m\u001b[43midle_callback\u001b[49m\u001b[38;5;241;43m=\u001b[39;49m\u001b[43midle_callback\u001b[49m\u001b[43m,\u001b[49m\n\u001b[1;32m   1184\u001b[0m \u001b[43m\u001b[49m\u001b[43m)\u001b[49m\n",
      "File \u001b[0;32m~/Projects/Ax-1.0/ax/service/scheduler.py:1127\u001b[0m, in \u001b[0;36mScheduler.run_n_trials\u001b[0;34m(self, max_trials, ignore_global_stopping_strategy, timeout_hours, idle_callback)\u001b[0m\n\u001b[1;32m   1092\u001b[0m \u001b[38;5;250m\u001b[39m\u001b[38;5;124;03m\"\"\"Run up to ``max_trials`` trials; will run all ``max_trials`` unless\u001b[39;00m\n\u001b[1;32m   1093\u001b[0m \u001b[38;5;124;03mcompletion criterion is reached. For base ``Scheduler``, completion criterion\u001b[39;00m\n\u001b[1;32m   1094\u001b[0m \u001b[38;5;124;03mis reaching total number of trials set in ``SchedulerOptions``, so if that\u001b[39;00m\n\u001b[0;32m   (...)\u001b[0m\n\u001b[1;32m   1124\u001b[0m \u001b[38;5;124;03m    3\u001b[39;00m\n\u001b[1;32m   1125\u001b[0m \u001b[38;5;124;03m\"\"\"\u001b[39;00m\n\u001b[1;32m   1126\u001b[0m \u001b[38;5;28mself\u001b[39m\u001b[38;5;241m.\u001b[39mpoll_and_process_results()\n\u001b[0;32m-> 1127\u001b[0m \u001b[38;5;28;01mfor\u001b[39;00m _ \u001b[38;5;129;01min\u001b[39;00m \u001b[38;5;28mself\u001b[39m\u001b[38;5;241m.\u001b[39mrun_trials_and_yield_results(\n\u001b[1;32m   1128\u001b[0m     max_trials\u001b[38;5;241m=\u001b[39mmax_trials,\n\u001b[1;32m   1129\u001b[0m     ignore_global_stopping_strategy\u001b[38;5;241m=\u001b[39mignore_global_stopping_strategy,\n\u001b[1;32m   1130\u001b[0m     timeout_hours\u001b[38;5;241m=\u001b[39mtimeout_hours,\n\u001b[1;32m   1131\u001b[0m     idle_callback\u001b[38;5;241m=\u001b[39midle_callback,\n\u001b[1;32m   1132\u001b[0m ):\n\u001b[1;32m   1133\u001b[0m     \u001b[38;5;28;01mpass\u001b[39;00m\n\u001b[1;32m   1134\u001b[0m \u001b[38;5;28;01mreturn\u001b[39;00m \u001b[38;5;28mself\u001b[39m\u001b[38;5;241m.\u001b[39msummarize_final_result()\n",
      "File \u001b[0;32m~/Projects/Ax-1.0/ax/service/scheduler.py:1012\u001b[0m, in \u001b[0;36mScheduler.run_trials_and_yield_results\u001b[0;34m(self, max_trials, ignore_global_stopping_strategy, timeout_hours, idle_callback)\u001b[0m\n\u001b[1;32m   1007\u001b[0m \u001b[38;5;28mself\u001b[39m\u001b[38;5;241m.\u001b[39m_num_remaining_requested_trials \u001b[38;5;241m=\u001b[39m max_trials\n\u001b[1;32m   1008\u001b[0m \u001b[38;5;28;01mwhile\u001b[39;00m (\n\u001b[1;32m   1009\u001b[0m     \u001b[38;5;129;01mnot\u001b[39;00m \u001b[38;5;28mself\u001b[39m\u001b[38;5;241m.\u001b[39mshould_consider_optimization_complete()[\u001b[38;5;241m0\u001b[39m]\n\u001b[1;32m   1010\u001b[0m     \u001b[38;5;129;01mand\u001b[39;00m \u001b[38;5;28mself\u001b[39m\u001b[38;5;241m.\u001b[39m_num_remaining_requested_trials \u001b[38;5;241m>\u001b[39m \u001b[38;5;241m0\u001b[39m\n\u001b[1;32m   1011\u001b[0m ):\n\u001b[0;32m-> 1012\u001b[0m     \u001b[38;5;28;01mif\u001b[39;00m \u001b[38;5;28;43mself\u001b[39;49m\u001b[38;5;241;43m.\u001b[39;49m\u001b[43mshould_abort_optimization\u001b[49m\u001b[43m(\u001b[49m\u001b[43m)\u001b[49m:\n\u001b[1;32m   1013\u001b[0m         \u001b[38;5;28;01myield\u001b[39;00m \u001b[38;5;28mself\u001b[39m\u001b[38;5;241m.\u001b[39m_abort_optimization(num_preexisting_trials\u001b[38;5;241m=\u001b[39mn_existing)\n\u001b[1;32m   1014\u001b[0m         \u001b[38;5;28;01mreturn\u001b[39;00m\n",
      "File \u001b[0;32m~/Projects/Ax-1.0/ax/service/scheduler.py:864\u001b[0m, in \u001b[0;36mScheduler.should_abort_optimization\u001b[0;34m(self)\u001b[0m\n\u001b[1;32m    859\u001b[0m \u001b[38;5;250m\u001b[39m\u001b[38;5;124;03m\"\"\"Checks whether this scheduler has reached some intertuption / abort\u001b[39;00m\n\u001b[1;32m    860\u001b[0m \u001b[38;5;124;03mcriterion, such as an overall optimization timeout, tolerated failure rate, etc.\u001b[39;00m\n\u001b[1;32m    861\u001b[0m \u001b[38;5;124;03m\"\"\"\u001b[39;00m\n\u001b[1;32m    862\u001b[0m \u001b[38;5;66;03m# if failure rate is exceeded, raise an exception.\u001b[39;00m\n\u001b[1;32m    863\u001b[0m \u001b[38;5;66;03m# this check should precede others to ensure it is not skipped.\u001b[39;00m\n\u001b[0;32m--> 864\u001b[0m \u001b[38;5;28;43mself\u001b[39;49m\u001b[38;5;241;43m.\u001b[39;49m\u001b[43merror_if_failure_rate_exceeded\u001b[49m\u001b[43m(\u001b[49m\u001b[43m)\u001b[49m\n\u001b[1;32m    866\u001b[0m \u001b[38;5;66;03m# if optimization is timed out, return True, else return False\u001b[39;00m\n\u001b[1;32m    867\u001b[0m timed_out \u001b[38;5;241m=\u001b[39m (\n\u001b[1;32m    868\u001b[0m     \u001b[38;5;28mself\u001b[39m\u001b[38;5;241m.\u001b[39m_timeout_hours \u001b[38;5;129;01mis\u001b[39;00m \u001b[38;5;129;01mnot\u001b[39;00m \u001b[38;5;28;01mNone\u001b[39;00m\n\u001b[1;32m    869\u001b[0m     \u001b[38;5;129;01mand\u001b[39;00m \u001b[38;5;28mself\u001b[39m\u001b[38;5;241m.\u001b[39m_latest_optimization_start_timestamp \u001b[38;5;129;01mis\u001b[39;00m \u001b[38;5;129;01mnot\u001b[39;00m \u001b[38;5;28;01mNone\u001b[39;00m\n\u001b[0;32m   (...)\u001b[0m\n\u001b[1;32m    872\u001b[0m     \u001b[38;5;241m>\u001b[39m\u001b[38;5;241m=\u001b[39m none_throws(\u001b[38;5;28mself\u001b[39m\u001b[38;5;241m.\u001b[39m_timeout_hours) \u001b[38;5;241m*\u001b[39m \u001b[38;5;241m60\u001b[39m \u001b[38;5;241m*\u001b[39m \u001b[38;5;241m60\u001b[39m \u001b[38;5;241m*\u001b[39m \u001b[38;5;241m1000\u001b[39m\n\u001b[1;32m    873\u001b[0m )\n",
      "File \u001b[0;32m~/Projects/Ax-1.0/ax/service/scheduler.py:928\u001b[0m, in \u001b[0;36mScheduler.error_if_failure_rate_exceeded\u001b[0;34m(self, force_check)\u001b[0m\n\u001b[1;32m    920\u001b[0m \u001b[38;5;28;01mif\u001b[39;00m \u001b[38;5;28mself\u001b[39m\u001b[38;5;241m.\u001b[39m_num_trials_bad_due_to_err \u001b[38;5;241m>\u001b[39m num_bad_in_scheduler \u001b[38;5;241m/\u001b[39m \u001b[38;5;241m2\u001b[39m:\n\u001b[1;32m    921\u001b[0m     \u001b[38;5;28mself\u001b[39m\u001b[38;5;241m.\u001b[39mlogger\u001b[38;5;241m.\u001b[39mwarning(\n\u001b[1;32m    922\u001b[0m         \u001b[38;5;124m\"\u001b[39m\u001b[38;5;124mMetricFetchE INFO: Sweep aborted due to an exceeded error rate, \u001b[39m\u001b[38;5;124m\"\u001b[39m\n\u001b[1;32m    923\u001b[0m         \u001b[38;5;124m\"\u001b[39m\u001b[38;5;124mwhich was primarily caused by failure to fetch metrics. Please \u001b[39m\u001b[38;5;124m\"\u001b[39m\n\u001b[1;32m    924\u001b[0m         \u001b[38;5;124m\"\u001b[39m\u001b[38;5;124mcheck if anything could cause your metrics to be flaky or \u001b[39m\u001b[38;5;124m\"\u001b[39m\n\u001b[1;32m    925\u001b[0m         \u001b[38;5;124m\"\u001b[39m\u001b[38;5;124mbroken.\u001b[39m\u001b[38;5;124m\"\u001b[39m\n\u001b[1;32m    926\u001b[0m     )\n\u001b[0;32m--> 928\u001b[0m \u001b[38;5;28;01mraise\u001b[39;00m \u001b[38;5;28mself\u001b[39m\u001b[38;5;241m.\u001b[39m_get_failure_rate_exceeded_error(\n\u001b[1;32m    929\u001b[0m     num_bad_in_scheduler\u001b[38;5;241m=\u001b[39mnum_bad_in_scheduler,\n\u001b[1;32m    930\u001b[0m     num_ran_in_scheduler\u001b[38;5;241m=\u001b[39mnum_ran_in_scheduler,\n\u001b[1;32m    931\u001b[0m )\n",
      "\u001b[0;31mFailureRateExceededError\u001b[0m: Failure rate exceeds the tolerated trial failure rate of 0.5 (at least 5 out of first 6 trials failed or were abandoned). Checks are triggered both at the end of a optimization and if at least 5 trials have either failed, or have been abandoned, potentially automatically due to issues with the trial."
     ]
    }
   ],
   "source": [
    "%%time\n",
    "scheduler.run_all_trials()"
   ]
  },
  {
   "attachments": {},
   "cell_type": "markdown",
   "id": "8c5afbe8",
   "metadata": {
    "papermill": {
     "duration": 0.013691,
     "end_time": "2024-09-30T21:03:49.684042",
     "exception": false,
     "start_time": "2024-09-30T21:03:49.670351",
     "status": "completed"
    },
    "tags": []
   },
   "source": [
    "## Results\n",
    "\n",
    "First, we examine the data stored on the experiment. This shows that each trial is associated with an entire learning curve, represented by the column \"steps\"."
   ]
  },
  {
   "cell_type": "code",
   "execution_count": 15,
   "id": "764365f0",
   "metadata": {
    "execution": {
     "iopub.execute_input": "2024-09-30T21:03:49.718004Z",
     "iopub.status.busy": "2024-09-30T21:03:49.717833Z",
     "iopub.status.idle": "2024-09-30T21:03:49.740720Z",
     "shell.execute_reply": "2024-09-30T21:03:49.740342Z"
    },
    "papermill": {
     "duration": 0.039431,
     "end_time": "2024-09-30T21:03:49.741806",
     "exception": false,
     "start_time": "2024-09-30T21:03:49.702375",
     "status": "completed"
    },
    "tags": []
   },
   "outputs": [
    {
     "name": "stderr",
     "output_type": "stream",
     "text": [
      "/Users/cristianlara/Projects/Ax-1.0/ax/core/map_data.py:195: FutureWarning: The behavior of DataFrame concatenation with empty or all-NA entries is deprecated. In a future version, this will no longer exclude empty or all-NA columns when determining the result dtypes. To retain the old behavior, exclude the relevant entries before the concat operation.\n",
      "  df = pd.concat(\n"
     ]
    },
    {
     "data": {
      "text/html": [
       "<div>\n",
       "<style scoped>\n",
       "    .dataframe tbody tr th:only-of-type {\n",
       "        vertical-align: middle;\n",
       "    }\n",
       "\n",
       "    .dataframe tbody tr th {\n",
       "        vertical-align: top;\n",
       "    }\n",
       "\n",
       "    .dataframe thead th {\n",
       "        text-align: right;\n",
       "    }\n",
       "</style>\n",
       "<table border=\"1\" class=\"dataframe\">\n",
       "  <thead>\n",
       "    <tr style=\"text-align: right;\">\n",
       "      <th></th>\n",
       "      <th>arm_name</th>\n",
       "      <th>metric_name</th>\n",
       "      <th>mean</th>\n",
       "      <th>sem</th>\n",
       "      <th>trial_index</th>\n",
       "      <th>step</th>\n",
       "    </tr>\n",
       "  </thead>\n",
       "  <tbody>\n",
       "    <tr>\n",
       "      <th>0</th>\n",
       "      <td>1_0</td>\n",
       "      <td>val_acc</td>\n",
       "      <td>-5.518561e+29</td>\n",
       "      <td>NaN</td>\n",
       "      <td>1</td>\n",
       "      <td>1874.0</td>\n",
       "    </tr>\n",
       "    <tr>\n",
       "      <th>1</th>\n",
       "      <td>1_0</td>\n",
       "      <td>val_acc</td>\n",
       "      <td>3.639236e+31</td>\n",
       "      <td>NaN</td>\n",
       "      <td>1</td>\n",
       "      <td>3749.0</td>\n",
       "    </tr>\n",
       "    <tr>\n",
       "      <th>2</th>\n",
       "      <td>1_0</td>\n",
       "      <td>val_acc</td>\n",
       "      <td>1.321680e+31</td>\n",
       "      <td>NaN</td>\n",
       "      <td>1</td>\n",
       "      <td>5624.0</td>\n",
       "    </tr>\n",
       "    <tr>\n",
       "      <th>3</th>\n",
       "      <td>3_0</td>\n",
       "      <td>val_acc</td>\n",
       "      <td>-5.522221e+29</td>\n",
       "      <td>NaN</td>\n",
       "      <td>3</td>\n",
       "      <td>1874.0</td>\n",
       "    </tr>\n",
       "    <tr>\n",
       "      <th>4</th>\n",
       "      <td>3_0</td>\n",
       "      <td>val_acc</td>\n",
       "      <td>-4.508694e+29</td>\n",
       "      <td>NaN</td>\n",
       "      <td>3</td>\n",
       "      <td>3749.0</td>\n",
       "    </tr>\n",
       "    <tr>\n",
       "      <th>5</th>\n",
       "      <td>3_0</td>\n",
       "      <td>val_acc</td>\n",
       "      <td>-4.275498e+29</td>\n",
       "      <td>NaN</td>\n",
       "      <td>3</td>\n",
       "      <td>5624.0</td>\n",
       "    </tr>\n",
       "    <tr>\n",
       "      <th>6</th>\n",
       "      <td>3_0</td>\n",
       "      <td>val_acc</td>\n",
       "      <td>-5.048158e+29</td>\n",
       "      <td>NaN</td>\n",
       "      <td>3</td>\n",
       "      <td>7499.0</td>\n",
       "    </tr>\n",
       "    <tr>\n",
       "      <th>7</th>\n",
       "      <td>3_0</td>\n",
       "      <td>val_acc</td>\n",
       "      <td>-5.332893e+29</td>\n",
       "      <td>NaN</td>\n",
       "      <td>3</td>\n",
       "      <td>9374.0</td>\n",
       "    </tr>\n",
       "    <tr>\n",
       "      <th>8</th>\n",
       "      <td>3_0</td>\n",
       "      <td>val_acc</td>\n",
       "      <td>-2.855900e+29</td>\n",
       "      <td>NaN</td>\n",
       "      <td>3</td>\n",
       "      <td>11249.0</td>\n",
       "    </tr>\n",
       "    <tr>\n",
       "      <th>9</th>\n",
       "      <td>3_0</td>\n",
       "      <td>val_acc</td>\n",
       "      <td>-4.429684e+29</td>\n",
       "      <td>NaN</td>\n",
       "      <td>3</td>\n",
       "      <td>13124.0</td>\n",
       "    </tr>\n",
       "  </tbody>\n",
       "</table>\n",
       "</div>"
      ],
      "text/plain": [
       "  arm_name metric_name          mean  sem  trial_index     step\n",
       "0      1_0     val_acc -5.518561e+29  NaN            1   1874.0\n",
       "1      1_0     val_acc  3.639236e+31  NaN            1   3749.0\n",
       "2      1_0     val_acc  1.321680e+31  NaN            1   5624.0\n",
       "3      3_0     val_acc -5.522221e+29  NaN            3   1874.0\n",
       "4      3_0     val_acc -4.508694e+29  NaN            3   3749.0\n",
       "5      3_0     val_acc -4.275498e+29  NaN            3   5624.0\n",
       "6      3_0     val_acc -5.048158e+29  NaN            3   7499.0\n",
       "7      3_0     val_acc -5.332893e+29  NaN            3   9374.0\n",
       "8      3_0     val_acc -2.855900e+29  NaN            3  11249.0\n",
       "9      3_0     val_acc -4.429684e+29  NaN            3  13124.0"
      ]
     },
     "execution_count": 15,
     "metadata": {},
     "output_type": "execute_result"
    }
   ],
   "source": [
    "experiment.lookup_data().map_df.head(n=10)"
   ]
  },
  {
   "attachments": {},
   "cell_type": "markdown",
   "id": "0033ed2e",
   "metadata": {
    "papermill": {
     "duration": 0.013816,
     "end_time": "2024-09-30T21:03:49.771867",
     "exception": false,
     "start_time": "2024-09-30T21:03:49.758051",
     "status": "completed"
    },
    "tags": []
   },
   "source": [
    "Below is a summary of the experiment, showing that a portion of trials have been early stopped."
   ]
  },
  {
   "cell_type": "code",
   "execution_count": 16,
   "id": "00f2b35f",
   "metadata": {
    "execution": {
     "iopub.execute_input": "2024-09-30T21:03:49.800624Z",
     "iopub.status.busy": "2024-09-30T21:03:49.800476Z",
     "iopub.status.idle": "2024-09-30T21:03:49.821110Z",
     "shell.execute_reply": "2024-09-30T21:03:49.820827Z"
    },
    "papermill": {
     "duration": 0.035983,
     "end_time": "2024-09-30T21:03:49.822003",
     "exception": false,
     "start_time": "2024-09-30T21:03:49.786020",
     "status": "completed"
    },
    "tags": []
   },
   "outputs": [
    {
     "name": "stderr",
     "output_type": "stream",
     "text": [
      "/Users/cristianlara/Projects/Ax-1.0/ax/core/map_data.py:195: FutureWarning: The behavior of DataFrame concatenation with empty or all-NA entries is deprecated. In a future version, this will no longer exclude empty or all-NA columns when determining the result dtypes. To retain the old behavior, exclude the relevant entries before the concat operation.\n",
      "  df = pd.concat(\n",
      "[WARNING 09-30 17:03:49] ax.service.utils.report_utils: Column reason missing for all trials. Not appending column.\n"
     ]
    },
    {
     "data": {
      "text/html": [
       "<div>\n",
       "<style scoped>\n",
       "    .dataframe tbody tr th:only-of-type {\n",
       "        vertical-align: middle;\n",
       "    }\n",
       "\n",
       "    .dataframe tbody tr th {\n",
       "        vertical-align: top;\n",
       "    }\n",
       "\n",
       "    .dataframe thead th {\n",
       "        text-align: right;\n",
       "    }\n",
       "</style>\n",
       "<table border=\"1\" class=\"dataframe\">\n",
       "  <thead>\n",
       "    <tr style=\"text-align: right;\">\n",
       "      <th></th>\n",
       "      <th>trial_index</th>\n",
       "      <th>arm_name</th>\n",
       "      <th>trial_status</th>\n",
       "      <th>generation_method</th>\n",
       "      <th>val_acc</th>\n",
       "      <th>hidden_size_1</th>\n",
       "      <th>hidden_size_2</th>\n",
       "      <th>learning_rate</th>\n",
       "      <th>dropout</th>\n",
       "    </tr>\n",
       "  </thead>\n",
       "  <tbody>\n",
       "    <tr>\n",
       "      <th>0</th>\n",
       "      <td>0</td>\n",
       "      <td>0_0</td>\n",
       "      <td>FAILED</td>\n",
       "      <td>Sobol</td>\n",
       "      <td>NaN</td>\n",
       "      <td>22</td>\n",
       "      <td>85</td>\n",
       "      <td>0.009309</td>\n",
       "      <td>0.212433</td>\n",
       "    </tr>\n",
       "    <tr>\n",
       "      <th>1</th>\n",
       "      <td>1</td>\n",
       "      <td>1_0</td>\n",
       "      <td>FAILED</td>\n",
       "      <td>Sobol</td>\n",
       "      <td>1.321680e+31</td>\n",
       "      <td>92</td>\n",
       "      <td>23</td>\n",
       "      <td>0.000652</td>\n",
       "      <td>0.397744</td>\n",
       "    </tr>\n",
       "    <tr>\n",
       "      <th>2</th>\n",
       "      <td>2</td>\n",
       "      <td>2_0</td>\n",
       "      <td>FAILED</td>\n",
       "      <td>Sobol</td>\n",
       "      <td>NaN</td>\n",
       "      <td>67</td>\n",
       "      <td>59</td>\n",
       "      <td>0.002600</td>\n",
       "      <td>0.113261</td>\n",
       "    </tr>\n",
       "    <tr>\n",
       "      <th>3</th>\n",
       "      <td>3</td>\n",
       "      <td>3_0</td>\n",
       "      <td>COMPLETED</td>\n",
       "      <td>Sobol</td>\n",
       "      <td>-4.844701e+29</td>\n",
       "      <td>29</td>\n",
       "      <td>34</td>\n",
       "      <td>0.000182</td>\n",
       "      <td>0.309786</td>\n",
       "    </tr>\n",
       "    <tr>\n",
       "      <th>4</th>\n",
       "      <td>4</td>\n",
       "      <td>4_0</td>\n",
       "      <td>FAILED</td>\n",
       "      <td>Sobol</td>\n",
       "      <td>NaN</td>\n",
       "      <td>42</td>\n",
       "      <td>56</td>\n",
       "      <td>0.000362</td>\n",
       "      <td>0.338057</td>\n",
       "    </tr>\n",
       "    <tr>\n",
       "      <th>5</th>\n",
       "      <td>5</td>\n",
       "      <td>5_0</td>\n",
       "      <td>FAILED</td>\n",
       "      <td>Sobol</td>\n",
       "      <td>2.957741e+30</td>\n",
       "      <td>47</td>\n",
       "      <td>36</td>\n",
       "      <td>0.004476</td>\n",
       "      <td>0.020423</td>\n",
       "    </tr>\n",
       "    <tr>\n",
       "      <th>6</th>\n",
       "      <td>6</td>\n",
       "      <td>6_0</td>\n",
       "      <td>RUNNING</td>\n",
       "      <td>Sobol</td>\n",
       "      <td>NaN</td>\n",
       "      <td>100</td>\n",
       "      <td>118</td>\n",
       "      <td>0.000130</td>\n",
       "      <td>0.484715</td>\n",
       "    </tr>\n",
       "    <tr>\n",
       "      <th>7</th>\n",
       "      <td>7</td>\n",
       "      <td>7_0</td>\n",
       "      <td>RUNNING</td>\n",
       "      <td>Sobol</td>\n",
       "      <td>NaN</td>\n",
       "      <td>20</td>\n",
       "      <td>17</td>\n",
       "      <td>0.001605</td>\n",
       "      <td>0.186138</td>\n",
       "    </tr>\n",
       "  </tbody>\n",
       "</table>\n",
       "</div>"
      ],
      "text/plain": [
       "   trial_index arm_name trial_status generation_method       val_acc  \\\n",
       "0            0      0_0       FAILED             Sobol           NaN   \n",
       "1            1      1_0       FAILED             Sobol  1.321680e+31   \n",
       "2            2      2_0       FAILED             Sobol           NaN   \n",
       "3            3      3_0    COMPLETED             Sobol -4.844701e+29   \n",
       "4            4      4_0       FAILED             Sobol           NaN   \n",
       "5            5      5_0       FAILED             Sobol  2.957741e+30   \n",
       "6            6      6_0      RUNNING             Sobol           NaN   \n",
       "7            7      7_0      RUNNING             Sobol           NaN   \n",
       "\n",
       "   hidden_size_1  hidden_size_2  learning_rate   dropout  \n",
       "0             22             85       0.009309  0.212433  \n",
       "1             92             23       0.000652  0.397744  \n",
       "2             67             59       0.002600  0.113261  \n",
       "3             29             34       0.000182  0.309786  \n",
       "4             42             56       0.000362  0.338057  \n",
       "5             47             36       0.004476  0.020423  \n",
       "6            100            118       0.000130  0.484715  \n",
       "7             20             17       0.001605  0.186138  "
      ]
     },
     "execution_count": 16,
     "metadata": {},
     "output_type": "execute_result"
    }
   ],
   "source": [
    "exp_to_df(experiment)"
   ]
  },
  {
   "attachments": {},
   "cell_type": "markdown",
   "id": "f8909cf2",
   "metadata": {
    "papermill": {
     "duration": 0.013814,
     "end_time": "2024-09-30T21:03:49.849352",
     "exception": false,
     "start_time": "2024-09-30T21:03:49.835538",
     "status": "completed"
    },
    "tags": []
   },
   "source": [
    "We can give a very rough estimate of the amount of computational savings due to early stopping, by looking at the total number of steps used when early stopping is used versus the number of steps used if we ran all trials to completion. Note to do a true comparison, one should run full HPO loops with and without early stopping (as early stopping will influence the model and future points selected by the generation strategy). "
   ]
  },
  {
   "cell_type": "code",
   "execution_count": 17,
   "id": "5abb3ce8",
   "metadata": {
    "execution": {
     "iopub.execute_input": "2024-09-30T21:03:49.877347Z",
     "iopub.status.busy": "2024-09-30T21:03:49.877141Z",
     "iopub.status.idle": "2024-09-30T21:03:49.885575Z",
     "shell.execute_reply": "2024-09-30T21:03:49.885210Z"
    },
    "papermill": {
     "duration": 0.023567,
     "end_time": "2024-09-30T21:03:49.886494",
     "exception": false,
     "start_time": "2024-09-30T21:03:49.862927",
     "status": "completed"
    },
    "tags": []
   },
   "outputs": [
    {
     "name": "stdout",
     "output_type": "stream",
     "text": [
      "A rough estimate of the computational savings is -144.4760550023708%.\n"
     ]
    },
    {
     "name": "stderr",
     "output_type": "stream",
     "text": [
      "/Users/cristianlara/Projects/Ax-1.0/ax/core/map_data.py:195: FutureWarning: The behavior of DataFrame concatenation with empty or all-NA entries is deprecated. In a future version, this will no longer exclude empty or all-NA columns when determining the result dtypes. To retain the old behavior, exclude the relevant entries before the concat operation.\n",
      "  df = pd.concat(\n"
     ]
    }
   ],
   "source": [
    "map_df = experiment.lookup_data().map_df\n",
    "trial_to_max_steps = map_df.groupby(\"trial_index\")[\"step\"].max()\n",
    "completed_trial_steps = trial_to_max_steps.iloc[0]\n",
    "savings = 1.0 - trial_to_max_steps.sum() / (\n",
    "    completed_trial_steps * len(trial_to_max_steps)\n",
    ")\n",
    "# TODO format nicer\n",
    "print(f\"A rough estimate of the computational savings is {100 * savings}%.\")"
   ]
  },
  {
   "attachments": {},
   "cell_type": "markdown",
   "id": "37df6964",
   "metadata": {
    "papermill": {
     "duration": 0.013872,
     "end_time": "2024-09-30T21:03:49.914195",
     "exception": false,
     "start_time": "2024-09-30T21:03:49.900323",
     "status": "completed"
    },
    "tags": []
   },
   "source": [
    "## Visualizations\n",
    "\n",
    "Finally, we show a visualization of learning curves versus actual elapsed wall time. This helps to illustrate that stopped trials make room for additional trials to be run."
   ]
  },
  {
   "cell_type": "code",
   "execution_count": 18,
   "id": "c88cb8d0",
   "metadata": {
    "execution": {
     "iopub.execute_input": "2024-09-30T21:03:49.943150Z",
     "iopub.status.busy": "2024-09-30T21:03:49.942802Z",
     "iopub.status.idle": "2024-09-30T21:03:49.947029Z",
     "shell.execute_reply": "2024-09-30T21:03:49.946770Z"
    },
    "papermill": {
     "duration": 0.019896,
     "end_time": "2024-09-30T21:03:49.947835",
     "exception": false,
     "start_time": "2024-09-30T21:03:49.927939",
     "status": "completed"
    },
    "tags": []
   },
   "outputs": [],
   "source": [
    "# helper function for getting trial start times\n",
    "def time_started(row):\n",
    "    trial_index = row[\"trial_index\"]\n",
    "    return experiment.trials[trial_index].time_run_started\n",
    "\n",
    "\n",
    "# helper function for getting trial completion times\n",
    "def time_completed(row):\n",
    "    trial_index = row[\"trial_index\"]\n",
    "    return experiment.trials[trial_index].time_completed\n",
    "\n",
    "\n",
    "# helper function for getting relevant data from experiment\n",
    "# with early stopping into useful dfs\n",
    "def early_stopping_exp_to_df(experiment):\n",
    "    trials_df = exp_to_df(experiment)\n",
    "    curve_df = experiment.lookup_data().map_df\n",
    "    training_row_df = (\n",
    "        curve_df.groupby(\"trial_index\").max().reset_index()[[\"trial_index\", \"steps\"]]\n",
    "    )\n",
    "    trials_df = trials_df.merge(training_row_df, on=\"trial_index\")\n",
    "    trials_df[\"time_started\"] = trials_df.apply(func=time_started, axis=1)\n",
    "    trials_df[\"time_completed\"] = trials_df.apply(func=time_completed, axis=1)\n",
    "    start_time = trials_df[\"time_started\"].min()\n",
    "    trials_df[\"time_started_rel\"] = (\n",
    "        trials_df[\"time_started\"] - start_time\n",
    "    ).dt.total_seconds()\n",
    "    trials_df[\"time_completed_rel\"] = (\n",
    "        trials_df[\"time_completed\"] - start_time\n",
    "    ).dt.total_seconds()\n",
    "    return trials_df, curve_df\n",
    "\n",
    "\n",
    "def plot_curves_by_wall_time(trials_df, curve_df):\n",
    "    trials = set(curve_df[\"trial_index\"])\n",
    "    fig, ax = plt.subplots(1, 1, figsize=(10, 6))\n",
    "    ax.set(xlabel=\"seconds since start\", ylabel=\"validation accuracy\")\n",
    "    for trial_index in trials:\n",
    "        this_trial_df = curve_df[curve_df[\"trial_index\"] == trial_index]\n",
    "        start_time_rel = trials_df[\"time_started_rel\"].iloc[trial_index]\n",
    "        completed_time_rel = trials_df[\"time_completed_rel\"].iloc[trial_index]\n",
    "        total_steps = trials_df.loc[trial_index, \"steps\"]\n",
    "        smoothed_curve = this_trial_df[\"mean\"].rolling(window=3).mean()\n",
    "        x = (\n",
    "            start_time_rel\n",
    "            + (completed_time_rel - start_time_rel)\n",
    "            / total_steps\n",
    "            * this_trial_df[\"steps\"]\n",
    "        )\n",
    "        ax.plot(\n",
    "            x,\n",
    "            smoothed_curve,\n",
    "            label=f\"trial #{trial_index}\" if trial_index % 2 == 1 else None,\n",
    "        )\n",
    "    ax.legend()"
   ]
  },
  {
   "cell_type": "code",
   "execution_count": 19,
   "id": "d7f52fed",
   "metadata": {
    "execution": {
     "iopub.execute_input": "2024-09-30T21:03:49.976298Z",
     "iopub.status.busy": "2024-09-30T21:03:49.976136Z",
     "iopub.status.idle": "2024-09-30T21:03:49.993189Z",
     "shell.execute_reply": "2024-09-30T21:03:49.992779Z"
    },
    "papermill": {
     "duration": 0.032788,
     "end_time": "2024-09-30T21:03:49.994391",
     "exception": false,
     "start_time": "2024-09-30T21:03:49.961603",
     "status": "completed"
    },
    "tags": []
   },
   "outputs": [
    {
     "name": "stderr",
     "output_type": "stream",
     "text": [
      "/Users/cristianlara/Projects/Ax-1.0/ax/core/map_data.py:195: FutureWarning: The behavior of DataFrame concatenation with empty or all-NA entries is deprecated. In a future version, this will no longer exclude empty or all-NA columns when determining the result dtypes. To retain the old behavior, exclude the relevant entries before the concat operation.\n",
      "  df = pd.concat(\n",
      "[WARNING 09-30 17:03:49] ax.service.utils.report_utils: Column reason missing for all trials. Not appending column.\n"
     ]
    },
    {
     "name": "stdout",
     "output_type": "stream",
     "text": [
      "Encountered exception while plotting results: \"['steps'] not in index\"\n"
     ]
    },
    {
     "name": "stderr",
     "output_type": "stream",
     "text": [
      "/Users/cristianlara/Projects/Ax-1.0/ax/core/map_data.py:195: FutureWarning: The behavior of DataFrame concatenation with empty or all-NA entries is deprecated. In a future version, this will no longer exclude empty or all-NA columns when determining the result dtypes. To retain the old behavior, exclude the relevant entries before the concat operation.\n",
      "  df = pd.concat(\n"
     ]
    }
   ],
   "source": [
    "# wrap in try/except in case of flaky I/O issues\n",
    "try:\n",
    "    trials_df, curve_df = early_stopping_exp_to_df(experiment)\n",
    "    plot_curves_by_wall_time(trials_df, curve_df)\n",
    "except Exception as e:\n",
    "    print(f\"Encountered exception while plotting results: {e}\")"
   ]
  },
  {
   "cell_type": "code",
   "execution_count": null,
   "id": "193e2fc7",
   "metadata": {
    "papermill": {
     "duration": 0.013796,
     "end_time": "2024-09-30T21:03:50.022294",
     "exception": false,
     "start_time": "2024-09-30T21:03:50.008498",
     "status": "completed"
    },
    "tags": []
   },
   "outputs": [],
   "source": []
  }
 ],
 "metadata": {
  "kernelspec": {
   "display_name": "Python 3 (ipykernel)",
   "language": "python",
   "name": "python3"
  },
  "language_info": {
   "codemirror_mode": {
    "name": "ipython",
    "version": 3
   },
   "file_extension": ".py",
   "mimetype": "text/x-python",
   "name": "python",
   "nbconvert_exporter": "python",
   "pygments_lexer": "ipython3",
   "version": "3.12.5"
  },
  "papermill": {
   "default_parameters": {},
   "duration": 252.426865,
   "end_time": "2024-09-30T21:03:52.706108",
   "environment_variables": {},
   "exception": null,
   "input_path": "tutorials/early_stopping/early_stopping.ipynb",
   "output_path": "tutorials/early_stopping/early_stopping.ipynb",
   "parameters": {},
   "start_time": "2024-09-30T20:59:40.279243",
   "version": "2.6.0"
  }
 },
 "nbformat": 4,
 "nbformat_minor": 5
}